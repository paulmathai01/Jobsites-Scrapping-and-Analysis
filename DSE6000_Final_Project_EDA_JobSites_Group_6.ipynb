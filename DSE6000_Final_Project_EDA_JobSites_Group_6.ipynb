{
  "nbformat": 4,
  "nbformat_minor": 0,
  "metadata": {
    "colab": {
      "name": "DSE6000_Final_Project_EDA_JobSites_Group 6.ipynb",
      "provenance": [],
      "collapsed_sections": []
    },
    "kernelspec": {
      "display_name": "Python 3",
      "language": "python",
      "name": "python3"
    },
    "language_info": {
      "codemirror_mode": {
        "name": "ipython",
        "version": 3
      },
      "file_extension": ".py",
      "mimetype": "text/x-python",
      "name": "python",
      "nbconvert_exporter": "python",
      "pygments_lexer": "ipython3",
      "version": "3.7.4"
    }
  },
  "cells": [
    {
      "cell_type": "markdown",
      "metadata": {
        "colab_type": "text",
        "id": "LIEKHaDUl0UV"
      },
      "source": [
        "# DSE6000: Final Project: EDA on Job Site\n",
        "\n",
        "## DSE6000_Fall2019 Final Project\n",
        "Group 6: Theju Gowda, Mathai Paul, Sarah Hamad and Rajpal Virk\n",
        "\n",
        "## Introduction\n",
        "A comprehensive analysis was completed on jobsites with the purpose of gathering information that will give impactful insights to a potential job seeker and to employers as well. However, it is almost impossible to gather and comprehend the information provided from the different jobsites by merely visiting the sites and looking at it. In order to gather information, we applied web scrapping using BeautifulSoup. In this analysis, large amounts of data, approximately 20,000 records, was scraped from different jobsites and a data frame was created. Then the scraped data was cleaned and an extensive analysis was performed. This analysis focused and derived great insights on the following extracted information: job titles, companies seeking for employment, location of job postings, salaries and skill sets required.\n"
      ]
    },
    {
      "cell_type": "markdown",
      "metadata": {
        "colab_type": "text",
        "id": "XfBtTYC9tim1"
      },
      "source": [
        "## Step 1: Loading & Understanding Dataset\n",
        "### 1.1 Loading necessary libraries\n",
        "The necessary libraries were loaded to import the dataset, analyze and visualize it."
      ]
    },
    {
      "cell_type": "code",
      "metadata": {
        "colab_type": "code",
        "id": "HzDL8UMTcFcn",
        "colab": {}
      },
      "source": [
        "#Load required packages.\n",
        "import seaborn as sns\n",
        "import matplotlib.pyplot as plt\n",
        "import pandas as pd\n",
        "import numpy as np\n",
        "%matplotlib inline"
      ],
      "execution_count": 0,
      "outputs": []
    },
    {
      "cell_type": "markdown",
      "metadata": {
        "colab_type": "text",
        "id": "igzC3OEAxHxJ"
      },
      "source": [
        "### 1.2 Loading Dataset\n",
        "Dataset is imported from google cloud storage bucket and named \"Jobsite_df\"."
      ]
    },
    {
      "cell_type": "code",
      "metadata": {
        "colab_type": "code",
        "id": "2_X82A54dgiK",
        "colab": {}
      },
      "source": [
        "#Load the dataset from google bucket.\n",
        "Jobsite_df= pd.read_excel('https://storage.googleapis.com/job-new/Jobdata1.xlsx')"
      ],
      "execution_count": 0,
      "outputs": []
    },
    {
      "cell_type": "markdown",
      "metadata": {
        "colab_type": "text",
        "id": "740BpkEwE6PB"
      },
      "source": [
        "### 1.3 Reviewing Dataset"
      ]
    },
    {
      "cell_type": "code",
      "metadata": {
        "colab_type": "code",
        "id": "bEFuStJUVppM",
        "outputId": "218bb5dd-a87c-4828-f83a-02d4876c49dc",
        "colab": {
          "base_uri": "https://localhost:8080/",
          "height": 306
        }
      },
      "source": [
        "# Viewing dataset\n",
        "Jobsite_df.head()"
      ],
      "execution_count": 0,
      "outputs": [
        {
          "output_type": "execute_result",
          "data": {
            "text/html": [
              "<div>\n",
              "<style scoped>\n",
              "    .dataframe tbody tr th:only-of-type {\n",
              "        vertical-align: middle;\n",
              "    }\n",
              "\n",
              "    .dataframe tbody tr th {\n",
              "        vertical-align: top;\n",
              "    }\n",
              "\n",
              "    .dataframe thead th {\n",
              "        text-align: right;\n",
              "    }\n",
              "</style>\n",
              "<table border=\"1\" class=\"dataframe\">\n",
              "  <thead>\n",
              "    <tr style=\"text-align: right;\">\n",
              "      <th></th>\n",
              "      <th>Number</th>\n",
              "      <th>Title</th>\n",
              "      <th>Company</th>\n",
              "      <th>City</th>\n",
              "      <th>State</th>\n",
              "      <th>Zip</th>\n",
              "      <th>Country</th>\n",
              "      <th>Salary</th>\n",
              "      <th>MinSalary</th>\n",
              "      <th>MaxSalary</th>\n",
              "      <th>AvgSalary</th>\n",
              "      <th>Rating</th>\n",
              "      <th>Summary</th>\n",
              "      <th>Website</th>\n",
              "      <th>Type of Job</th>\n",
              "      <th>Level of Job</th>\n",
              "    </tr>\n",
              "  </thead>\n",
              "  <tbody>\n",
              "    <tr>\n",
              "      <th>0</th>\n",
              "      <td>1</td>\n",
              "      <td>Data Engineer</td>\n",
              "      <td>Seen by Indeed</td>\n",
              "      <td>NaN</td>\n",
              "      <td>NaN</td>\n",
              "      <td>NaN</td>\n",
              "      <td>USA</td>\n",
              "      <td>0</td>\n",
              "      <td>0</td>\n",
              "      <td>0</td>\n",
              "      <td>0.0</td>\n",
              "      <td>NaN</td>\n",
              "      <td>Get started ‚Äö√Ñ√¨ Complete a 5-minute appli...</td>\n",
              "      <td>Indeed.com</td>\n",
              "      <td>Data Engineer</td>\n",
              "      <td>NaN</td>\n",
              "    </tr>\n",
              "    <tr>\n",
              "      <th>1</th>\n",
              "      <td>2</td>\n",
              "      <td>Jr. Machine Learning/Data science</td>\n",
              "      <td>People tech group</td>\n",
              "      <td>NaN</td>\n",
              "      <td>NaN</td>\n",
              "      <td>NaN</td>\n",
              "      <td>USA</td>\n",
              "      <td>0</td>\n",
              "      <td>0</td>\n",
              "      <td>0</td>\n",
              "      <td>0.0</td>\n",
              "      <td>3.8</td>\n",
              "      <td>Machine Learning/ Data Science Engineer*.Work...</td>\n",
              "      <td>Indeed.com</td>\n",
              "      <td>AI/ML</td>\n",
              "      <td>Entry Level</td>\n",
              "    </tr>\n",
              "    <tr>\n",
              "      <th>2</th>\n",
              "      <td>3</td>\n",
              "      <td>Senior Data Warehouse Engineer</td>\n",
              "      <td>MileOne Autogroup</td>\n",
              "      <td>NaN</td>\n",
              "      <td>NaN</td>\n",
              "      <td>NaN</td>\n",
              "      <td>USA</td>\n",
              "      <td>0</td>\n",
              "      <td>0</td>\n",
              "      <td>0</td>\n",
              "      <td>0.0</td>\n",
              "      <td>2.8</td>\n",
              "      <td>Must have at least 5 years‚Äö√Ñ√¥ experience ...</td>\n",
              "      <td>Indeed.com</td>\n",
              "      <td>Data Engineer</td>\n",
              "      <td>Senior</td>\n",
              "    </tr>\n",
              "    <tr>\n",
              "      <th>3</th>\n",
              "      <td>4</td>\n",
              "      <td>Data Scientist</td>\n",
              "      <td>OneGlobe LLC</td>\n",
              "      <td>NaN</td>\n",
              "      <td>NaN</td>\n",
              "      <td>NaN</td>\n",
              "      <td>USA</td>\n",
              "      <td>0</td>\n",
              "      <td>0</td>\n",
              "      <td>0</td>\n",
              "      <td>0.0</td>\n",
              "      <td>NaN</td>\n",
              "      <td>Analyze system data and creating statistical ...</td>\n",
              "      <td>Indeed.com</td>\n",
              "      <td>Data Scientist</td>\n",
              "      <td>NaN</td>\n",
              "    </tr>\n",
              "    <tr>\n",
              "      <th>4</th>\n",
              "      <td>5</td>\n",
              "      <td>Sr. Data Engineer</td>\n",
              "      <td>Gravity Technology Solutions</td>\n",
              "      <td>NaN</td>\n",
              "      <td>NaN</td>\n",
              "      <td>NaN</td>\n",
              "      <td>USA</td>\n",
              "      <td>$130,000 - $150,000 a year</td>\n",
              "      <td>130000</td>\n",
              "      <td>150000</td>\n",
              "      <td>140000.0</td>\n",
              "      <td>NaN</td>\n",
              "      <td>The data engineer will work directly with pro...</td>\n",
              "      <td>Indeed.com</td>\n",
              "      <td>Data Engineer</td>\n",
              "      <td>Senior</td>\n",
              "    </tr>\n",
              "  </tbody>\n",
              "</table>\n",
              "</div>"
            ],
            "text/plain": [
              "   Number                              Title  ...     Type of Job Level of Job\n",
              "0       1                      Data Engineer  ...   Data Engineer          NaN\n",
              "1       2  Jr. Machine Learning/Data science  ...           AI/ML  Entry Level\n",
              "2       3     Senior Data Warehouse Engineer  ...   Data Engineer       Senior\n",
              "3       4                     Data Scientist  ...  Data Scientist          NaN\n",
              "4       5                  Sr. Data Engineer  ...   Data Engineer       Senior\n",
              "\n",
              "[5 rows x 16 columns]"
            ]
          },
          "metadata": {
            "tags": []
          },
          "execution_count": 121
        }
      ]
    },
    {
      "cell_type": "code",
      "metadata": {
        "colab_type": "code",
        "id": "oJyBC5QME6PE",
        "outputId": "ee11ff1c-22da-4322-e652-c1310caf14ed",
        "colab": {
          "base_uri": "https://localhost:8080/",
          "height": 34
        }
      },
      "source": [
        "Jobsite_df.shape"
      ],
      "execution_count": 0,
      "outputs": [
        {
          "output_type": "execute_result",
          "data": {
            "text/plain": [
              "(1385, 16)"
            ]
          },
          "metadata": {
            "tags": []
          },
          "execution_count": 122
        }
      ]
    },
    {
      "cell_type": "markdown",
      "metadata": {
        "colab_type": "text",
        "id": "xxUuIqUqE6PG"
      },
      "source": [
        "#### Our dataset has 1385 observations. There is 1 Job Index and 15 different features associated with each indexed job. \n"
      ]
    },
    {
      "cell_type": "markdown",
      "metadata": {
        "colab_type": "text",
        "id": "VJYt3GqCE6PH"
      },
      "source": [
        "## Step 2: Cleaning dataset\n",
        "Dataset is initially cleaned using Microsoft Excel. The following steps are taken for additional cleaning of the dataset."
      ]
    },
    {
      "cell_type": "markdown",
      "metadata": {
        "colab_type": "text",
        "id": "k77k31bpE6PH"
      },
      "source": [
        "### 2.1 Removing unwanted information.\n",
        "The \"Seen by Indeed\" infomration is not useful in this analysis so it is removed."
      ]
    },
    {
      "cell_type": "code",
      "metadata": {
        "colab_type": "code",
        "id": "t9eCownHXwAj",
        "outputId": "4057cb63-4dfa-489c-caaa-bfee5c7caff9",
        "colab": {
          "base_uri": "https://localhost:8080/",
          "height": 323
        }
      },
      "source": [
        "indexNames = Jobsite_df[ Jobsite_df[\"Company\"] == \"Seen by Indeed\" ].index\n",
        "Jobsite_df.drop(indexNames , inplace=True)\n",
        "Jobsite_df.head()"
      ],
      "execution_count": 0,
      "outputs": [
        {
          "output_type": "execute_result",
          "data": {
            "text/html": [
              "<div>\n",
              "<style scoped>\n",
              "    .dataframe tbody tr th:only-of-type {\n",
              "        vertical-align: middle;\n",
              "    }\n",
              "\n",
              "    .dataframe tbody tr th {\n",
              "        vertical-align: top;\n",
              "    }\n",
              "\n",
              "    .dataframe thead th {\n",
              "        text-align: right;\n",
              "    }\n",
              "</style>\n",
              "<table border=\"1\" class=\"dataframe\">\n",
              "  <thead>\n",
              "    <tr style=\"text-align: right;\">\n",
              "      <th></th>\n",
              "      <th>Number</th>\n",
              "      <th>Title</th>\n",
              "      <th>Company</th>\n",
              "      <th>City</th>\n",
              "      <th>State</th>\n",
              "      <th>Zip</th>\n",
              "      <th>Country</th>\n",
              "      <th>Salary</th>\n",
              "      <th>MinSalary</th>\n",
              "      <th>MaxSalary</th>\n",
              "      <th>AvgSalary</th>\n",
              "      <th>Rating</th>\n",
              "      <th>Summary</th>\n",
              "      <th>Website</th>\n",
              "      <th>Type of Job</th>\n",
              "      <th>Level of Job</th>\n",
              "    </tr>\n",
              "  </thead>\n",
              "  <tbody>\n",
              "    <tr>\n",
              "      <th>1</th>\n",
              "      <td>2</td>\n",
              "      <td>Jr. Machine Learning/Data science</td>\n",
              "      <td>People tech group</td>\n",
              "      <td>NaN</td>\n",
              "      <td>NaN</td>\n",
              "      <td>NaN</td>\n",
              "      <td>USA</td>\n",
              "      <td>0</td>\n",
              "      <td>0</td>\n",
              "      <td>0</td>\n",
              "      <td>0.0</td>\n",
              "      <td>3.8</td>\n",
              "      <td>Machine Learning/ Data Science Engineer*.Work...</td>\n",
              "      <td>Indeed.com</td>\n",
              "      <td>AI/ML</td>\n",
              "      <td>Entry Level</td>\n",
              "    </tr>\n",
              "    <tr>\n",
              "      <th>2</th>\n",
              "      <td>3</td>\n",
              "      <td>Senior Data Warehouse Engineer</td>\n",
              "      <td>MileOne Autogroup</td>\n",
              "      <td>NaN</td>\n",
              "      <td>NaN</td>\n",
              "      <td>NaN</td>\n",
              "      <td>USA</td>\n",
              "      <td>0</td>\n",
              "      <td>0</td>\n",
              "      <td>0</td>\n",
              "      <td>0.0</td>\n",
              "      <td>2.8</td>\n",
              "      <td>Must have at least 5 years‚Äö√Ñ√¥ experience ...</td>\n",
              "      <td>Indeed.com</td>\n",
              "      <td>Data Engineer</td>\n",
              "      <td>Senior</td>\n",
              "    </tr>\n",
              "    <tr>\n",
              "      <th>3</th>\n",
              "      <td>4</td>\n",
              "      <td>Data Scientist</td>\n",
              "      <td>OneGlobe LLC</td>\n",
              "      <td>NaN</td>\n",
              "      <td>NaN</td>\n",
              "      <td>NaN</td>\n",
              "      <td>USA</td>\n",
              "      <td>0</td>\n",
              "      <td>0</td>\n",
              "      <td>0</td>\n",
              "      <td>0.0</td>\n",
              "      <td>NaN</td>\n",
              "      <td>Analyze system data and creating statistical ...</td>\n",
              "      <td>Indeed.com</td>\n",
              "      <td>Data Scientist</td>\n",
              "      <td>NaN</td>\n",
              "    </tr>\n",
              "    <tr>\n",
              "      <th>4</th>\n",
              "      <td>5</td>\n",
              "      <td>Sr. Data Engineer</td>\n",
              "      <td>Gravity Technology Solutions</td>\n",
              "      <td>NaN</td>\n",
              "      <td>NaN</td>\n",
              "      <td>NaN</td>\n",
              "      <td>USA</td>\n",
              "      <td>$130,000 - $150,000 a year</td>\n",
              "      <td>130000</td>\n",
              "      <td>150000</td>\n",
              "      <td>140000.0</td>\n",
              "      <td>NaN</td>\n",
              "      <td>The data engineer will work directly with pro...</td>\n",
              "      <td>Indeed.com</td>\n",
              "      <td>Data Engineer</td>\n",
              "      <td>Senior</td>\n",
              "    </tr>\n",
              "    <tr>\n",
              "      <th>5</th>\n",
              "      <td>6</td>\n",
              "      <td>2020 Artificial Intelligence / Machine Learnin...</td>\n",
              "      <td>Miso</td>\n",
              "      <td>NaN</td>\n",
              "      <td>NaN</td>\n",
              "      <td>NaN</td>\n",
              "      <td>USA</td>\n",
              "      <td>0</td>\n",
              "      <td>0</td>\n",
              "      <td>0</td>\n",
              "      <td>0.0</td>\n",
              "      <td>3.6</td>\n",
              "      <td>You‚Äö√Ñ√¥ll have a manager and mentor with t...</td>\n",
              "      <td>Indeed.com</td>\n",
              "      <td>AI/ML</td>\n",
              "      <td>Intern</td>\n",
              "    </tr>\n",
              "  </tbody>\n",
              "</table>\n",
              "</div>"
            ],
            "text/plain": [
              "   Number  ... Level of Job\n",
              "1       2  ...  Entry Level\n",
              "2       3  ...       Senior\n",
              "3       4  ...          NaN\n",
              "4       5  ...       Senior\n",
              "5       6  ...       Intern\n",
              "\n",
              "[5 rows x 16 columns]"
            ]
          },
          "metadata": {
            "tags": []
          },
          "execution_count": 123
        }
      ]
    },
    {
      "cell_type": "markdown",
      "metadata": {
        "colab_type": "text",
        "id": "XckkFykpE6PJ"
      },
      "source": [
        "### 2.2 Cleaning column names\n",
        "We removed spaces from column names and changed column names to lower case. "
      ]
    },
    {
      "cell_type": "code",
      "metadata": {
        "colab_type": "code",
        "id": "3RacdjQyE6PJ",
        "outputId": "2492f919-f6ad-4dab-b458-0a69385dd37f",
        "colab": {
          "base_uri": "https://localhost:8080/",
          "height": 85
        }
      },
      "source": [
        "#Changing column heads with no spaces and lower case.\n",
        "Jobsite_df.columns = Jobsite_df.columns.str.replace(' ','')\n",
        "Jobsite_df.columns = Jobsite_df.columns.str.lower()\n",
        "Jobsite_df.columns"
      ],
      "execution_count": 0,
      "outputs": [
        {
          "output_type": "execute_result",
          "data": {
            "text/plain": [
              "Index(['number', 'title', 'company', 'city', 'state', 'zip', 'country',\n",
              "       'salary', 'minsalary', 'maxsalary', 'avgsalary', 'rating', 'summary',\n",
              "       'website', 'typeofjob', 'levelofjob'],\n",
              "      dtype='object')"
            ]
          },
          "metadata": {
            "tags": []
          },
          "execution_count": 124
        }
      ]
    },
    {
      "cell_type": "markdown",
      "metadata": {
        "colab_type": "text",
        "id": "SWJpsHPkE6PL"
      },
      "source": [
        "### 2.3 Removing special characters and spaces from summary data.\n",
        "We removed unwanted characters such as line break, slashes, symbols etc. from summary column for easier execution of codes and extraction of words. "
      ]
    },
    {
      "cell_type": "code",
      "metadata": {
        "colab_type": "code",
        "id": "UDhofyctE6PL",
        "outputId": "9682d5ef-74a8-4a76-d044-751dc171e7c4",
        "colab": {
          "base_uri": "https://localhost:8080/",
          "height": 241
        }
      },
      "source": [
        "#Removing unwanted characters.\n",
        "Jobsite_df.summary = Jobsite_df.summary.str.replace(\"\\n\", \" \")\n",
        "Jobsite_df.summary = Jobsite_df.summary.str.replace(\"/\", \" \" )\n",
        "Jobsite_df.summary = Jobsite_df.summary.str.replace(\"Äö√Ñ√¥s\",\" \")\n",
        "\n",
        "Jobsite_df.summary.value_counts()\n",
        "\n",
        "#Change summary to lower case.\n",
        "Jobsite_df.summary = Jobsite_df.summary.str.lower()\n",
        "\n",
        "Jobsite_df.summary.value_counts()"
      ],
      "execution_count": 0,
      "outputs": [
        {
          "output_type": "execute_result",
          "data": {
            "text/plain": [
              "skillssql tableau 401(k) data warehouse ssrs benefitspaid time off 401(k) matchingwho we are:  freedom financial network is a family of companies that takes a people-first approach to financial services, using technology to empower consumers to overcome debt and create a brighter financial future. the company was founded in 2002 by brad stroh and andrew housser on the belief that by staying committed to helping people, you can ensure better financial outcomes for both the customer and the business. this heart + $ philosophy still guides the vision of our growing company, which has helped millions of people find solutions for their financial needs.    what began with 2 people in a spare bedroom has now rapidly expanded to a vibrant business that employs over 2,200 employees (known internally as the freedom family) in two locations: san mateo, ca and tempe, az. when you visit either of our offices, you’ll understand why our employees have voted us the best place to work for the last several years. it’s a place where the heart + $ philosophy continues to thrive, where we believe that success is only achieved by doing what’s right for our customers, our employees, and our communities.    in order to create brighter futures for our clients, employees, and businesses, freedom financial network holds itself to four core values that have grown out of our heart + $ philosophy: to care for everyone around us, act with integrity every time, collaborate with everybody we work with, and get better at what we do every day.   the opportunity:  as a data engineer with freedom debt relief in its tempe, az office, this position will report to the bi engineer manager, but will work closely with a strong engineering team comprised of bi engineers, data engineers, and the director of engineering. we are building a bi platform to provide a single and consistent source of truth in a fast-growing organization (1,800 employees, adding 100+ every month), and will do so with:    best in breed technology – google big query & tableau  small, smart team of engineers and analysts  well executed dashboards, self-service modules, alerting and real-time monitoring tools  evangelizing the incremental business value to aid platform adoption   the role:  work with bi product and analysts on a daily basis to understand reporting requirements  design and model data structures to support daily, operational and ad hoc reporting  own and support production data warehouse objects  participate in daily scrums and work with data engineers to ensure data availability  effectively manage your time and lead platform development efforts for the line of business   requirements characteristics:  4-5 years’ experience in developing and maintaining bi solutions.  2-3 years’ experience in building and enhancing data warehouses.  strong data modeling skills. good understanding and experience in building star schema and denormalized data structures.  report authoring experience. working knowledge of reporting tools like tableau, looker, ssrs, business objects etc.  strong sql skills.  1-2 years’ experience implementing etl.  ability to translate business questions to technical specifications.  strong communication skills   cultural fit (our core values): care (for everyone): we show compassion and contribute to the well-being and growth of those around us. we only pursue products that improve the financial lives of our clients.  act with integrity (every time): we take the right action even when it is hard and even when no one is watching. we treat our employees, clients, and communities the way they wish to be treated.  get better (every day): we innovate, iterate, and improve each day. we are creative, take thoughtful risks, and ultimately learn and recover from failures.  collaborate (with everybody): we strive to work together toward a common purpose by proactively sharing information and inviting participation. we recognize the perspective of various groups and embrace healthy, constructive debate.    why join the freedom family?    fast, continued growth – there’s a lot of opportunity for advancement  voted a phoenix best place to work 9 times by our employees including the #1 spot for 2 years in a row!  benefits start within 30 days  401k with employer match  3 weeks’ paid vacation (increased with tenure)  9 paid holidays & 5 sick days  paid time off for volunteer work and on your birthday   attention agencies & search firms: we do not accept unsolicited candidate resumes or profiles. please do not reach out to anyone within freedom financial network (ffn) to market your services or candidates. all inquiries should be directed to talent acquisition only. we reserve the right to hire any candidates sent unsolicited and will not pay any fees without a contract signed by ffn’s talent acquisition leader.                                                                                                                                                                                                                                                                                                                                                                                                                                                                                                                                                                                                                                                                                                                                     4\n",
              "educationdoctoral degree master's degree skillssql 401(k) azure aws c# benefitshealth insurance 401(k) matchingsummary   description  we are currently seeking a motivated, career and customer oriented data scientist to join our team to begin an exciting and challenging career with unisys federal systems.    the data scientist function is responsible for supporting our consulting efforts with insights gained from analyzing company & client data for federal government. the ideal candidate is adept at using big data sets to find possibilities for product and technique optimization and using models to test the effectiveness of different courses of action. s he need to have strong experience using a variety of data mining data analysis methods, the use of a variety of data tools, constructing and imposing models, using creating algorithms and creating running simulations. s he must have a verified ability to drive business results with data-based insights and be comfortable working with a wide range of stakeholders and functional teams. the right candidate will have a passion for discovering solutions hidden in large data sets and working with stakeholders to improve enterprise outcomes.   other duties: work with large, complex datasets and remedy difficult, non-routine analysis problems, applying advanced analytical methods as needed. conduct end-to-end analysis that consists of data gathering and requirements specification, processing, analysis, ongoing deliverables, and presentations. build and prototype analysis pipelines iteratively to provide insights at scale. develop comprehensive understanding of data structures and metrics, advocating for changes where needed for both products development and sales activity mainly with azure based solutions. make business recommendations such as cost-benefit, forecasting, and experiment analysis with effective presentations of findings at multiple levels of stakeholders through visual displays of quantitative information. research and develop analysis, forecasting and optimization methods to improve the quality of unisys's clients. interact cross-functionally with teams, and work closely with them to identify opportunities for design and to examine improvements for unisys engaged solutions. requirements   required skills: master's degree in a quantitative discipline such as statistics, operations research, bioinformatics, economics, computational biology, computer science, mathematics, physics, electrical engineering, industrial engineering and 10 years experience or equivalent. 5 years of relevant experience in data analysis or related field as a statistician, data scientist, or computational biologist. experience with statistical software such as r, python, matlab, pandas and database languages such as sql experience with cloud platforms such as azure, aws or google knowledge of microsoft .net and c# desired skills: doctorate's degree in a quantitative discipline such as statistics, operations research, bioinformatics, economics, computational biology, computer science, mathematics, physics, electrical engineering industrial engineering. 8 years of directly relevant, tech industry work experience such as a statistician, bioinformatician, or data scientist, with deep expertise in statistical data analysis, such as linear models, multivariate analysis, stochastic models, and sampling methods. applied experience with machine learning on large datasets. experience articulating business questions and using mathematical techniques to arrive at an answer using available data. demonstrated skills in selecting the right statistical tools given a data analysis problem. about unisys  do you have what it takes to be mission critical?    your skills and experience could be mission critical for our unisys team supporting the federal government in their mission to protect and defend our nation, and transform the way government agencies manage information and improve responsiveness to their customers. as a member of our diverse team, you’ll gain valuable career-enhancing experience as we support the design, development, testing, implementation, training, and maintenance of our federal government’s critical systems.    apply today to become mission critical and help our nation meet the growing need for it security, improved infrastructure, big data, and advanced analytics.    unisys is a global information technology company that solves complex it challenges at the intersection of modern and mission critical. we work with many of the world's largest companies and government organizations to secure and keep their mission-critical operations running at peak performance; streamline and transform their data centers; enhance support to their end users and constituents; and modernize their enterprise applications. we do this while protecting and building on their legacy it investments. our offerings include outsourcing and managed services, systems integration and consulting services, high-end server technology, cybersecurity and cloud management software, and maintenance and support services. unisys has more than 23,000 employees serving clients around the world.    unisys offers a very competitive benefits package including health insurance coverage from first day of employment, a 401k with an immediately vested company match, vacation and educational benefits. to learn more about unisys visit us at www.unisys.com.    unisys is an equal opportunity employer (eoe) - minorities, females, disabled persons, and veterans.  #fed#    4\n",
              "educationbachelor's degree master's degree skillssql tableau hadoop system architecture analysis skillsyou are responsible for providing data analytics and predictive modeling within the powertrain application engineering organization. as a part of a global network, you are contributing to the development of the global analytics platform, including setting business requirements on new developments such as new data integration, or implementing new analytics functionality.  the data analyst provides operational support (problem solving to a wide array of projects, pilots and ad-hoc requests). furthermore the data analyst supports the strategic roadmap for both analytics methods and the future tools & platform.  you will be a senior data analyst at the hagerstown, md location and will be expected to pro-actively propose specific pilot proposals, and improvement proposals, towards the team both locally and across the global organization.  your creative thinking and problem-solving skills will contribute to solving some complex challenges in the areas of data mining and optimization. you will be actively finding new ways to decrease costs and increase uptime for our customers.    core responsibilities  as a senior data analyst you will be able to take full responsibility for all steps of an analytics assignment, from data & business value exploration, data structuring, modeling, problem solving and consulting & recommendation. you will be able to deliver all steps independently, but also work closely in projects together with colleagues in europe and brazil.  you will develop & implement methodologies to assist project leaders in making forecasts & predictions, e.g. on quality or uptime performance of systems, components and vehicle models.  you will contribute with technical insight to the strategy & roadmap for the analytics area.  contribute to process & organizational development in all processes where our analytics tools are used.  required competencies  analytical and statistical skills: recognizing patterns in data, information, or events, drawing logical conclusions, and making recommendations on the most suitable models and statistical approaches.  creativity & innovation: reframing traditional patterns of thinking and applying new and evolving ideas, methods, designs and technologies. you are able to identify new opportunities and convince peers, managers and cross-functional internal stakeholders to test out the new approach.  attention to detail: monitoring adherence to standards and actively checking for accuracy of data received or generated before passing it on.  holistic & broad information technology experience: understanding systems architecture, data life cycle management, data processing & engineering, and programming concepts.  proficiency in personal computers and network applications and aptitude to learn new program features and application software.  education detail  bachelor’s degree in engineering, computer science, economics, mathematics, statistics or equivalent minimum required.  master’s degree in engineering, computer science, economics, mathematics, statistics or equivalent is preferred.  experience, skills, and training details  4 years’ experience with data analytics tools & platforms such as sas, ibm spss, r studio, stata, tableau, or equivalent tool.  2 years’ experience with programming for data analysis using sql, python, r, matlab, or equivalent language.  experience with open source tools is preferred.  experience with the hadoop ecosystem and hdfs is a plus.  multinational company experience is a plus.  we believe you have a sharp analytic & logical mindset and a great problem solver.  you have the ability to effectively translate business problems into technical challenges and articulate solutions, and communicate effectively both with engineering colleagues as well as senior management.  you are an adept team player, with good listening skills and empathy.  we believe you excel at learning on the fly, that you are action oriented with a drive to move projects forward and set your daily priorities on your own, but still able to perform well and deliver results in distributed teams, with frequent contacts & problem solving together with colleagues in sweden, france & brazil.                                                                                                                                                                                                                                                                                                                                                                                                                                                                                                                                                                                                                                                                                                                                                                                                                                                                                                                                                                                                                                                                                                                                                                                                                                                                                                            4\n",
              "educationdoctoral degree skillssql hadoop analytics scala sparkdata science intern - (0103300)  as a data science intern, you’ll be part of a team that focuses on researching and building machine learning applications to extend our personalization platform. conversant’s personalization is based on analysis of anonymized data at internet scale and is used in evaluating 1 trillion advertising opportunities per month – in real-time. as an intern you will be able to apply your field of study to real problems with an opportunity to directly impact our business, gaining experience with internet-scale data and state-of-the-art computing clusters. several of our team members are graduates of our intern program from previous years!    essential functions and responsibilities    develop a basic understanding of conversant’s personalization platform.  use your machine learning expertise to research and recommend the best approaches to solving one of our technology + business problems.  implement and validate your solution.  work with other teams to integrate your solution into conversant’s platform.  document and present your approach.    education and experience    in a ph.d. program in computer science, engineering, statistics, mathematics, linguistics, or related field.  research experience and coursework in data science, machine learning, graph theory, optimization, or language processing.  fluency in programming (scala, sql, python, or r a plus).  experience with large data sets (hadoop, spark, cassandra, or mpp a plus).  desire to work in a highly collaborative environment.  desire to apply your expert knowledge to grow a business.    #analytics  #li-dc1  primary location: usa - united states-3090 - illinois-50082 - chicago-l5-chicago, il - cnvr   work locations:  l5-chicago, il - cnvr    chicago 60606  job: general  organization: epsilon  schedule: temporary  job type: full-time  job posting: aug 20, 2019, 3:03:44 pm  division: conversant  ri: al                                                                                                                                                                                                                                                                                                                                                                                                                                                                                                                                                                                                                                                                                                                                                                                                                                                                                                                                                                                                                                                                                                                                                                                                                                                                                                                                                                                                                                                                                                                                                                                                                                                                                                                                                                                                                                                                                                                                                                                                                                                                                                                                                                                                                                                                                                                                                                                                                                                                                                                                                                                                                                                                                                                                                                                                                                                                                                                                                                                                                                                                                                                                                                                                                                                                                                                                                                                                                                                                                                                                                                                                                                                                                                                       4\n",
              "educationbachelor's degree master's degree skills401(k) scripting microsoft office data structures analysis skills benefitshealth insurance paid time off 401(k) matching flexible schedulejoin a high performing and rapidly growing team    valen analytics is a rapidly expanding advanced data and predictive analytics company headquartered in downtown denver. valen’s state-of-the-art analytics and predictive modeling products are built on valen’s unique industry-wide consortium data platform, specifically designed for property and casualty insurance carriers. if you want to help build an industry-changing company and you thrive in a fast-paced environment where the only rule is to wow customers, colleagues and shareholders, then we encourage you to submit your resume. this is not a job. it is an opportunity to advance your career by helping to build an innovative, growing and highly respected organization. the right candidate will be entrepreneurial, driven and passionate about being successful and absolutely committed to making valen successful.    we are currently looking to fill the following position in our denver, co office:    data scientist    as a data scientist, you will be an integral part of valen’s product development and delivery teams, working closely and collaboratively with valen insurance domain experts, data analysts, engineers and customers. you will develop highly robust predictive models that provide significant and measurable results for our customers. additionally, you will partner with the sales and marketing teams to perform and deliver modeling proof-of-concepts and retro-tests, as well as to help shape and deliver compelling product performance reads, product and concept education and value proposition messaging.   what you’ll be doing:  conduct advanced analytics activities leveraging predictive modeling, machine learning, simulation, optimization, and other techniques to deliver insights or develop analytical solutions to achieve business objectives.  effectively represent the data science group in a collaborative environment to execute on company goals.  support subject matter experts on efforts to develop scalable and robust solutions.  translate complex analytical and technical concepts for non-technical team members to enable understanding and drive informed business decisions.  stay up-to-date on industry and job-related trends and best practices, including reading relevant publications, articles, blogs, etc.  other duties as assigned   what you’ll need:  bachelor’s degree in statistics, mathematics or related quantitative field  minimum 2 years’ professional experience in an analytics role, focusing on statistical modeling or machine learning  2+ years hands-on experience with sas, r, python or similar statistical package  experience in communicating modeling procedure and results to non-experts   system knowledge required:  statistical modeling software  data visualization software and tools  ms office suite  version control systems  databases data structures  fundamental understanding of programming and scripting experience  ability to work in a fast-paced environment and handle multiple priorities or tasks  proficient analytical and critical thinking skills  flexible and adaptable   desired skills:  master’s degree or higher in statistics, mathematics or similar quantitative field  advanced competency and expertise in at least one statistics package (sas, r, python) with exposure in additional languages  predictive modeling experience in the insurance industry   what you’ll get:  rtd ecopass | collaborative culture | competitive salary    flexible hours | growth opportunities | generous time off    comprehensive benefits | 401k matching | great location    the valen team    valen’s mission is to help our clients achieve their goals and solve problems by leveraging data to make more informed decisions.   guide customer success: we relentlessly pursue making our customers successful.   live the golden rule: we treat our customers, employees, vendors and shareholders how we expect to be treated as customers, employees, vendors and shareholders…period.   be agile: valen is a test and learn environment. we organize everything we do around our customer’s success to provide something of value quickly. we learn and then adapt. then, we learn some more.   have fun: we have great attitudes and we have fun. we do not take ourselves too seriously, we celebrate our successes and we enjoy our work. most of all, we live passionately.   embrace simplicity: we endeavor to make everything we provide our customers ridiculously easy.   expect ownership: at valen we take responsibility for our actions and we build trusting relationships by making and meeting our commitments.    does valen sound like the right place for you? if yes, then submit your application today for immediate consideration.    thank you for your interest in valen; only those candidates selected will be contacted.    insurity is proud to be an equal opportunity employer                                                                                                                                                                                                                                                                                                                                                                                                                                                                                                                         4\n",
              "                                                                                                                                                                                                                                                                                                                                                                                                                                                                                                                                                                                                                                                                                                                                                                                                                                                                                                                                                                                                                                                                                                                                                                                                                                                                                                                                                                                                                                                                                                                                                                                                                                                                                                                                                                                                                                                                                                                                                                                                                                                                                                                                                                                                                                                                                                                                                                                                                                                                                                                                                                                                                                                                                                                                                                                                                                                                                                                                                                                                                                                                                                                                                                                                                                                                                                                                                                                                                                                                                                                                                                                                                                                                                                                                                                                                                                                                                                                                                                                                                                                                                                                                                                                                                                                                                                                                                                                                                                                                                                                                                                                                                                                                                                                                                                                                                                                                                                                                                                                                                                                                                                                                                                                                                                                                                                                                                                                                                                                                                                                                                                                                                                                                                                                                                                              ..\n",
              "skillsdata modeling python machine learningrequires strong understanding of statistical analysis and mathematical analysis; knowledge and understanding of data modeling and visualization; understanding of graph theory, and application of graph database and modeling; ability to develop cloud analytics and machine learning algorithms; python scripting ability is preferred; proficient use of tools, tradecraft and databases                                                                                                                                                                                                                                                                                                                                                                                                                                                                                                                                                                                                                                                                                                                                                                                                                                                                                                                                                                                                                                                                                                                                                                                                                                                                                                                                                                                                                                                                                                                                                                                                                                                                                                                                                                                                                                                                                                                                                                                                                                                                                                                                                                                                                                                                                                                                                                                                                                                                                                                                                                                                                                                                                                                                                                                                                                                                                                                                                                                                                                                                                                                                                                                                                                                                                                                                                                                                                                                                                                                                                                                                                                                                                                                                                                                                                                                                                                                                                                                                                                                                                                                                                                                                                                                                                                                                                                                                                                                                                                                                                                                                                                                                                                                                                                                                                                                                                                                                                                                                                                                                                                                                                                                                                                                                                                                                        1\n",
              " data architecture, data engineering, data analytics, big data, data visualization data quality, sql, data governance, data quality, source to target mapping,‚äö√ñ¬∂                                                                                                                                                                                                                                                                                                                                                                                                                                                                                                                                                                                                                                                                                                                                                                                                                                                                                                                                                                                                                                                                                                                                                                                                                                                                                                                                                                                                                                                                                                                                                                                                                                                                                                                                                                                                                                                                                                                                                                                                                                                                                                                                                                                                                                                                                                                                                                                                                                                                                                                                                                                                                                                                                                                                                                                                                                                                                                                                                                                                                                                                                                                                                                                                                                                                                                                                                                                                                                                                                                                                                                                                                                                                                                                                                                                                                                                                                                                                                                                                                                                                                                                                                                                                                                                                                                                                                                                                                                                                                                                                                                                                                                                                                                                                                                                                                                                                                                                                                                                                                                                                                                                                                                                                                                                                                                                                                                                                                                                                                                                                                                                                          1\n",
              " planning query efficient data store schemas with respect to the data requirements of our internal data warehouse.1-3 years working experience with c# .net.                                                                                                                                                                                                                                                                                                                                                                                                                                                                                                                                                                                                                                                                                                                                                                                                                                                                                                                                                                                                                                                                                                                                                                                                                                                                                                                                                                                                                                                                                                                                                                                                                                                                                                                                                                                                                                                                                                                                                                                                                                                                                                                                                                                                                                                                                                                                                                                                                                                                                                                                                                                                                                                                                                                                                                                                                                                                                                                                                                                                                                                                                                                                                                                                                                                                                                                                                                                                                                                                                                                                                                                                                                                                                                                                                                                                                                                                                                                                                                                                                                                                                                                                                                                                                                                                                                                                                                                                                                                                                                                                                                                                                                                                                                                                                                                                                                                                                                                                                                                                                                                                                                                                                                                                                                                                                                                                                                                                                                                                                                                                                                                                                   1\n",
              "educationmaster's degree skillssql hadoop hive survival analysis financial analysisjob description:  we are trusted advisers enabling ford to see our business, know our customers and act in a meaningful way. we drive evidence-based decision making by providing timely, actionable and forward-looking insights to our one ford business partners.    ford motor company's global data, insight, and analytics (gdia) organization is looking for motivated and talented individuals with a background in data and analytics to work on personalized marketing and customer engagement analytics problems. this is a dynamic and challenging opportunity to apply the latest tools and methods in big data and data science to a variety of business problems at ford.   responsibilities:  in this role, you will collaborate with partners in sales and services marketing and digital marketing, warranty and quality, financial and customer services, mobility, and other ford activities to define problems, identify data, establish predictive and prescriptive models, and deliver optimal solutions across the entire range of interactions between ford and its existing and potential customer base. you will have the opportunity to work with some of the brightest global subject matter experts that are transforming the automobile industry.   basic qualifications:  masters in mathematics or statistics   preferred qualifications:  p.h.d. mathematics and statistics  ability to perform day-to-day etl tasks such as data gathering data cleaning  wrangling   coding or programming  analysis  strong knowledge of statistics and or marketing analytics  ability to do statistical analyses with minimum guidance including descriptive and inferential techniques  experience with very large analysis datasets and enterprise scale database systems (e.g. large hadoop, hive, sql tables etc.)  formal training in a quantitative research field such as: statistics, biostatistics, econometrics, operations research, computer science, demography   actuarial science, mathematics, predictive analytics (e.g. random forests, survival analysis, clustering, neural networks), data science, quantitative social sciences, epidemiology, engineering etc.  ability to take non-technical business problems and formulate methods and hypothesis to create metrics and provide well researched answers. in addition, ability to clearly and effectively communicate technical results to a non-technical audience  strong verbal and written communication skills, team oriented, and interpersonal skills  understanding of business management financial analysis.  familiarity with customer marketing analytics techniques such as customer segmentation, predictive modeling, regression and classification analyses, a b testing, market basket analysis, choice modeling, uplift modelling etc.    join our team as we create tomorrow! we believe in putting people first, working together, and facing challenges head-on, because we’re built ford tough. we’re one team striving to make people’s lives better while creating value, delivering excellence, and ultimately going for the win.    candidates for positions with ford motor company must be legally authorized to work in the united states on a permanent basis. verification of employment eligibility will be required at the time of hire. visa sponsorship is not available for this position.    ford motor company is an equal opportunity employer committed to a culturally diverse workforce. all qualified applicants will receive consideration for employment without regard to race, religion, color, age, sex, national origin, sexual orientation, gender identity, disability status, or protected veteran status.                                                                                                                                                                                                                                                                                                                                                                                                                                                                                                                                                                                                                                                                                                                                                                                                                                                                                                                                                                                                                                                                                                                                                                                                                                                                                                                                                                                                                                                                                                                                                                                                                                                                                                                                                                                                                                                                                                                              1\n",
              " 3 years of experience in statistics and data modeling.3 years experience with big data technologies using varied databases.                                                                                                                                                                                                                                                                                                                                                                                                                                                                                                                                                                                                                                                                                                                                                                                                                                                                                                                                                                                                                                                                                                                                                                                                                                                                                                                                                                                                                                                                                                                                                                                                                                                                                                                                                                                                                                                                                                                                                                                                                                                                                                                                                                                                                                                                                                                                                                                                                                                                                                                                                                                                                                                                                                                                                                                                                                                                                                                                                                                                                                                                                                                                                                                                                                                                                                                                                                                                                                                                                                                                                                                                                                                                                                                                                                                                                                                                                                                                                                                                                                                                                                                                                                                                                                                                                                                                                                                                                                                                                                                                                                                                                                                                                                                                                                                                                                                                                                                                                                                                                                                                                                                                                                                                                                                                                                                                                                                                                                                                                                                                                                                                                                                   1\n",
              "Name: summary, Length: 1074, dtype: int64"
            ]
          },
          "metadata": {
            "tags": []
          },
          "execution_count": 125
        }
      ]
    },
    {
      "cell_type": "markdown",
      "metadata": {
        "colab_type": "text",
        "id": "J18BC5vRE6PM"
      },
      "source": [
        "### 2.4 Removing NaN values from summary data"
      ]
    },
    {
      "cell_type": "code",
      "metadata": {
        "colab_type": "code",
        "id": "VFck-fIpE6PN",
        "outputId": "5210cdf9-811e-46a1-d185-4a711e37479e",
        "colab": {
          "base_uri": "https://localhost:8080/",
          "height": 221
        }
      },
      "source": [
        "\n",
        "#Removing \"NaN\" and irregular symbols again from column and checking to see if it worked.\n",
        "Jobsite_df.dropna(axis=0, subset=['summary'], inplace=True)\n",
        "Jobsite_df.summary = Jobsite_df.summary.str.replace(\"Äö√Ñ√\",'None')\n",
        "Jobsite_df.summary = Jobsite_df.summary.str.replace(\"¥\",'None')\n",
        "Jobsite_df.summary = Jobsite_df.summary.str.replace(\"google cloud\",'googlecloud')\n",
        "\n",
        "Jobsite_df.summary"
      ],
      "execution_count": 0,
      "outputs": [
        {
          "output_type": "execute_result",
          "data": {
            "text/plain": [
              "1        machine learning  data science engineer*.work...\n",
              "2        must have at least 5 years‚äö√ñ√None experien...\n",
              "3        analyze system data and creating statistical ...\n",
              "4        the data engineer will work directly with pro...\n",
              "5        you‚äö√ñ√Nonell have a manager and mentor wit...\n",
              "                              ...                        \n",
              "1244       job title:                    data scientis...\n",
              "1245    reporting to our director of marketing analyti...\n",
              "1246     education  master's degree    job description...\n",
              "1247    overviewcome join intuit as a senior data scie...\n",
              "1248    description descriptionjob description:job des...\n",
              "Name: summary, Length: 1240, dtype: object"
            ]
          },
          "metadata": {
            "tags": []
          },
          "execution_count": 126
        }
      ]
    },
    {
      "cell_type": "markdown",
      "metadata": {
        "colab_type": "text",
        "id": "pHUfxYlhFu7N"
      },
      "source": [
        "### 2.5 Creating new columns.\n",
        "In this stage, we have extracted keywords of skillsets from the summary in the dataframe and put the count of each skillset in a separate column. "
      ]
    },
    {
      "cell_type": "code",
      "metadata": {
        "colab_type": "code",
        "id": "RHesUudsSR-3",
        "colab": {}
      },
      "source": [
        "#If the summary contains word \"python\", save that python string in new column\n",
        "\n",
        "Jobsite_df[\"python\"] = np.nan\n",
        "Jobsite_df[\"pandas\"] = np.nan\n",
        "Jobsite_df[\"numpy\"] = np.nan\n",
        "Jobsite_df[\"java\"] = np.nan\n",
        "Jobsite_df[\"excel\"] = np.nan\n",
        "Jobsite_df[\"sql\"] = np.nan\n",
        "Jobsite_df[\"spark\"] = np.nan\n",
        "Jobsite_df[\"pyspark\"] = np.nan\n",
        "Jobsite_df[\"hadoop\"] = np.nan\n",
        "Jobsite_df[\"tableau\"] = np.nan\n",
        "Jobsite_df[\"powerbi\"] = np.nan\n",
        "Jobsite_df[\"azure\"] = np.nan\n",
        "Jobsite_df[\"aws\"] = np.nan\n",
        "Jobsite_df[\"googlecloud\"] = np.nan\n",
        "\n",
        "Jobsite_df.loc[Jobsite_df[\"summary\"].str.contains(\"python\"), \"python\"] = \"python\"\n",
        "Jobsite_df.loc[Jobsite_df[\"summary\"].str.contains(\"pandas\"), \"pandas\"] = \"pandas\"\n",
        "Jobsite_df.loc[Jobsite_df[\"summary\"].str.contains(\"numpy\"), \"numpy\"] = \"numpy\"\n",
        "Jobsite_df.loc[Jobsite_df[\"summary\"].str.contains(\"java\"), \"java\"] = \"java\"\n",
        "Jobsite_df.loc[Jobsite_df[\"summary\"].str.contains(\"excel\"), \"excel\"] = \"excel\"\n",
        "Jobsite_df.loc[Jobsite_df[\"summary\"].str.contains(\"sql\"), \"sql\"] = \"sql\"\n",
        "Jobsite_df.loc[Jobsite_df[\"summary\"].str.contains(\"spark\"), \"spark\"] = \"spark\"\n",
        "Jobsite_df.loc[Jobsite_df[\"summary\"].str.contains(\"pyspark\"), \"pyspark\"] = \"pyspark\"\n",
        "Jobsite_df.loc[Jobsite_df[\"summary\"].str.contains(\"hadoop\"), \"hadoop\"] =\"hadoop\"\n",
        "Jobsite_df.loc[Jobsite_df[\"summary\"].str.contains(\"tableau\"), \"tableau\"] =\"tableau\"\n",
        "Jobsite_df.loc[Jobsite_df[\"summary\"].str.contains(\"powerbi\"), \"powerbi\"] =\"powerbi\"\n",
        "Jobsite_df.loc[Jobsite_df[\"summary\"].str.contains(\"azure\"), \"azure\"] =\"azure\"\n",
        "Jobsite_df.loc[Jobsite_df[\"summary\"].str.contains(\"aws\"), \"aws\"] =\"aws\"\n",
        "Jobsite_df.loc[Jobsite_df[\"summary\"].str.contains(\"googlecloud\"), \"googlecloud\"] =\"googlecloud\""
      ],
      "execution_count": 0,
      "outputs": []
    },
    {
      "cell_type": "code",
      "metadata": {
        "colab_type": "code",
        "id": "Hf0714QvE6PR",
        "outputId": "05b95f37-23ef-4cbb-f4c4-7cbee518c305",
        "colab": {
          "base_uri": "https://localhost:8080/",
          "height": 445
        }
      },
      "source": [
        "Jobsite_df.head()"
      ],
      "execution_count": 0,
      "outputs": [
        {
          "output_type": "execute_result",
          "data": {
            "text/html": [
              "<div>\n",
              "<style scoped>\n",
              "    .dataframe tbody tr th:only-of-type {\n",
              "        vertical-align: middle;\n",
              "    }\n",
              "\n",
              "    .dataframe tbody tr th {\n",
              "        vertical-align: top;\n",
              "    }\n",
              "\n",
              "    .dataframe thead th {\n",
              "        text-align: right;\n",
              "    }\n",
              "</style>\n",
              "<table border=\"1\" class=\"dataframe\">\n",
              "  <thead>\n",
              "    <tr style=\"text-align: right;\">\n",
              "      <th></th>\n",
              "      <th>number</th>\n",
              "      <th>title</th>\n",
              "      <th>company</th>\n",
              "      <th>city</th>\n",
              "      <th>state</th>\n",
              "      <th>zip</th>\n",
              "      <th>country</th>\n",
              "      <th>salary</th>\n",
              "      <th>minsalary</th>\n",
              "      <th>maxsalary</th>\n",
              "      <th>avgsalary</th>\n",
              "      <th>rating</th>\n",
              "      <th>summary</th>\n",
              "      <th>website</th>\n",
              "      <th>typeofjob</th>\n",
              "      <th>levelofjob</th>\n",
              "      <th>python</th>\n",
              "      <th>pandas</th>\n",
              "      <th>numpy</th>\n",
              "      <th>java</th>\n",
              "      <th>excel</th>\n",
              "      <th>sql</th>\n",
              "      <th>spark</th>\n",
              "      <th>pyspark</th>\n",
              "      <th>hadoop</th>\n",
              "      <th>tableau</th>\n",
              "      <th>powerbi</th>\n",
              "      <th>azure</th>\n",
              "      <th>aws</th>\n",
              "      <th>googlecloud</th>\n",
              "    </tr>\n",
              "  </thead>\n",
              "  <tbody>\n",
              "    <tr>\n",
              "      <th>1</th>\n",
              "      <td>2</td>\n",
              "      <td>Jr. Machine Learning/Data science</td>\n",
              "      <td>People tech group</td>\n",
              "      <td>NaN</td>\n",
              "      <td>NaN</td>\n",
              "      <td>NaN</td>\n",
              "      <td>USA</td>\n",
              "      <td>0</td>\n",
              "      <td>0</td>\n",
              "      <td>0</td>\n",
              "      <td>0.0</td>\n",
              "      <td>3.8</td>\n",
              "      <td>machine learning  data science engineer*.work...</td>\n",
              "      <td>Indeed.com</td>\n",
              "      <td>AI/ML</td>\n",
              "      <td>Entry Level</td>\n",
              "      <td>NaN</td>\n",
              "      <td>NaN</td>\n",
              "      <td>NaN</td>\n",
              "      <td>NaN</td>\n",
              "      <td>NaN</td>\n",
              "      <td>NaN</td>\n",
              "      <td>NaN</td>\n",
              "      <td>NaN</td>\n",
              "      <td>NaN</td>\n",
              "      <td>NaN</td>\n",
              "      <td>NaN</td>\n",
              "      <td>NaN</td>\n",
              "      <td>NaN</td>\n",
              "      <td>NaN</td>\n",
              "    </tr>\n",
              "    <tr>\n",
              "      <th>2</th>\n",
              "      <td>3</td>\n",
              "      <td>Senior Data Warehouse Engineer</td>\n",
              "      <td>MileOne Autogroup</td>\n",
              "      <td>NaN</td>\n",
              "      <td>NaN</td>\n",
              "      <td>NaN</td>\n",
              "      <td>USA</td>\n",
              "      <td>0</td>\n",
              "      <td>0</td>\n",
              "      <td>0</td>\n",
              "      <td>0.0</td>\n",
              "      <td>2.8</td>\n",
              "      <td>must have at least 5 years‚äö√ñ√None experien...</td>\n",
              "      <td>Indeed.com</td>\n",
              "      <td>Data Engineer</td>\n",
              "      <td>Senior</td>\n",
              "      <td>NaN</td>\n",
              "      <td>NaN</td>\n",
              "      <td>NaN</td>\n",
              "      <td>NaN</td>\n",
              "      <td>NaN</td>\n",
              "      <td>NaN</td>\n",
              "      <td>NaN</td>\n",
              "      <td>NaN</td>\n",
              "      <td>NaN</td>\n",
              "      <td>NaN</td>\n",
              "      <td>NaN</td>\n",
              "      <td>NaN</td>\n",
              "      <td>NaN</td>\n",
              "      <td>NaN</td>\n",
              "    </tr>\n",
              "    <tr>\n",
              "      <th>3</th>\n",
              "      <td>4</td>\n",
              "      <td>Data Scientist</td>\n",
              "      <td>OneGlobe LLC</td>\n",
              "      <td>NaN</td>\n",
              "      <td>NaN</td>\n",
              "      <td>NaN</td>\n",
              "      <td>USA</td>\n",
              "      <td>0</td>\n",
              "      <td>0</td>\n",
              "      <td>0</td>\n",
              "      <td>0.0</td>\n",
              "      <td>NaN</td>\n",
              "      <td>analyze system data and creating statistical ...</td>\n",
              "      <td>Indeed.com</td>\n",
              "      <td>Data Scientist</td>\n",
              "      <td>NaN</td>\n",
              "      <td>NaN</td>\n",
              "      <td>NaN</td>\n",
              "      <td>NaN</td>\n",
              "      <td>NaN</td>\n",
              "      <td>NaN</td>\n",
              "      <td>NaN</td>\n",
              "      <td>NaN</td>\n",
              "      <td>NaN</td>\n",
              "      <td>NaN</td>\n",
              "      <td>NaN</td>\n",
              "      <td>NaN</td>\n",
              "      <td>NaN</td>\n",
              "      <td>NaN</td>\n",
              "      <td>NaN</td>\n",
              "    </tr>\n",
              "    <tr>\n",
              "      <th>4</th>\n",
              "      <td>5</td>\n",
              "      <td>Sr. Data Engineer</td>\n",
              "      <td>Gravity Technology Solutions</td>\n",
              "      <td>NaN</td>\n",
              "      <td>NaN</td>\n",
              "      <td>NaN</td>\n",
              "      <td>USA</td>\n",
              "      <td>$130,000 - $150,000 a year</td>\n",
              "      <td>130000</td>\n",
              "      <td>150000</td>\n",
              "      <td>140000.0</td>\n",
              "      <td>NaN</td>\n",
              "      <td>the data engineer will work directly with pro...</td>\n",
              "      <td>Indeed.com</td>\n",
              "      <td>Data Engineer</td>\n",
              "      <td>Senior</td>\n",
              "      <td>NaN</td>\n",
              "      <td>NaN</td>\n",
              "      <td>NaN</td>\n",
              "      <td>NaN</td>\n",
              "      <td>NaN</td>\n",
              "      <td>NaN</td>\n",
              "      <td>NaN</td>\n",
              "      <td>NaN</td>\n",
              "      <td>NaN</td>\n",
              "      <td>NaN</td>\n",
              "      <td>NaN</td>\n",
              "      <td>NaN</td>\n",
              "      <td>NaN</td>\n",
              "      <td>NaN</td>\n",
              "    </tr>\n",
              "    <tr>\n",
              "      <th>5</th>\n",
              "      <td>6</td>\n",
              "      <td>2020 Artificial Intelligence / Machine Learnin...</td>\n",
              "      <td>Miso</td>\n",
              "      <td>NaN</td>\n",
              "      <td>NaN</td>\n",
              "      <td>NaN</td>\n",
              "      <td>USA</td>\n",
              "      <td>0</td>\n",
              "      <td>0</td>\n",
              "      <td>0</td>\n",
              "      <td>0.0</td>\n",
              "      <td>3.6</td>\n",
              "      <td>you‚äö√ñ√Nonell have a manager and mentor wit...</td>\n",
              "      <td>Indeed.com</td>\n",
              "      <td>AI/ML</td>\n",
              "      <td>Intern</td>\n",
              "      <td>NaN</td>\n",
              "      <td>NaN</td>\n",
              "      <td>NaN</td>\n",
              "      <td>NaN</td>\n",
              "      <td>NaN</td>\n",
              "      <td>NaN</td>\n",
              "      <td>NaN</td>\n",
              "      <td>NaN</td>\n",
              "      <td>NaN</td>\n",
              "      <td>NaN</td>\n",
              "      <td>NaN</td>\n",
              "      <td>NaN</td>\n",
              "      <td>NaN</td>\n",
              "      <td>NaN</td>\n",
              "    </tr>\n",
              "  </tbody>\n",
              "</table>\n",
              "</div>"
            ],
            "text/plain": [
              "   number                                              title  ...  aws googlecloud\n",
              "1       2                  Jr. Machine Learning/Data science  ...  NaN         NaN\n",
              "2       3                     Senior Data Warehouse Engineer  ...  NaN         NaN\n",
              "3       4                                     Data Scientist  ...  NaN         NaN\n",
              "4       5                                  Sr. Data Engineer  ...  NaN         NaN\n",
              "5       6  2020 Artificial Intelligence / Machine Learnin...  ...  NaN         NaN\n",
              "\n",
              "[5 rows x 30 columns]"
            ]
          },
          "metadata": {
            "tags": []
          },
          "execution_count": 128
        }
      ]
    },
    {
      "cell_type": "code",
      "metadata": {
        "colab_type": "code",
        "id": "2mslfnqTUWba",
        "outputId": "33795992-59f8-4ceb-a2cc-3ec2a9388ae0",
        "colab": {
          "base_uri": "https://localhost:8080/",
          "height": 493
        }
      },
      "source": [
        "print(Jobsite_df.python.value_counts())\n",
        "print(Jobsite_df.pandas.value_counts())\n",
        "print(Jobsite_df.numpy.value_counts())\n",
        "print(Jobsite_df.java.value_counts())\n",
        "print(Jobsite_df.excel.value_counts())\n",
        "print(Jobsite_df.sql.value_counts())\n",
        "print(Jobsite_df.spark.value_counts())\n",
        "print(Jobsite_df.pyspark.value_counts())\n",
        "print(Jobsite_df.hadoop.value_counts())\n",
        "print(Jobsite_df.tableau.value_counts())\n",
        "print(Jobsite_df.powerbi.value_counts())\n",
        "print(Jobsite_df.azure.value_counts())\n",
        "print(Jobsite_df.aws.value_counts())\n",
        "print(Jobsite_df.googlecloud.value_counts())"
      ],
      "execution_count": 0,
      "outputs": [
        {
          "output_type": "stream",
          "text": [
            "python    544\n",
            "Name: python, dtype: int64\n",
            "pandas    50\n",
            "Name: pandas, dtype: int64\n",
            "numpy    42\n",
            "Name: numpy, dtype: int64\n",
            "java    188\n",
            "Name: java, dtype: int64\n",
            "excel    288\n",
            "Name: excel, dtype: int64\n",
            "sql    416\n",
            "Name: sql, dtype: int64\n",
            "spark    163\n",
            "Name: spark, dtype: int64\n",
            "pyspark    12\n",
            "Name: pyspark, dtype: int64\n",
            "hadoop    151\n",
            "Name: hadoop, dtype: int64\n",
            "tableau    153\n",
            "Name: tableau, dtype: int64\n",
            "powerbi    14\n",
            "Name: powerbi, dtype: int64\n",
            "azure    85\n",
            "Name: azure, dtype: int64\n",
            "aws    191\n",
            "Name: aws, dtype: int64\n",
            "googlecloud    33\n",
            "Name: googlecloud, dtype: int64\n"
          ],
          "name": "stdout"
        }
      ]
    },
    {
      "cell_type": "markdown",
      "metadata": {
        "colab_type": "text",
        "id": "K7pu0wRBE6PS"
      },
      "source": [
        "### After adding new featured columns, our dataset has 29 different features.  Further, we were able to get a numerical count of how many times each extracted word found in the summary."
      ]
    },
    {
      "cell_type": "markdown",
      "metadata": {
        "colab_type": "text",
        "id": "qxr78SC3E6PT"
      },
      "source": [
        "### 2.6 Column name change\n",
        "In this stage, we have changed the column names for ease of understanding."
      ]
    },
    {
      "cell_type": "code",
      "metadata": {
        "colab_type": "code",
        "id": "KDKSHbPPeprc",
        "outputId": "625130a9-c115-40e1-e5b3-ee2dec4ad278",
        "colab": {
          "base_uri": "https://localhost:8080/",
          "height": 119
        }
      },
      "source": [
        "Jobsite_df = Jobsite_df.rename(columns={\"typeofjob\": \"jobtitle\", \"title\": \"subtitle\", \"salary\":\"salary_range\", \"avgsalary\":'salary'})\n",
        "Jobsite_df.columns"
      ],
      "execution_count": 0,
      "outputs": [
        {
          "output_type": "execute_result",
          "data": {
            "text/plain": [
              "Index(['number', 'subtitle', 'company', 'city', 'state', 'zip', 'country',\n",
              "       'salary_range', 'minsalary', 'maxsalary', 'salary', 'rating', 'summary',\n",
              "       'website', 'jobtitle', 'levelofjob', 'python', 'pandas', 'numpy',\n",
              "       'java', 'excel', 'sql', 'spark', 'pyspark', 'hadoop', 'tableau',\n",
              "       'powerbi', 'azure', 'aws', 'googlecloud'],\n",
              "      dtype='object')"
            ]
          },
          "metadata": {
            "tags": []
          },
          "execution_count": 130
        }
      ]
    },
    {
      "cell_type": "markdown",
      "metadata": {
        "colab_type": "text",
        "id": "x6GsSxgkE6PU"
      },
      "source": [
        "## Step 3: Exploratory Data Analysis\n",
        "In following steps, we will do the exploratory analysis of the data."
      ]
    },
    {
      "cell_type": "markdown",
      "metadata": {
        "colab_type": "text",
        "id": "-OOz79fKE6PU"
      },
      "source": [
        "### 3.1 What is the total number of unique job postings in final dataset?"
      ]
    },
    {
      "cell_type": "code",
      "metadata": {
        "colab_type": "code",
        "id": "My6bvGOOfRaR",
        "outputId": "922e3655-5ef0-4b55-feda-e709ecf46198",
        "colab": {
          "base_uri": "https://localhost:8080/",
          "height": 34
        }
      },
      "source": [
        "print(Jobsite_df.number.count())"
      ],
      "execution_count": 0,
      "outputs": [
        {
          "output_type": "stream",
          "text": [
            "1240\n"
          ],
          "name": "stdout"
        }
      ]
    },
    {
      "cell_type": "markdown",
      "metadata": {
        "colab_type": "text",
        "id": "U5tN8ZpDE6PV"
      },
      "source": [
        "### There are total 1240 unique job postings extracted in this dataset.\n"
      ]
    },
    {
      "cell_type": "markdown",
      "metadata": {
        "id": "Viw_NHWcnwV4",
        "colab_type": "text"
      },
      "source": [
        "### 3.2 How many websites are used to fetch the data? Plot the job titles for each website."
      ]
    },
    {
      "cell_type": "code",
      "metadata": {
        "id": "j0AFHE6ynjNP",
        "colab_type": "code",
        "outputId": "019172dd-0f7b-4944-a6de-04d42b3edd8e",
        "colab": {
          "base_uri": "https://localhost:8080/",
          "height": 85
        }
      },
      "source": [
        "print(Jobsite_df.website.value_counts())"
      ],
      "execution_count": 0,
      "outputs": [
        {
          "output_type": "stream",
          "text": [
            "Indeed.com         594\n",
            "SimplyHired.com    575\n",
            "Monster.com         71\n",
            "Name: website, dtype: int64\n"
          ],
          "name": "stdout"
        }
      ]
    },
    {
      "cell_type": "code",
      "metadata": {
        "id": "6y7eU7HYnc6P",
        "colab_type": "code",
        "outputId": "88eaf3ad-56b2-42c1-8278-3961ffd80dd0",
        "colab": {
          "base_uri": "https://localhost:8080/",
          "height": 968
        }
      },
      "source": [
        "websitejobs = Jobsite_df.groupby(['website','jobtitle']).size().unstack()\n",
        "websitejobs.plot(kind='bar',stacked='true',color= ('pink','green','grey','red','blue'))\n",
        "plt.title('Job posting in various websites')\n",
        "plt.xlabel('Job Websites')\n",
        "plt.ylabel('Count')\n",
        "plt.show()"
      ],
      "execution_count": 0,
      "outputs": [
        {
          "output_type": "display_data",
          "data": {
            "image/png": "[encoded data removed]",
            "text/plain": [
              "<Figure size 1080x1080 with 1 Axes>"
            ]
          },
          "metadata": {
            "tags": []
          }
        }
      ]
    },
    {
      "cell_type": "markdown",
      "metadata": {
        "id": "4pXTBwhqoDvK",
        "colab_type": "text"
      },
      "source": [
        "### We have used 3 websites to collect data - 1. Indeed.com; 2. Monster.com; 3. SimplyHired.com"
      ]
    },
    {
      "cell_type": "markdown",
      "metadata": {
        "colab_type": "text",
        "id": "CbxtRrLKE6PV"
      },
      "source": [
        "### 3.3 What are the typical job titles posted?"
      ]
    },
    {
      "cell_type": "code",
      "metadata": {
        "colab_type": "code",
        "id": "w3C4Hi4EgFX8",
        "outputId": "a3ee404b-5885-44b2-eb47-706595e40bb8",
        "colab": {
          "base_uri": "https://localhost:8080/",
          "height": 51
        }
      },
      "source": [
        "print(Jobsite_df.jobtitle.unique())"
      ],
      "execution_count": 0,
      "outputs": [
        {
          "output_type": "stream",
          "text": [
            "['AI/ML' 'Data Engineer' 'Data Scientist' 'Big Data Engineer'\n",
            " 'Data Analyst' nan]\n"
          ],
          "name": "stdout"
        }
      ]
    },
    {
      "cell_type": "markdown",
      "metadata": {
        "colab_type": "text",
        "id": "ndQjNugSE6PW"
      },
      "source": [
        "### 3.4 What is total number of jobs posted for each Job Title and percentage disribution of each job title to total job postings?"
      ]
    },
    {
      "cell_type": "code",
      "metadata": {
        "colab_type": "code",
        "id": "vFoofaNycqpf",
        "outputId": "fdb368fd-88d1-4d25-ae46-ae573b77cb39",
        "colab": {
          "base_uri": "https://localhost:8080/",
          "height": 119
        }
      },
      "source": [
        "print(Jobsite_df.jobtitle.value_counts())"
      ],
      "execution_count": 0,
      "outputs": [
        {
          "output_type": "stream",
          "text": [
            "Data Scientist       831\n",
            "Data Engineer        212\n",
            "Data Analyst         118\n",
            "AI/ML                 64\n",
            "Big Data Engineer     14\n",
            "Name: jobtitle, dtype: int64\n"
          ],
          "name": "stdout"
        }
      ]
    },
    {
      "cell_type": "code",
      "metadata": {
        "colab_type": "code",
        "id": "uGtt8NDkE6PX",
        "outputId": "2c514524-0e71-4bfc-f815-363ca47e7c3f",
        "colab": {
          "base_uri": "https://localhost:8080/",
          "height": 204
        }
      },
      "source": [
        "Jobsite_df_df2 = [['Data Scientist',831],['Data Engineer',212], ['Data Analyst',118],['AI/ML',64],['Big Data Engineer',14]]\n",
        "Jobsite_df_df2 = pd.DataFrame(Jobsite_df_df2, columns = ['JobTitles', 'NumberOfJobs']) \n",
        "Jobsite_df_df2 = Jobsite_df_df2.sort_values(by = ['NumberOfJobs'], ascending=False)\n",
        "Jobsite_df_df2"
      ],
      "execution_count": 0,
      "outputs": [
        {
          "output_type": "execute_result",
          "data": {
            "text/html": [
              "<div>\n",
              "<style scoped>\n",
              "    .dataframe tbody tr th:only-of-type {\n",
              "        vertical-align: middle;\n",
              "    }\n",
              "\n",
              "    .dataframe tbody tr th {\n",
              "        vertical-align: top;\n",
              "    }\n",
              "\n",
              "    .dataframe thead th {\n",
              "        text-align: right;\n",
              "    }\n",
              "</style>\n",
              "<table border=\"1\" class=\"dataframe\">\n",
              "  <thead>\n",
              "    <tr style=\"text-align: right;\">\n",
              "      <th></th>\n",
              "      <th>JobTitles</th>\n",
              "      <th>NumberOfJobs</th>\n",
              "    </tr>\n",
              "  </thead>\n",
              "  <tbody>\n",
              "    <tr>\n",
              "      <th>0</th>\n",
              "      <td>Data Scientist</td>\n",
              "      <td>831</td>\n",
              "    </tr>\n",
              "    <tr>\n",
              "      <th>1</th>\n",
              "      <td>Data Engineer</td>\n",
              "      <td>212</td>\n",
              "    </tr>\n",
              "    <tr>\n",
              "      <th>2</th>\n",
              "      <td>Data Analyst</td>\n",
              "      <td>118</td>\n",
              "    </tr>\n",
              "    <tr>\n",
              "      <th>3</th>\n",
              "      <td>AI/ML</td>\n",
              "      <td>64</td>\n",
              "    </tr>\n",
              "    <tr>\n",
              "      <th>4</th>\n",
              "      <td>Big Data Engineer</td>\n",
              "      <td>14</td>\n",
              "    </tr>\n",
              "  </tbody>\n",
              "</table>\n",
              "</div>"
            ],
            "text/plain": [
              "           JobTitles  NumberOfJobs\n",
              "0     Data Scientist           831\n",
              "1      Data Engineer           212\n",
              "2       Data Analyst           118\n",
              "3              AI/ML            64\n",
              "4  Big Data Engineer            14"
            ]
          },
          "metadata": {
            "tags": []
          },
          "execution_count": 134
        }
      ]
    },
    {
      "cell_type": "code",
      "metadata": {
        "colab_type": "code",
        "id": "ZlIzkvh_E6PY",
        "outputId": "3553cf2a-db8f-45c2-94f4-3b22b999ff51",
        "colab": {
          "base_uri": "https://localhost:8080/",
          "height": 772
        }
      },
      "source": [
        "Jobsite_df_df2_barplot=sns.catplot(data=Jobsite_df_df2, x= 'JobTitles', y='NumberOfJobs',kind='bar',palette=\"Oranges_r\", ci=None,legend_out=False,height=10, aspect=1.5)\n",
        "plt.xlabel('Job Titles',fontsize=15)\n",
        "plt.ylabel('Number of Job Postings',fontsize=15)\n",
        "plt.title('Job Postings categorised by Job Title(in numbers)',fontsize=20)"
      ],
      "execution_count": 0,
      "outputs": [
        {
          "output_type": "execute_result",
          "data": {
            "text/plain": [
              "Text(0.5, 1, 'Job Postings categorised by Job Title(in numbers)')"
            ]
          },
          "metadata": {
            "tags": []
          },
          "execution_count": 135
        },
        {
          "output_type": "display_data",
          "data": {
            "image/png": "[encoded data removed]",
            "text/plain": [
              "<Figure size 1080x720 with 1 Axes>"
            ]
          },
          "metadata": {
            "tags": []
          }
        }
      ]
    },
    {
      "cell_type": "markdown",
      "metadata": {
        "colab_type": "text",
        "id": "7CcxC15YE6PZ"
      },
      "source": [
        "### There are 831 Data Scientist jobs posted followed by 212 Data engineer jobs."
      ]
    },
    {
      "cell_type": "code",
      "metadata": {
        "colab_type": "code",
        "id": "yb6iyUpeE6Pa",
        "outputId": "cda9d7f6-3517-40f8-96b8-89678ba776e6",
        "colab": {
          "base_uri": "https://localhost:8080/",
          "height": 313
        }
      },
      "source": [
        "\n",
        "labels = ['Data Scientist','Data Engineer','Data Analyst','AI/ML','Big Data Engineer']\n",
        "sizes = [831,212,118,64,14]\n",
        "colors = ['blue','green','grey','yellow','pink']\n",
        "\n",
        "\n",
        "fig1, ax1 = plt.subplots()\n",
        "ax1.pie(sizes, colors = colors, labels=labels, autopct='%1.0f%%', startangle=65)\n",
        "centre_circle = plt.Circle((0,0),0.70,fc='white')\n",
        "fig = plt.gcf()\n",
        "fig.gca().add_artist(centre_circle)\n",
        "ax1.axis('equal')  \n",
        "plt.tight_layout()\n",
        "plt.title('Job Postings categorised by Job Title(in percentage)')\n",
        "plt.show()"
      ],
      "execution_count": 0,
      "outputs": [
        {
          "output_type": "display_data",
          "data": {
            "image/png": "[encoded data removed]",
            "text/plain": [
              "<Figure size 432x288 with 1 Axes>"
            ]
          },
          "metadata": {
            "tags": []
          }
        }
      ]
    },
    {
      "cell_type": "markdown",
      "metadata": {
        "colab_type": "text",
        "id": "4aUPUgZcE6Pa"
      },
      "source": [
        "### The highest job title requested is Data Scientist with 831 requests, followed by Data Engineer with 212 requests."
      ]
    },
    {
      "cell_type": "markdown",
      "metadata": {
        "colab_type": "text",
        "id": "Nby7OLiBE6Pa"
      },
      "source": [
        "### 3.5 Which top 10 states has the maximum Data Scientist jobs?"
      ]
    },
    {
      "cell_type": "code",
      "metadata": {
        "colab_type": "code",
        "id": "-3T8iaMJ0P1o",
        "outputId": "a74a4fea-702c-43d7-84b4-72ea4eb1b89c",
        "colab": {
          "base_uri": "https://localhost:8080/",
          "height": 536
        }
      },
      "source": [
        "plt.figure(figsize=(10,8))\n",
        "MaxState = Jobsite_df.groupby('state')['jobtitle'].count().sort_values(ascending=False)[:10].plot(kind='bar')\n",
        "plt.title('Top 10 States with Data Science Jobs')\n",
        "plt.xlabel(\"States\")\n",
        "plt.ylabel(\"Number of Jobs\")"
      ],
      "execution_count": 0,
      "outputs": [
        {
          "output_type": "execute_result",
          "data": {
            "text/plain": [
              "Text(0, 0.5, 'Number of Jobs')"
            ]
          },
          "metadata": {
            "tags": []
          },
          "execution_count": 137
        },
        {
          "output_type": "display_data",
          "data": {
            "image/png": "[encoded data removed]",
            "text/plain": [
              "<Figure size 720x576 with 1 Axes>"
            ]
          },
          "metadata": {
            "tags": []
          }
        }
      ]
    },
    {
      "cell_type": "markdown",
      "metadata": {
        "colab_type": "text",
        "id": "DUVpf0yZE6Pb"
      },
      "source": [
        "### The state with highest job postings of Data Scientist is Michigan."
      ]
    },
    {
      "cell_type": "markdown",
      "metadata": {
        "colab_type": "text",
        "id": "nteD8Dt9E6Pb"
      },
      "source": [
        "### 3.6 What are the typical job subtitles posted?"
      ]
    },
    {
      "cell_type": "code",
      "metadata": {
        "colab_type": "code",
        "id": "lhE6uu5jf3nl",
        "outputId": "2aaead8e-e92c-44a4-c082-29e3f4d54ef9",
        "colab": {
          "base_uri": "https://localhost:8080/",
          "height": 221
        }
      },
      "source": [
        "print(Jobsite_df.subtitle.value_counts())"
      ],
      "execution_count": 0,
      "outputs": [
        {
          "output_type": "stream",
          "text": [
            "Data Scientist                                                     281\n",
            "Data Engineer                                                       54\n",
            "Data Science Intern                                                 40\n",
            "Data Scientist                                                      28\n",
            "Data Scientist - Deloitte (Remote, Freelance/Contract)              24\n",
            "                                                                  ... \n",
            "Junior Data Scientist - NYC                                          1\n",
            "Multi-Source Intelligence Machine Learning/ Data Scientist 159       1\n",
            "Data Scientist - Market Research                                     1\n",
            "Data Engineer/Scientist for Autonomous Driving Data Cloud            1\n",
            "ORNL Geographic Data Science Post-Master’s Research Associate        1\n",
            "Name: subtitle, Length: 357, dtype: int64\n"
          ],
          "name": "stdout"
        }
      ]
    },
    {
      "cell_type": "code",
      "metadata": {
        "colab_type": "code",
        "id": "OStOPoYyE6Pc",
        "outputId": "e359d14b-e6ad-4fb4-dfe9-c08d611d6e2f",
        "colab": {
          "base_uri": "https://localhost:8080/",
          "height": 867
        }
      },
      "source": [
        "\n",
        "#Most Prominent Skills\n",
        "from wordcloud import WordCloud\n",
        "plt.rcParams['figure.figsize'] = (15, 15)\n",
        "wordcloud = WordCloud(background_color = 'white', width = 1200,  height = 1200, max_words = 121).generate(str(Jobsite_df['subtitle']))\n",
        "plt.imshow(wordcloud)\n",
        "plt.axis('off')\n",
        "plt.title('Most Prominent Skills',fontsize = 20)\n",
        "plt.show()\n"
      ],
      "execution_count": 0,
      "outputs": [
        {
          "output_type": "display_data",
          "data": {
            "image/png": "[encoded data removed]",
            "text/plain": [
              "<Figure size 1080x1080 with 1 Axes>"
            ]
          },
          "metadata": {
            "tags": []
          }
        }
      ]
    },
    {
      "cell_type": "markdown",
      "metadata": {
        "id": "uNXBT-qdiq_H",
        "colab_type": "text"
      },
      "source": [
        "### It is easy to see that Data Scientist is highest subtitle job posted and it can be verified by the count analysis performed in the previous step."
      ]
    },
    {
      "cell_type": "markdown",
      "metadata": {
        "colab_type": "text",
        "id": "lYXBikX0E6Pd"
      },
      "source": [
        "### 3.7 How many states have job postings in this dataset?"
      ]
    },
    {
      "cell_type": "code",
      "metadata": {
        "colab_type": "code",
        "id": "8UUgjk00gbox",
        "outputId": "b41d07cd-d3fa-4e08-e5a7-c7616dd07ac5",
        "colab": {
          "base_uri": "https://localhost:8080/",
          "height": 34
        }
      },
      "source": [
        "len(Jobsite_df['state'].unique().tolist())"
      ],
      "execution_count": 0,
      "outputs": [
        {
          "output_type": "execute_result",
          "data": {
            "text/plain": [
              "40"
            ]
          },
          "metadata": {
            "tags": []
          },
          "execution_count": 140
        }
      ]
    },
    {
      "cell_type": "code",
      "metadata": {
        "colab_type": "code",
        "id": "d4dGij-7E6Pd",
        "outputId": "21e3c987-e2af-4351-ab11-06d5dcfaeac5",
        "colab": {
          "base_uri": "https://localhost:8080/",
          "height": 85
        }
      },
      "source": [
        "Jobsite_df.state.unique()"
      ],
      "execution_count": 0,
      "outputs": [
        {
          "output_type": "execute_result",
          "data": {
            "text/plain": [
              "array([nan, 'NY', 'MI', 'NC', 'OR', 'MD', 'VA', 'TX', 'DE', 'IL', 'CA',\n",
              "       'GA', 'PA', 'AZ', 'OH', 'NJ', 'UT', 'IA', 'MO', 'DC', 'MN', 'IN',\n",
              "       'WA', 'MA', 'TN', 'SD', 'NE', 'WI', 'FL', 'CO', 'KS', 'NH', 'CT',\n",
              "       'RI', 'NM', 'KY', 'SC', 'OK', 'ON', 'NV'], dtype=object)"
            ]
          },
          "metadata": {
            "tags": []
          },
          "execution_count": 141
        }
      ]
    },
    {
      "cell_type": "markdown",
      "metadata": {
        "colab_type": "text",
        "id": "nioiNljjE6Pe"
      },
      "source": [
        "##### There are job postings from 40 different states of the United States."
      ]
    },
    {
      "cell_type": "markdown",
      "metadata": {
        "colab_type": "text",
        "id": "ofO_ZLFZE6Pe"
      },
      "source": [
        "### 3.8 What is the job distribution based on different states?"
      ]
    },
    {
      "cell_type": "code",
      "metadata": {
        "colab_type": "code",
        "id": "VFrqvpWxiqVS",
        "outputId": "7c3b2ba4-d2c8-4700-c440-d034dc7fea16",
        "colab": {
          "base_uri": "https://localhost:8080/",
          "height": 697
        }
      },
      "source": [
        "print(Jobsite_df.state.value_counts())"
      ],
      "execution_count": 0,
      "outputs": [
        {
          "output_type": "stream",
          "text": [
            "MI    117\n",
            "VA    109\n",
            "NY     74\n",
            "CA     71\n",
            "PA     69\n",
            "MD     50\n",
            "MA     44\n",
            "IL     43\n",
            "DC     36\n",
            "OH     29\n",
            "NC     26\n",
            "TX     23\n",
            "GA     21\n",
            "FL     19\n",
            "WA     18\n",
            "IN     16\n",
            "MO     13\n",
            "CT     13\n",
            "IA     12\n",
            "NJ     10\n",
            "UT     10\n",
            "MN     10\n",
            "AZ      8\n",
            "CO      8\n",
            "TN      6\n",
            "OR      5\n",
            "NH      3\n",
            "NM      3\n",
            "WI      3\n",
            "RI      2\n",
            "DE      2\n",
            "KS      2\n",
            "SD      1\n",
            "OK      1\n",
            "SC      1\n",
            "NE      1\n",
            "NV      1\n",
            "ON      1\n",
            "KY      1\n",
            "Name: state, dtype: int64\n"
          ],
          "name": "stdout"
        }
      ]
    },
    {
      "cell_type": "code",
      "metadata": {
        "colab_type": "code",
        "id": "Pc-Gdg7XFb6i",
        "outputId": "59253e68-e361-4e82-f59c-2bd79de3225d",
        "colab": {
          "base_uri": "https://localhost:8080/",
          "height": 589
        }
      },
      "source": [
        "plt.figure(figsize=(12,9))\n",
        "Jobsite_df['state'].value_counts()[:50].plot(kind='barh')\n",
        "plt.xlabel('Number')\n",
        "plt.ylabel('States',fontsize=15)\n",
        "plt.title('Job Distribution',fontsize=20)"
      ],
      "execution_count": 0,
      "outputs": [
        {
          "output_type": "execute_result",
          "data": {
            "text/plain": [
              "Text(0.5, 1.0, 'Job Distribution')"
            ]
          },
          "metadata": {
            "tags": []
          },
          "execution_count": 143
        },
        {
          "output_type": "display_data",
          "data": {
            "image/png": "[encoded data removed]",
            "text/plain": [
              "<Figure size 864x648 with 1 Axes>"
            ]
          },
          "metadata": {
            "tags": []
          }
        }
      ]
    },
    {
      "cell_type": "markdown",
      "metadata": {
        "id": "eUUVEC7Riq_K",
        "colab_type": "text"
      },
      "source": [
        "### From the plot above, we can see the distribution of the job postings in the different states."
      ]
    },
    {
      "cell_type": "code",
      "metadata": {
        "colab_type": "code",
        "id": "X2qXIZAFE6Pf",
        "outputId": "bb6823ae-9839-450b-df59-48985829ba6a",
        "colab": {
          "base_uri": "https://localhost:8080/",
          "height": 204
        }
      },
      "source": [
        "Jobsite_df_df2 = [['Data Scientist',831],['Data Engineer',212], ['Data Analyst',118],['AI/ML',64],['Big Data Engineer',14]]\n",
        "Jobsite_df_df2 = pd.DataFrame(Jobsite_df_df2, columns = ['JobTitles', 'NumberOfJobs']) \n",
        "Jobsite_df_df2 = Jobsite_df_df2.sort_values(by = ['NumberOfJobs'], ascending=False)\n",
        "Jobsite_df_df2"
      ],
      "execution_count": 0,
      "outputs": [
        {
          "output_type": "execute_result",
          "data": {
            "text/html": [
              "<div>\n",
              "<style scoped>\n",
              "    .dataframe tbody tr th:only-of-type {\n",
              "        vertical-align: middle;\n",
              "    }\n",
              "\n",
              "    .dataframe tbody tr th {\n",
              "        vertical-align: top;\n",
              "    }\n",
              "\n",
              "    .dataframe thead th {\n",
              "        text-align: right;\n",
              "    }\n",
              "</style>\n",
              "<table border=\"1\" class=\"dataframe\">\n",
              "  <thead>\n",
              "    <tr style=\"text-align: right;\">\n",
              "      <th></th>\n",
              "      <th>JobTitles</th>\n",
              "      <th>NumberOfJobs</th>\n",
              "    </tr>\n",
              "  </thead>\n",
              "  <tbody>\n",
              "    <tr>\n",
              "      <th>0</th>\n",
              "      <td>Data Scientist</td>\n",
              "      <td>831</td>\n",
              "    </tr>\n",
              "    <tr>\n",
              "      <th>1</th>\n",
              "      <td>Data Engineer</td>\n",
              "      <td>212</td>\n",
              "    </tr>\n",
              "    <tr>\n",
              "      <th>2</th>\n",
              "      <td>Data Analyst</td>\n",
              "      <td>118</td>\n",
              "    </tr>\n",
              "    <tr>\n",
              "      <th>3</th>\n",
              "      <td>AI/ML</td>\n",
              "      <td>64</td>\n",
              "    </tr>\n",
              "    <tr>\n",
              "      <th>4</th>\n",
              "      <td>Big Data Engineer</td>\n",
              "      <td>14</td>\n",
              "    </tr>\n",
              "  </tbody>\n",
              "</table>\n",
              "</div>"
            ],
            "text/plain": [
              "           JobTitles  NumberOfJobs\n",
              "0     Data Scientist           831\n",
              "1      Data Engineer           212\n",
              "2       Data Analyst           118\n",
              "3              AI/ML            64\n",
              "4  Big Data Engineer            14"
            ]
          },
          "metadata": {
            "tags": []
          },
          "execution_count": 144
        }
      ]
    },
    {
      "cell_type": "markdown",
      "metadata": {
        "id": "zwdpGAv8iq_K",
        "colab_type": "text"
      },
      "source": [
        "### From the above analysis and plot, we can conclude that the state of Michigan has the highest number of jobs (117 jobs) posted compared to the 40 different states."
      ]
    },
    {
      "cell_type": "markdown",
      "metadata": {
        "colab_type": "text",
        "id": "4QV1NVdLE6Pg"
      },
      "source": [
        "### 3.9 Which job title has highest posting in Michigan?"
      ]
    },
    {
      "cell_type": "code",
      "metadata": {
        "colab_type": "code",
        "id": "89ZXnsYXjjJt",
        "outputId": "f667b1a8-86c9-4ffa-d373-7dad0caf4e17",
        "colab": {
          "base_uri": "https://localhost:8080/",
          "height": 496
        }
      },
      "source": [
        "michigan = Jobsite_df[Jobsite_df.state == \"MI\"]\n",
        "michigan.head()"
      ],
      "execution_count": 0,
      "outputs": [
        {
          "output_type": "execute_result",
          "data": {
            "text/html": [
              "<div>\n",
              "<style scoped>\n",
              "    .dataframe tbody tr th:only-of-type {\n",
              "        vertical-align: middle;\n",
              "    }\n",
              "\n",
              "    .dataframe tbody tr th {\n",
              "        vertical-align: top;\n",
              "    }\n",
              "\n",
              "    .dataframe thead th {\n",
              "        text-align: right;\n",
              "    }\n",
              "</style>\n",
              "<table border=\"1\" class=\"dataframe\">\n",
              "  <thead>\n",
              "    <tr style=\"text-align: right;\">\n",
              "      <th></th>\n",
              "      <th>number</th>\n",
              "      <th>subtitle</th>\n",
              "      <th>company</th>\n",
              "      <th>city</th>\n",
              "      <th>state</th>\n",
              "      <th>zip</th>\n",
              "      <th>country</th>\n",
              "      <th>salary_range</th>\n",
              "      <th>minsalary</th>\n",
              "      <th>maxsalary</th>\n",
              "      <th>salary</th>\n",
              "      <th>rating</th>\n",
              "      <th>summary</th>\n",
              "      <th>website</th>\n",
              "      <th>jobtitle</th>\n",
              "      <th>levelofjob</th>\n",
              "      <th>python</th>\n",
              "      <th>pandas</th>\n",
              "      <th>numpy</th>\n",
              "      <th>java</th>\n",
              "      <th>excel</th>\n",
              "      <th>sql</th>\n",
              "      <th>spark</th>\n",
              "      <th>pyspark</th>\n",
              "      <th>hadoop</th>\n",
              "      <th>tableau</th>\n",
              "      <th>powerbi</th>\n",
              "      <th>azure</th>\n",
              "      <th>aws</th>\n",
              "      <th>googlecloud</th>\n",
              "    </tr>\n",
              "  </thead>\n",
              "  <tbody>\n",
              "    <tr>\n",
              "      <th>10</th>\n",
              "      <td>11</td>\n",
              "      <td>2020 Summer Internship - Data Science</td>\n",
              "      <td>Domino's</td>\n",
              "      <td>Ann Arbor</td>\n",
              "      <td>MI</td>\n",
              "      <td>48106.0</td>\n",
              "      <td>USA</td>\n",
              "      <td>0</td>\n",
              "      <td>0</td>\n",
              "      <td>0</td>\n",
              "      <td>0.0</td>\n",
              "      <td>3.6</td>\n",
              "      <td>pursuing ms or mba degree in data science, ma...</td>\n",
              "      <td>Indeed.com</td>\n",
              "      <td>Data Scientist</td>\n",
              "      <td>Intern</td>\n",
              "      <td>NaN</td>\n",
              "      <td>NaN</td>\n",
              "      <td>NaN</td>\n",
              "      <td>NaN</td>\n",
              "      <td>NaN</td>\n",
              "      <td>NaN</td>\n",
              "      <td>NaN</td>\n",
              "      <td>NaN</td>\n",
              "      <td>NaN</td>\n",
              "      <td>NaN</td>\n",
              "      <td>NaN</td>\n",
              "      <td>NaN</td>\n",
              "      <td>NaN</td>\n",
              "      <td>NaN</td>\n",
              "    </tr>\n",
              "    <tr>\n",
              "      <th>12</th>\n",
              "      <td>13</td>\n",
              "      <td>Data Scientist</td>\n",
              "      <td>Ford Motor Company</td>\n",
              "      <td>Dearborn</td>\n",
              "      <td>MI</td>\n",
              "      <td>NaN</td>\n",
              "      <td>USA</td>\n",
              "      <td>0</td>\n",
              "      <td>0</td>\n",
              "      <td>0</td>\n",
              "      <td>0.0</td>\n",
              "      <td>4.2</td>\n",
              "      <td>bachelor‚  degree in statistics, economics, d...</td>\n",
              "      <td>Indeed.com</td>\n",
              "      <td>Data Scientist</td>\n",
              "      <td>NaN</td>\n",
              "      <td>NaN</td>\n",
              "      <td>NaN</td>\n",
              "      <td>NaN</td>\n",
              "      <td>NaN</td>\n",
              "      <td>NaN</td>\n",
              "      <td>NaN</td>\n",
              "      <td>NaN</td>\n",
              "      <td>NaN</td>\n",
              "      <td>NaN</td>\n",
              "      <td>NaN</td>\n",
              "      <td>NaN</td>\n",
              "      <td>NaN</td>\n",
              "      <td>NaN</td>\n",
              "      <td>NaN</td>\n",
              "    </tr>\n",
              "    <tr>\n",
              "      <th>15</th>\n",
              "      <td>16</td>\n",
              "      <td>Data Science Analyst</td>\n",
              "      <td>Blue Cross Blue Shield of Michigan</td>\n",
              "      <td>Detroit</td>\n",
              "      <td>MI</td>\n",
              "      <td>NaN</td>\n",
              "      <td>USA</td>\n",
              "      <td>0</td>\n",
              "      <td>0</td>\n",
              "      <td>0</td>\n",
              "      <td>0.0</td>\n",
              "      <td>3.9</td>\n",
              "      <td>bachelor‚  degree in business, data science, ...</td>\n",
              "      <td>Indeed.com</td>\n",
              "      <td>Data Analyst</td>\n",
              "      <td>NaN</td>\n",
              "      <td>NaN</td>\n",
              "      <td>NaN</td>\n",
              "      <td>NaN</td>\n",
              "      <td>NaN</td>\n",
              "      <td>NaN</td>\n",
              "      <td>NaN</td>\n",
              "      <td>NaN</td>\n",
              "      <td>NaN</td>\n",
              "      <td>NaN</td>\n",
              "      <td>NaN</td>\n",
              "      <td>NaN</td>\n",
              "      <td>NaN</td>\n",
              "      <td>NaN</td>\n",
              "      <td>NaN</td>\n",
              "    </tr>\n",
              "    <tr>\n",
              "      <th>16</th>\n",
              "      <td>17</td>\n",
              "      <td>Information Security Analyst II - Data Science...</td>\n",
              "      <td>Blue Cross Blue Shield of Michigan</td>\n",
              "      <td>Detroit</td>\n",
              "      <td>MI</td>\n",
              "      <td>NaN</td>\n",
              "      <td>USA</td>\n",
              "      <td>0</td>\n",
              "      <td>0</td>\n",
              "      <td>0</td>\n",
              "      <td>0.0</td>\n",
              "      <td>3.9</td>\n",
              "      <td>gather, organize, and maintain data for repor...</td>\n",
              "      <td>Indeed.com</td>\n",
              "      <td>Data Analyst</td>\n",
              "      <td>NaN</td>\n",
              "      <td>NaN</td>\n",
              "      <td>NaN</td>\n",
              "      <td>NaN</td>\n",
              "      <td>NaN</td>\n",
              "      <td>NaN</td>\n",
              "      <td>NaN</td>\n",
              "      <td>NaN</td>\n",
              "      <td>NaN</td>\n",
              "      <td>NaN</td>\n",
              "      <td>NaN</td>\n",
              "      <td>NaN</td>\n",
              "      <td>NaN</td>\n",
              "      <td>NaN</td>\n",
              "      <td>NaN</td>\n",
              "    </tr>\n",
              "    <tr>\n",
              "      <th>44</th>\n",
              "      <td>45</td>\n",
              "      <td>Data Scientist</td>\n",
              "      <td>DTE Energy</td>\n",
              "      <td>Detroit</td>\n",
              "      <td>MI</td>\n",
              "      <td>NaN</td>\n",
              "      <td>USA</td>\n",
              "      <td>0</td>\n",
              "      <td>0</td>\n",
              "      <td>0</td>\n",
              "      <td>0.0</td>\n",
              "      <td>4.0</td>\n",
              "      <td>master‚  or phd degree in data science.knowle...</td>\n",
              "      <td>Indeed.com</td>\n",
              "      <td>Data Scientist</td>\n",
              "      <td>NaN</td>\n",
              "      <td>NaN</td>\n",
              "      <td>NaN</td>\n",
              "      <td>NaN</td>\n",
              "      <td>NaN</td>\n",
              "      <td>NaN</td>\n",
              "      <td>sql</td>\n",
              "      <td>NaN</td>\n",
              "      <td>NaN</td>\n",
              "      <td>NaN</td>\n",
              "      <td>NaN</td>\n",
              "      <td>NaN</td>\n",
              "      <td>NaN</td>\n",
              "      <td>NaN</td>\n",
              "      <td>NaN</td>\n",
              "    </tr>\n",
              "  </tbody>\n",
              "</table>\n",
              "</div>"
            ],
            "text/plain": [
              "    number                                           subtitle  ...  aws googlecloud\n",
              "10      11              2020 Summer Internship - Data Science  ...  NaN         NaN\n",
              "12      13                                     Data Scientist  ...  NaN         NaN\n",
              "15      16                               Data Science Analyst  ...  NaN         NaN\n",
              "16      17  Information Security Analyst II - Data Science...  ...  NaN         NaN\n",
              "44      45                                     Data Scientist  ...  NaN         NaN\n",
              "\n",
              "[5 rows x 30 columns]"
            ]
          },
          "metadata": {
            "tags": []
          },
          "execution_count": 145
        }
      ]
    },
    {
      "cell_type": "code",
      "metadata": {
        "colab_type": "code",
        "id": "GUsfXiTT-spM",
        "outputId": "2ce23b5e-7797-4f3f-8f0c-96de02fa81f7",
        "colab": {
          "base_uri": "https://localhost:8080/",
          "height": 102
        }
      },
      "source": [
        "print(michigan.jobtitle.value_counts())"
      ],
      "execution_count": 0,
      "outputs": [
        {
          "output_type": "stream",
          "text": [
            "Data Scientist       86\n",
            "Data Analyst         17\n",
            "Data Engineer        12\n",
            "Big Data Engineer     2\n",
            "Name: jobtitle, dtype: int64\n"
          ],
          "name": "stdout"
        }
      ]
    },
    {
      "cell_type": "code",
      "metadata": {
        "colab_type": "code",
        "id": "kYkb5585E6Ph",
        "outputId": "a116a4c1-dfc6-4eb0-a72d-4b8577f50d55",
        "colab": {
          "base_uri": "https://localhost:8080/",
          "height": 1000
        }
      },
      "source": [
        "labels = ['Data Scientist','Data Analyst','Data Engineer','Big Data Engineer']\n",
        "sizes = [86,12,9,8]\n",
        "colors = ['blue','green','grey','yellow']\n",
        "\n",
        "fig1, ax1 = plt.subplots()\n",
        "ax1.pie(sizes, colors = colors, labels=labels, autopct='%1.0f%%', startangle=65)\n",
        "centre_circle = plt.Circle((0,0),0.70,fc='white')\n",
        "fig = plt.gcf()\n",
        "fig.gca().add_artist(centre_circle)\n",
        "ax1.axis('equal')  \n",
        "plt.tight_layout()\n",
        "plt.title('Job Postings categorised by Job Title in Michigan')\n",
        "plt.show()"
      ],
      "execution_count": 0,
      "outputs": [
        {
          "output_type": "display_data",
          "data": {
            "image/png": "[encoded data removed]",
            "text/plain": [
              "<Figure size 1080x1080 with 1 Axes>"
            ]
          },
          "metadata": {
            "tags": []
          }
        }
      ]
    },
    {
      "cell_type": "markdown",
      "metadata": {
        "colab_type": "text",
        "id": "R59coU7iE6Ph"
      },
      "source": [
        "### Data Scientist has the highest number of job posted in the state of Michigan. Around 75% jobs posted are of Data Scientist position."
      ]
    },
    {
      "cell_type": "markdown",
      "metadata": {
        "colab_type": "text",
        "id": "wdfB0ZL2E6Ph"
      },
      "source": [
        "### 3.10 What is the salary range in Michigan for different job postings?"
      ]
    },
    {
      "cell_type": "code",
      "metadata": {
        "colab_type": "code",
        "id": "1faxeLiArTZ_",
        "outputId": "6b4dd636-73c1-42ee-b066-ccde8f84f13b",
        "colab": {
          "base_uri": "https://localhost:8080/",
          "height": 51
        }
      },
      "source": [
        "sal_mich = michigan[(michigan.salary != 0)]\n",
        "print(\"Minimum Average Salary\", min(sal_mich['salary']))\n",
        "print(\"Maximum Average Salary\", max(sal_mich['salary']))"
      ],
      "execution_count": 0,
      "outputs": [
        {
          "output_type": "stream",
          "text": [
            "Minimum Average Salary 32500.0\n",
            "Maximum Average Salary 125000.0\n"
          ],
          "name": "stdout"
        }
      ]
    },
    {
      "cell_type": "code",
      "metadata": {
        "colab_type": "code",
        "id": "qC89f6sME6Pi",
        "outputId": "b5acb642-f479-475f-84c3-1e1ab529fec8",
        "colab": {
          "base_uri": "https://localhost:8080/",
          "height": 475
        }
      },
      "source": [
        "plt.figure(figsize=(7,7))\n",
        "boxplot_1 = sns.boxplot(x = \"state\", y=\"salary\", data = sal_mich)\n",
        "plt.xticks(rotation=0)\n",
        "plt.title('Boxplot: Salary range in Michigan State')"
      ],
      "execution_count": 0,
      "outputs": [
        {
          "output_type": "execute_result",
          "data": {
            "text/plain": [
              "Text(0.5, 1.0, 'Boxplot: Salary range in Michigan State')"
            ]
          },
          "metadata": {
            "tags": []
          },
          "execution_count": 149
        },
        {
          "output_type": "display_data",
          "data": {
            "image/png": "[encoded data removed]",
            "text/plain": [
              "<Figure size 504x504 with 1 Axes>"
            ]
          },
          "metadata": {
            "tags": []
          }
        }
      ]
    },
    {
      "cell_type": "markdown",
      "metadata": {
        "colab_type": "text",
        "id": "jgqprioDE6Pi"
      },
      "source": [
        "### Minimum salary in Michigan is 32,500 USD with an average of nearly 100,000 USD. Large proportion of jobs posted offer salaries between minimum and mean salary range."
      ]
    },
    {
      "cell_type": "markdown",
      "metadata": {
        "colab_type": "text",
        "id": "GyjJxvRnE6Pi"
      },
      "source": [
        "### 3.11 Which cities in Michigan have jobs posted and what is the count of these jobs in each city?"
      ]
    },
    {
      "cell_type": "code",
      "metadata": {
        "colab_type": "code",
        "id": "Yay4knMzqxuT",
        "outputId": "c80aa73d-5e6d-4c7f-e7e3-6bfaaf4d79a0",
        "colab": {
          "base_uri": "https://localhost:8080/",
          "height": 51
        }
      },
      "source": [
        "print(michigan.city.unique())"
      ],
      "execution_count": 0,
      "outputs": [
        {
          "output_type": "stream",
          "text": [
            "['Ann Arbor' 'Dearborn' 'Detroit' 'Auburn Hills' 'Southfield'\n",
            " 'Saint Joseph' 'Grand Rapids']\n"
          ],
          "name": "stdout"
        }
      ]
    },
    {
      "cell_type": "code",
      "metadata": {
        "colab_type": "code",
        "id": "f3YhpZ26qg2z",
        "outputId": "b7fde8cf-690c-4e1f-ffce-127ca3e5be78",
        "colab": {
          "base_uri": "https://localhost:8080/",
          "height": 153
        }
      },
      "source": [
        "print(michigan.city.value_counts())"
      ],
      "execution_count": 0,
      "outputs": [
        {
          "output_type": "stream",
          "text": [
            "Detroit         43\n",
            "Dearborn        37\n",
            "Ann Arbor       19\n",
            "Auburn Hills    15\n",
            "Saint Joseph     1\n",
            "Southfield       1\n",
            "Grand Rapids     1\n",
            "Name: city, dtype: int64\n"
          ],
          "name": "stdout"
        }
      ]
    },
    {
      "cell_type": "code",
      "metadata": {
        "colab_type": "code",
        "id": "Z4__XM9uE6Pk",
        "outputId": "c7752344-85e2-4673-d2c4-effe8d42ea1d",
        "colab": {
          "base_uri": "https://localhost:8080/",
          "height": 266
        }
      },
      "source": [
        "Jobsite_df_MI_jobs1 = [['Detroit', 43], ['Dearborn', 37], ['Ann Arbor', 19], ['Auburn Hills',15],['Saint Joseph',1],['Grand Rapids',1],['Southfield',1]]\n",
        "Jobsite_df_MI_jobs1 = pd.DataFrame(Jobsite_df_MI_jobs1, columns = ['Cities', 'NumberOfJobs']) \n",
        "Jobsite_df_MI_jobs1 = Jobsite_df_MI_jobs1.sort_values(by = ['NumberOfJobs'], ascending=False)\n",
        "Jobsite_df_MI_jobs1"
      ],
      "execution_count": 0,
      "outputs": [
        {
          "output_type": "execute_result",
          "data": {
            "text/html": [
              "<div>\n",
              "<style scoped>\n",
              "    .dataframe tbody tr th:only-of-type {\n",
              "        vertical-align: middle;\n",
              "    }\n",
              "\n",
              "    .dataframe tbody tr th {\n",
              "        vertical-align: top;\n",
              "    }\n",
              "\n",
              "    .dataframe thead th {\n",
              "        text-align: right;\n",
              "    }\n",
              "</style>\n",
              "<table border=\"1\" class=\"dataframe\">\n",
              "  <thead>\n",
              "    <tr style=\"text-align: right;\">\n",
              "      <th></th>\n",
              "      <th>Cities</th>\n",
              "      <th>NumberOfJobs</th>\n",
              "    </tr>\n",
              "  </thead>\n",
              "  <tbody>\n",
              "    <tr>\n",
              "      <th>0</th>\n",
              "      <td>Detroit</td>\n",
              "      <td>43</td>\n",
              "    </tr>\n",
              "    <tr>\n",
              "      <th>1</th>\n",
              "      <td>Dearborn</td>\n",
              "      <td>37</td>\n",
              "    </tr>\n",
              "    <tr>\n",
              "      <th>2</th>\n",
              "      <td>Ann Arbor</td>\n",
              "      <td>19</td>\n",
              "    </tr>\n",
              "    <tr>\n",
              "      <th>3</th>\n",
              "      <td>Auburn Hills</td>\n",
              "      <td>15</td>\n",
              "    </tr>\n",
              "    <tr>\n",
              "      <th>4</th>\n",
              "      <td>Saint Joseph</td>\n",
              "      <td>1</td>\n",
              "    </tr>\n",
              "    <tr>\n",
              "      <th>5</th>\n",
              "      <td>Grand Rapids</td>\n",
              "      <td>1</td>\n",
              "    </tr>\n",
              "    <tr>\n",
              "      <th>6</th>\n",
              "      <td>Southfield</td>\n",
              "      <td>1</td>\n",
              "    </tr>\n",
              "  </tbody>\n",
              "</table>\n",
              "</div>"
            ],
            "text/plain": [
              "         Cities  NumberOfJobs\n",
              "0       Detroit            43\n",
              "1      Dearborn            37\n",
              "2     Ann Arbor            19\n",
              "3  Auburn Hills            15\n",
              "4  Saint Joseph             1\n",
              "5  Grand Rapids             1\n",
              "6    Southfield             1"
            ]
          },
          "metadata": {
            "tags": []
          },
          "execution_count": 152
        }
      ]
    },
    {
      "cell_type": "code",
      "metadata": {
        "colab_type": "code",
        "id": "zWi8omftE6Pl",
        "outputId": "997a3dd7-431b-4915-8a49-f4a4d507844f",
        "colab": {
          "base_uri": "https://localhost:8080/",
          "height": 772
        }
      },
      "source": [
        "Jobsite_df_MI_jobs1_barplot=sns.catplot(data=Jobsite_df_MI_jobs1, y= 'Cities', x='NumberOfJobs',kind='bar',palette=\"Oranges_r\", ci=None,legend_out=False,height=10, aspect=1.5)\n",
        "plt.ylabel('Cities',fontsize=15)\n",
        "plt.xlabel('Number of Job Postings',fontsize=15)\n",
        "plt.title('Job Postings in Cities of Michigan',fontsize=20)"
      ],
      "execution_count": 0,
      "outputs": [
        {
          "output_type": "execute_result",
          "data": {
            "text/plain": [
              "Text(0.5, 1, 'Job Postings in Cities of Michigan')"
            ]
          },
          "metadata": {
            "tags": []
          },
          "execution_count": 153
        },
        {
          "output_type": "display_data",
          "data": {
            "image/png": "[encoded data removed]",
            "text/plain": [
              "<Figure size 1080x720 with 1 Axes>"
            ]
          },
          "metadata": {
            "tags": []
          }
        }
      ]
    },
    {
      "cell_type": "markdown",
      "metadata": {
        "id": "9njjPQLBiq_R",
        "colab_type": "text"
      },
      "source": [
        "### From the above analysis and plot, we can see that the cities of Detroit, Dearborn, Ann Arbor, Saint Joseph, Grand Rapids and Southfield are cities that have job postings in Michigan. We can also determine that the highest job postings are from the cities Detroit, Dearborn and Ann Arbor respectively."
      ]
    },
    {
      "cell_type": "markdown",
      "metadata": {
        "id": "1dCxUexQpj_S",
        "colab_type": "text"
      },
      "source": [
        "### 3.12 Which job title has highest posting in Virginia (state with second highest job postings)?"
      ]
    },
    {
      "cell_type": "code",
      "metadata": {
        "id": "gRCCO2wUmsGV",
        "colab_type": "code",
        "outputId": "c5a3e2cb-316d-44c6-c802-bb6026a5ec7f",
        "colab": {
          "base_uri": "https://localhost:8080/",
          "height": 598
        }
      },
      "source": [
        "# 2nd Biggest State for Data Science Jobs\n",
        "virginia = Jobsite_df[Jobsite_df.state == \"VA\"]\n",
        "virginia.head()"
      ],
      "execution_count": 0,
      "outputs": [
        {
          "output_type": "execute_result",
          "data": {
            "text/html": [
              "<div>\n",
              "<style scoped>\n",
              "    .dataframe tbody tr th:only-of-type {\n",
              "        vertical-align: middle;\n",
              "    }\n",
              "\n",
              "    .dataframe tbody tr th {\n",
              "        vertical-align: top;\n",
              "    }\n",
              "\n",
              "    .dataframe thead th {\n",
              "        text-align: right;\n",
              "    }\n",
              "</style>\n",
              "<table border=\"1\" class=\"dataframe\">\n",
              "  <thead>\n",
              "    <tr style=\"text-align: right;\">\n",
              "      <th></th>\n",
              "      <th>number</th>\n",
              "      <th>subtitle</th>\n",
              "      <th>company</th>\n",
              "      <th>city</th>\n",
              "      <th>state</th>\n",
              "      <th>zip</th>\n",
              "      <th>country</th>\n",
              "      <th>salary_range</th>\n",
              "      <th>minsalary</th>\n",
              "      <th>maxsalary</th>\n",
              "      <th>salary</th>\n",
              "      <th>rating</th>\n",
              "      <th>summary</th>\n",
              "      <th>website</th>\n",
              "      <th>jobtitle</th>\n",
              "      <th>levelofjob</th>\n",
              "      <th>python</th>\n",
              "      <th>pandas</th>\n",
              "      <th>numpy</th>\n",
              "      <th>java</th>\n",
              "      <th>excel</th>\n",
              "      <th>sql</th>\n",
              "      <th>spark</th>\n",
              "      <th>pyspark</th>\n",
              "      <th>hadoop</th>\n",
              "      <th>tableau</th>\n",
              "      <th>powerbi</th>\n",
              "      <th>azure</th>\n",
              "      <th>aws</th>\n",
              "      <th>googlecloud</th>\n",
              "    </tr>\n",
              "  </thead>\n",
              "  <tbody>\n",
              "    <tr>\n",
              "      <th>28</th>\n",
              "      <td>29</td>\n",
              "      <td>Data Scientist, Senior</td>\n",
              "      <td>UVA Medical Center</td>\n",
              "      <td>Charlottesville</td>\n",
              "      <td>VA</td>\n",
              "      <td>NaN</td>\n",
              "      <td>USA</td>\n",
              "      <td>$97,302 - $155,667 a year</td>\n",
              "      <td>97302</td>\n",
              "      <td>155667</td>\n",
              "      <td>126484.5</td>\n",
              "      <td>3.7</td>\n",
              "      <td>provides guidance to less experienced data an...</td>\n",
              "      <td>Indeed.com</td>\n",
              "      <td>Data Scientist</td>\n",
              "      <td>Senior</td>\n",
              "      <td>NaN</td>\n",
              "      <td>NaN</td>\n",
              "      <td>NaN</td>\n",
              "      <td>NaN</td>\n",
              "      <td>NaN</td>\n",
              "      <td>NaN</td>\n",
              "      <td>NaN</td>\n",
              "      <td>NaN</td>\n",
              "      <td>NaN</td>\n",
              "      <td>NaN</td>\n",
              "      <td>NaN</td>\n",
              "      <td>NaN</td>\n",
              "      <td>NaN</td>\n",
              "      <td>NaN</td>\n",
              "    </tr>\n",
              "    <tr>\n",
              "      <th>192</th>\n",
              "      <td>193</td>\n",
              "      <td>Data Science Director</td>\n",
              "      <td>FAAZ Consulting</td>\n",
              "      <td>Alexandria</td>\n",
              "      <td>VA</td>\n",
              "      <td>NaN</td>\n",
              "      <td>USA</td>\n",
              "      <td>0</td>\n",
              "      <td>0</td>\n",
              "      <td>0</td>\n",
              "      <td>0.0</td>\n",
              "      <td>NaN</td>\n",
              "      <td>improve data collection and presentation capa...</td>\n",
              "      <td>Indeed.com</td>\n",
              "      <td>Data Scientist</td>\n",
              "      <td>NaN</td>\n",
              "      <td>NaN</td>\n",
              "      <td>NaN</td>\n",
              "      <td>NaN</td>\n",
              "      <td>NaN</td>\n",
              "      <td>NaN</td>\n",
              "      <td>NaN</td>\n",
              "      <td>NaN</td>\n",
              "      <td>NaN</td>\n",
              "      <td>NaN</td>\n",
              "      <td>NaN</td>\n",
              "      <td>NaN</td>\n",
              "      <td>NaN</td>\n",
              "      <td>NaN</td>\n",
              "      <td>NaN</td>\n",
              "    </tr>\n",
              "    <tr>\n",
              "      <th>233</th>\n",
              "      <td>234</td>\n",
              "      <td>Data Science Director</td>\n",
              "      <td>FAAZ Consulting</td>\n",
              "      <td>Alexandria</td>\n",
              "      <td>VA</td>\n",
              "      <td>NaN</td>\n",
              "      <td>USA</td>\n",
              "      <td>0</td>\n",
              "      <td>0</td>\n",
              "      <td>0</td>\n",
              "      <td>0.0</td>\n",
              "      <td>NaN</td>\n",
              "      <td>position title: * data science director.data ...</td>\n",
              "      <td>Indeed.com</td>\n",
              "      <td>Data Scientist</td>\n",
              "      <td>NaN</td>\n",
              "      <td>NaN</td>\n",
              "      <td>NaN</td>\n",
              "      <td>NaN</td>\n",
              "      <td>NaN</td>\n",
              "      <td>NaN</td>\n",
              "      <td>NaN</td>\n",
              "      <td>NaN</td>\n",
              "      <td>NaN</td>\n",
              "      <td>NaN</td>\n",
              "      <td>NaN</td>\n",
              "      <td>NaN</td>\n",
              "      <td>NaN</td>\n",
              "      <td>NaN</td>\n",
              "      <td>NaN</td>\n",
              "    </tr>\n",
              "    <tr>\n",
              "      <th>356</th>\n",
              "      <td>357</td>\n",
              "      <td>Data Science Director</td>\n",
              "      <td>FAAZ Consulting</td>\n",
              "      <td>Alexandria</td>\n",
              "      <td>VA</td>\n",
              "      <td>NaN</td>\n",
              "      <td>USA</td>\n",
              "      <td>0</td>\n",
              "      <td>0</td>\n",
              "      <td>0</td>\n",
              "      <td>0.0</td>\n",
              "      <td>NaN</td>\n",
              "      <td>improve data collection and presentation capa...</td>\n",
              "      <td>Indeed.com</td>\n",
              "      <td>Data Engineer</td>\n",
              "      <td>NaN</td>\n",
              "      <td>python</td>\n",
              "      <td>NaN</td>\n",
              "      <td>NaN</td>\n",
              "      <td>NaN</td>\n",
              "      <td>NaN</td>\n",
              "      <td>sql</td>\n",
              "      <td>NaN</td>\n",
              "      <td>NaN</td>\n",
              "      <td>NaN</td>\n",
              "      <td>NaN</td>\n",
              "      <td>NaN</td>\n",
              "      <td>NaN</td>\n",
              "      <td>NaN</td>\n",
              "      <td>NaN</td>\n",
              "    </tr>\n",
              "    <tr>\n",
              "      <th>415</th>\n",
              "      <td>416</td>\n",
              "      <td>Data Science Director</td>\n",
              "      <td>FAAZ Consulting</td>\n",
              "      <td>Alexandria</td>\n",
              "      <td>VA</td>\n",
              "      <td>NaN</td>\n",
              "      <td>USA</td>\n",
              "      <td>0</td>\n",
              "      <td>0</td>\n",
              "      <td>0</td>\n",
              "      <td>0.0</td>\n",
              "      <td>NaN</td>\n",
              "      <td>position title: * data science director.data ...</td>\n",
              "      <td>Indeed.com</td>\n",
              "      <td>Data Engineer</td>\n",
              "      <td>NaN</td>\n",
              "      <td>NaN</td>\n",
              "      <td>NaN</td>\n",
              "      <td>NaN</td>\n",
              "      <td>NaN</td>\n",
              "      <td>NaN</td>\n",
              "      <td>NaN</td>\n",
              "      <td>NaN</td>\n",
              "      <td>NaN</td>\n",
              "      <td>NaN</td>\n",
              "      <td>NaN</td>\n",
              "      <td>NaN</td>\n",
              "      <td>NaN</td>\n",
              "      <td>NaN</td>\n",
              "      <td>NaN</td>\n",
              "    </tr>\n",
              "  </tbody>\n",
              "</table>\n",
              "</div>"
            ],
            "text/plain": [
              "     number                subtitle             company  ... azure  aws  googlecloud\n",
              "28       29  Data Scientist, Senior  UVA Medical Center  ...   NaN  NaN          NaN\n",
              "192     193   Data Science Director     FAAZ Consulting  ...   NaN  NaN          NaN\n",
              "233     234   Data Science Director     FAAZ Consulting  ...   NaN  NaN          NaN\n",
              "356     357   Data Science Director     FAAZ Consulting  ...   NaN  NaN          NaN\n",
              "415     416   Data Science Director     FAAZ Consulting  ...   NaN  NaN          NaN\n",
              "\n",
              "[5 rows x 30 columns]"
            ]
          },
          "metadata": {
            "tags": []
          },
          "execution_count": 188
        }
      ]
    },
    {
      "cell_type": "code",
      "metadata": {
        "id": "9zrEdbj9mvcX",
        "colab_type": "code",
        "outputId": "be1bf9aa-a65f-48fb-8210-8ffc5ba0069e",
        "colab": {
          "base_uri": "https://localhost:8080/",
          "height": 119
        }
      },
      "source": [
        "print(virginia.jobtitle.value_counts())"
      ],
      "execution_count": 0,
      "outputs": [
        {
          "output_type": "stream",
          "text": [
            "Data Scientist       84\n",
            "Data Analyst          9\n",
            "Data Engineer         6\n",
            "AI/ML                 5\n",
            "Big Data Engineer     4\n",
            "Name: jobtitle, dtype: int64\n"
          ],
          "name": "stdout"
        }
      ]
    },
    {
      "cell_type": "code",
      "metadata": {
        "id": "AyweGyLVmzjA",
        "colab_type": "code",
        "outputId": "eeda8fba-1f7a-48f1-fc59-50ee9613e30d",
        "colab": {
          "base_uri": "https://localhost:8080/",
          "height": 1000
        }
      },
      "source": [
        "labels = ['Data Scientist','Data Analyst','Data Engineer','AI/ML','Big Data Engineer']\n",
        "sizes = [84,9,6,5,4]\n",
        "colors = ['blue','green','grey','yellow','red']\n",
        "\n",
        "\n",
        "fig1, ax1 = plt.subplots()\n",
        "ax1.pie(sizes, colors = colors, labels=labels, autopct='%1.0f%%', startangle=65)\n",
        "centre_circle = plt.Circle((0,0),0.70,fc='white')\n",
        "fig = plt.gcf()\n",
        "fig.gca().add_artist(centre_circle)\n",
        "ax1.axis('equal')  \n",
        "plt.tight_layout()\n",
        "plt.title('Job Postings categorised by Job Title in Virginia')\n",
        "plt.show()"
      ],
      "execution_count": 0,
      "outputs": [
        {
          "output_type": "display_data",
          "data": {
            "image/png": "[encoded data removed]",
            "text/plain": [
              "<Figure size 1080x1080 with 1 Axes>"
            ]
          },
          "metadata": {
            "tags": []
          }
        }
      ]
    },
    {
      "cell_type": "markdown",
      "metadata": {
        "id": "msyUrKH-qT_j",
        "colab_type": "text"
      },
      "source": [
        "### Data Scientist has the highest number of job posted in the state of Virginia. Around 78% jobs posted are of Data Scientist position."
      ]
    },
    {
      "cell_type": "markdown",
      "metadata": {
        "id": "7fMmTh9Iqix1",
        "colab_type": "text"
      },
      "source": [
        "### 3.13 What is the salary range in Virginia for different job postings?"
      ]
    },
    {
      "cell_type": "code",
      "metadata": {
        "id": "nCU5vXnvm3oH",
        "colab_type": "code",
        "outputId": "a992c415-3805-46bf-a00b-98da951fb4e3",
        "colab": {
          "base_uri": "https://localhost:8080/",
          "height": 51
        }
      },
      "source": [
        "sal_vir = virginia[(virginia.salary != 0)]\n",
        "print(\"Minimum Average Salary\", min(sal_vir['salary']))\n",
        "print(\"Maximum Average Salary\", max(sal_vir['salary']))"
      ],
      "execution_count": 0,
      "outputs": [
        {
          "output_type": "stream",
          "text": [
            "Minimum Average Salary 44000.0\n",
            "Maximum Average Salary 145000.0\n"
          ],
          "name": "stdout"
        }
      ]
    },
    {
      "cell_type": "code",
      "metadata": {
        "id": "vC2RTIihm6yk",
        "colab_type": "code",
        "outputId": "ca0eaaf7-02ab-4a57-d6ed-cd8e0169409e",
        "colab": {
          "base_uri": "https://localhost:8080/",
          "height": 475
        }
      },
      "source": [
        "plt.figure(figsize=(7,7))\n",
        "boxplot_1 = sns.boxplot(x = \"state\", y=\"salary\", data = sal_vir)\n",
        "plt.xticks(rotation=0)\n",
        "plt.title('Boxplot: Salary range in Virginia State')"
      ],
      "execution_count": 0,
      "outputs": [
        {
          "output_type": "execute_result",
          "data": {
            "text/plain": [
              "Text(0.5, 1.0, 'Boxplot: Salary range in Virginia State')"
            ]
          },
          "metadata": {
            "tags": []
          },
          "execution_count": 158
        },
        {
          "output_type": "display_data",
          "data": {
            "image/png": "[encoded data removed]",
            "text/plain": [
              "<Figure size 504x504 with 1 Axes>"
            ]
          },
          "metadata": {
            "tags": []
          }
        }
      ]
    },
    {
      "cell_type": "markdown",
      "metadata": {
        "id": "HC7ICgkhqsxB",
        "colab_type": "text"
      },
      "source": [
        "### Minimum salary in Virginia is 44,000 USD with an average of nearly 145,000 USD. Large proportion of jobs posted offer salaries between 90,000 - 125,000 USD salary range."
      ]
    },
    {
      "cell_type": "markdown",
      "metadata": {
        "id": "iMoeN0ZnrA3f",
        "colab_type": "text"
      },
      "source": [
        "### 3.15 Which cities in Virginia have jobs posted and what is the count of these jobs in each city?"
      ]
    },
    {
      "cell_type": "code",
      "metadata": {
        "id": "LQ9grhMGm9Gj",
        "colab_type": "code",
        "outputId": "a3c6827d-547b-4b6b-fd5b-eba083714f71",
        "colab": {
          "base_uri": "https://localhost:8080/",
          "height": 85
        }
      },
      "source": [
        "print(virginia.city.unique())"
      ],
      "execution_count": 0,
      "outputs": [
        {
          "output_type": "stream",
          "text": [
            "['Charlottesville' 'Alexandria' 'Reston' 'McLean' 'Arlington' 'Stafford'\n",
            " 'Herndon' 'Chantilly' nan 'Dulles' 'Fairfax' 'Sterling' 'Langley'\n",
            " 'Ashburn' 'Rosslyn' 'Chester' 'Springfield' 'Tysons' 'Vienna' 'Oak Hill'\n",
            " 'Falls Church']\n"
          ],
          "name": "stdout"
        }
      ]
    },
    {
      "cell_type": "code",
      "metadata": {
        "id": "nh8WeShem_PK",
        "colab_type": "code",
        "outputId": "c226b62a-5bef-420e-b2c2-78316502f131",
        "colab": {
          "base_uri": "https://localhost:8080/",
          "height": 374
        }
      },
      "source": [
        "print(virginia.city.value_counts())"
      ],
      "execution_count": 0,
      "outputs": [
        {
          "output_type": "stream",
          "text": [
            "Arlington          29\n",
            "Alexandria         14\n",
            "Reston             10\n",
            "Ashburn             7\n",
            "Chantilly           7\n",
            "McLean              6\n",
            "Herndon             6\n",
            "Charlottesville     4\n",
            "Sterling            3\n",
            "Fairfax             3\n",
            "Dulles              3\n",
            "Stafford            2\n",
            "Springfield         2\n",
            "Tysons              2\n",
            "Vienna              2\n",
            "Langley             2\n",
            "Oak Hill            1\n",
            "Falls Church        1\n",
            "Chester             1\n",
            "Rosslyn             1\n",
            "Name: city, dtype: int64\n"
          ],
          "name": "stdout"
        }
      ]
    },
    {
      "cell_type": "code",
      "metadata": {
        "id": "nq-nOrPxnB0X",
        "colab_type": "code",
        "outputId": "7913b5dc-86e2-4d8e-a454-697d1d925866",
        "colab": {
          "base_uri": "https://localhost:8080/",
          "height": 204
        }
      },
      "source": [
        "#Top 5 cities of Virginia\n",
        "Jobsite_df_VI_jobs1 = [['Arlington', 29], ['Alexandria', 14], ['Reston', 10], ['Chantilly',7],['Ashburn',7]]\n",
        "Jobsite_df_VI_jobs1 = pd.DataFrame(Jobsite_df_VI_jobs1, columns = ['Cities', 'NumberOfJobs']) \n",
        "Jobsite_df_VI_jobs1 = Jobsite_df_VI_jobs1.sort_values(by = ['NumberOfJobs'], ascending=False)\n",
        "Jobsite_df_VI_jobs1"
      ],
      "execution_count": 0,
      "outputs": [
        {
          "output_type": "execute_result",
          "data": {
            "text/html": [
              "<div>\n",
              "<style scoped>\n",
              "    .dataframe tbody tr th:only-of-type {\n",
              "        vertical-align: middle;\n",
              "    }\n",
              "\n",
              "    .dataframe tbody tr th {\n",
              "        vertical-align: top;\n",
              "    }\n",
              "\n",
              "    .dataframe thead th {\n",
              "        text-align: right;\n",
              "    }\n",
              "</style>\n",
              "<table border=\"1\" class=\"dataframe\">\n",
              "  <thead>\n",
              "    <tr style=\"text-align: right;\">\n",
              "      <th></th>\n",
              "      <th>Cities</th>\n",
              "      <th>NumberOfJobs</th>\n",
              "    </tr>\n",
              "  </thead>\n",
              "  <tbody>\n",
              "    <tr>\n",
              "      <th>0</th>\n",
              "      <td>Arlington</td>\n",
              "      <td>29</td>\n",
              "    </tr>\n",
              "    <tr>\n",
              "      <th>1</th>\n",
              "      <td>Alexandria</td>\n",
              "      <td>14</td>\n",
              "    </tr>\n",
              "    <tr>\n",
              "      <th>2</th>\n",
              "      <td>Reston</td>\n",
              "      <td>10</td>\n",
              "    </tr>\n",
              "    <tr>\n",
              "      <th>3</th>\n",
              "      <td>Chantilly</td>\n",
              "      <td>7</td>\n",
              "    </tr>\n",
              "    <tr>\n",
              "      <th>4</th>\n",
              "      <td>Ashburn</td>\n",
              "      <td>7</td>\n",
              "    </tr>\n",
              "  </tbody>\n",
              "</table>\n",
              "</div>"
            ],
            "text/plain": [
              "       Cities  NumberOfJobs\n",
              "0   Arlington            29\n",
              "1  Alexandria            14\n",
              "2      Reston            10\n",
              "3   Chantilly             7\n",
              "4     Ashburn             7"
            ]
          },
          "metadata": {
            "tags": []
          },
          "execution_count": 161
        }
      ]
    },
    {
      "cell_type": "code",
      "metadata": {
        "id": "rBIhhElZnEuO",
        "colab_type": "code",
        "outputId": "5cdf0b8e-9446-4d65-c87d-2ca33398184c",
        "colab": {
          "base_uri": "https://localhost:8080/",
          "height": 772
        }
      },
      "source": [
        "Jobsite_df_VI_jobs1_barplot=sns.catplot(data=Jobsite_df_VI_jobs1, y= 'Cities', x='NumberOfJobs',kind='bar',palette=\"Oranges_r\", ci=None,legend_out=False,height=10, aspect=1.5)\n",
        "plt.ylabel('Cities',fontsize=15)\n",
        "plt.xlabel('Number of Job Postings',fontsize=15)\n",
        "plt.title('Job Postings in Cities of Virginia',fontsize=20)"
      ],
      "execution_count": 0,
      "outputs": [
        {
          "output_type": "execute_result",
          "data": {
            "text/plain": [
              "Text(0.5, 1, 'Job Postings in Cities of Virginia')"
            ]
          },
          "metadata": {
            "tags": []
          },
          "execution_count": 162
        },
        {
          "output_type": "display_data",
          "data": {
            "image/png": "[encoded data removed]",
            "text/plain": [
              "<Figure size 1080x720 with 1 Axes>"
            ]
          },
          "metadata": {
            "tags": []
          }
        }
      ]
    },
    {
      "cell_type": "markdown",
      "metadata": {
        "id": "yuhO-zjGrNsq",
        "colab_type": "text"
      },
      "source": [
        "### From the above analysis and plot, we can see that the city of Arlington, has the highest job postings in Virgnia."
      ]
    },
    {
      "cell_type": "markdown",
      "metadata": {
        "colab_type": "text",
        "id": "kEGuIyh4E6Pm"
      },
      "source": [
        "### 3.16 Which job is top highest paying job posted?"
      ]
    },
    {
      "cell_type": "code",
      "metadata": {
        "colab_type": "code",
        "id": "34etmPGRE6Pm",
        "outputId": "153fe325-745e-408d-ab5c-1206a9e2ac1c",
        "colab": {
          "base_uri": "https://localhost:8080/",
          "height": 136
        }
      },
      "source": [
        "Jobsite_df.groupby('jobtitle')['salary'].max()"
      ],
      "execution_count": 0,
      "outputs": [
        {
          "output_type": "execute_result",
          "data": {
            "text/plain": [
              "jobtitle\n",
              "AI/ML                157500.0\n",
              "Big Data Engineer    125000.0\n",
              "Data Analyst         145300.0\n",
              "Data Engineer        280000.0\n",
              "Data Scientist       239700.0\n",
              "Name: salary, dtype: float64"
            ]
          },
          "metadata": {
            "tags": []
          },
          "execution_count": 163
        }
      ]
    },
    {
      "cell_type": "code",
      "metadata": {
        "colab_type": "code",
        "id": "FBP_QKV5E6Pm",
        "outputId": "29c7b1b3-4d98-4554-fbbb-8a46495bf805",
        "colab": {
          "base_uri": "https://localhost:8080/",
          "height": 551
        }
      },
      "source": [
        "plt.figure(figsize=(12,9))\n",
        "Q3_bar_plot = sns.barplot(data = Jobsite_df, x='jobtitle', y = 'salary')\n"
      ],
      "execution_count": 0,
      "outputs": [
        {
          "output_type": "display_data",
          "data": {
            "image/png": "[encoded data removed]",
            "text/plain": [
              "<Figure size 864x648 with 1 Axes>"
            ]
          },
          "metadata": {
            "tags": []
          }
        }
      ]
    },
    {
      "cell_type": "markdown",
      "metadata": {
        "colab_type": "text",
        "id": "mTk7n8bHE6Pn"
      },
      "source": [
        "### The top 3 paying jobs as per the graph are Data Engineer, followed by Data Scientist and AI/ ML."
      ]
    },
    {
      "cell_type": "code",
      "metadata": {
        "colab_type": "code",
        "id": "SDyyMjO2zzlC",
        "colab": {}
      },
      "source": [
        "### 3.12  Are there any outliers in case of above plot ?"
      ],
      "execution_count": 0,
      "outputs": []
    },
    {
      "cell_type": "code",
      "metadata": {
        "colab_type": "code",
        "id": "oPYbc0faz34N",
        "outputId": "39caa481-bf41-49eb-e3be-8e8d1b846894",
        "colab": {
          "base_uri": "https://localhost:8080/",
          "height": 584
        }
      },
      "source": [
        "Jobsite_df_salary = Jobsite_df[(Jobsite_df.salary != 0)]\n",
        "plt.figure(figsize=(12,9))\n",
        "boxplot_1 = sns.boxplot(x = \"jobtitle\", y=\"salary\", data = Jobsite_df_salary)\n",
        "plt.xticks(rotation=0)\n",
        "plt.title('Boxplot: Salary range for each Job Title')"
      ],
      "execution_count": 0,
      "outputs": [
        {
          "output_type": "execute_result",
          "data": {
            "text/plain": [
              "Text(0.5, 1.0, 'Boxplot: Salary range for each Job Title')"
            ]
          },
          "metadata": {
            "tags": []
          },
          "execution_count": 166
        },
        {
          "output_type": "display_data",
          "data": {
            "image/png": "[encoded data removed]",
            "text/plain": [
              "<Figure size 864x648 with 1 Axes>"
            ]
          },
          "metadata": {
            "tags": []
          }
        }
      ]
    },
    {
      "cell_type": "markdown",
      "metadata": {
        "colab_type": "text",
        "id": "n3EuP3ViE6Po"
      },
      "source": [
        "### Earlier, we have noticed that Data Engineer Salary is highest, however, from above graph we can conlude that based on average salaries, the first highest paying job is ML / AI, followed by Data Scientist and then Data Engineer."
      ]
    },
    {
      "cell_type": "markdown",
      "metadata": {
        "id": "51trz9tiiq_T",
        "colab_type": "text"
      },
      "source": [
        "### 3.17 What are the Software key skill categories required?"
      ]
    },
    {
      "cell_type": "code",
      "metadata": {
        "colab_type": "code",
        "id": "xnfQjhMO8RAe",
        "outputId": "91358181-c507-4bf5-df53-968acd29bbb4",
        "colab": {
          "base_uri": "https://localhost:8080/",
          "height": 390
        }
      },
      "source": [
        "# initialize list of lists \n",
        "skillset_data = [['python', 544], ['pandas', 50], ['numpy', 42], ['java',188],['excel',288],['sql',416], ['spark',163], ['pyspark',12],['hadoop',153],['tableau',153],['powerbi',14]] \n",
        "# Create the pandas DataFrame \n",
        "skillset_data = pd.DataFrame(skillset_data, columns = ['SkillSet', 'Number']) \n",
        "skillset_data = skillset_data.sort_values(by = ['Number'], ascending=False)\n",
        "# print dataframe. \n",
        "skillset_data \n"
      ],
      "execution_count": 0,
      "outputs": [
        {
          "output_type": "execute_result",
          "data": {
            "text/html": [
              "<div>\n",
              "<style scoped>\n",
              "    .dataframe tbody tr th:only-of-type {\n",
              "        vertical-align: middle;\n",
              "    }\n",
              "\n",
              "    .dataframe tbody tr th {\n",
              "        vertical-align: top;\n",
              "    }\n",
              "\n",
              "    .dataframe thead th {\n",
              "        text-align: right;\n",
              "    }\n",
              "</style>\n",
              "<table border=\"1\" class=\"dataframe\">\n",
              "  <thead>\n",
              "    <tr style=\"text-align: right;\">\n",
              "      <th></th>\n",
              "      <th>SkillSet</th>\n",
              "      <th>Number</th>\n",
              "    </tr>\n",
              "  </thead>\n",
              "  <tbody>\n",
              "    <tr>\n",
              "      <th>0</th>\n",
              "      <td>python</td>\n",
              "      <td>544</td>\n",
              "    </tr>\n",
              "    <tr>\n",
              "      <th>5</th>\n",
              "      <td>sql</td>\n",
              "      <td>416</td>\n",
              "    </tr>\n",
              "    <tr>\n",
              "      <th>4</th>\n",
              "      <td>excel</td>\n",
              "      <td>288</td>\n",
              "    </tr>\n",
              "    <tr>\n",
              "      <th>3</th>\n",
              "      <td>java</td>\n",
              "      <td>188</td>\n",
              "    </tr>\n",
              "    <tr>\n",
              "      <th>6</th>\n",
              "      <td>spark</td>\n",
              "      <td>163</td>\n",
              "    </tr>\n",
              "    <tr>\n",
              "      <th>8</th>\n",
              "      <td>hadoop</td>\n",
              "      <td>153</td>\n",
              "    </tr>\n",
              "    <tr>\n",
              "      <th>9</th>\n",
              "      <td>tableau</td>\n",
              "      <td>153</td>\n",
              "    </tr>\n",
              "    <tr>\n",
              "      <th>1</th>\n",
              "      <td>pandas</td>\n",
              "      <td>50</td>\n",
              "    </tr>\n",
              "    <tr>\n",
              "      <th>2</th>\n",
              "      <td>numpy</td>\n",
              "      <td>42</td>\n",
              "    </tr>\n",
              "    <tr>\n",
              "      <th>10</th>\n",
              "      <td>powerbi</td>\n",
              "      <td>14</td>\n",
              "    </tr>\n",
              "    <tr>\n",
              "      <th>7</th>\n",
              "      <td>pyspark</td>\n",
              "      <td>12</td>\n",
              "    </tr>\n",
              "  </tbody>\n",
              "</table>\n",
              "</div>"
            ],
            "text/plain": [
              "   SkillSet  Number\n",
              "0    python     544\n",
              "5       sql     416\n",
              "4     excel     288\n",
              "3      java     188\n",
              "6     spark     163\n",
              "8    hadoop     153\n",
              "9   tableau     153\n",
              "1    pandas      50\n",
              "2     numpy      42\n",
              "10  powerbi      14\n",
              "7   pyspark      12"
            ]
          },
          "metadata": {
            "tags": []
          },
          "execution_count": 167
        }
      ]
    },
    {
      "cell_type": "code",
      "metadata": {
        "id": "gVU7HkTBmBGf",
        "colab_type": "code",
        "outputId": "94f38f72-618a-4a28-cf40-0d6f0f7b0e0c",
        "colab": {
          "base_uri": "https://localhost:8080/",
          "height": 34
        }
      },
      "source": [
        "pip install squarify"
      ],
      "execution_count": 0,
      "outputs": [
        {
          "output_type": "stream",
          "text": [
            "Requirement already satisfied: squarify in /usr/local/lib/python3.6/dist-packages (0.4.3)\n"
          ],
          "name": "stdout"
        }
      ]
    },
    {
      "cell_type": "code",
      "metadata": {
        "id": "93ywFInimdgg",
        "colab_type": "code",
        "outputId": "a01dc156-bc82-4367-80a0-6966549d24ad",
        "colab": {
          "base_uri": "https://localhost:8080/",
          "height": 846
        }
      },
      "source": [
        "#Tree Map for Skillsets\n",
        "\n",
        "import squarify   \n",
        "squarify.plot(sizes= [544,416,288, 188,163,153,50, 42,14,12] , label= [\"python\" , \"sql\",\"excel\",\"java\",\"spark\",\"hadoop\",\"tableau\",\"pandas\",\"numpy\",\"powerbi\",\"pyspark\"], alpha=.7 )\n",
        "plt.axis('off')\n",
        "plt.show()"
      ],
      "execution_count": 0,
      "outputs": [
        {
          "output_type": "display_data",
          "data": {
            "image/png": "[encoded data removed]",
            "text/plain": [
              "<Figure size 1080x1080 with 1 Axes>"
            ]
          },
          "metadata": {
            "tags": []
          }
        }
      ]
    },
    {
      "cell_type": "code",
      "metadata": {
        "colab_type": "code",
        "outputId": "fcf1d9e0-b6c3-421d-8533-6a4681130f5d",
        "id": "kmXPbLlGmSm0",
        "colab": {
          "base_uri": "https://localhost:8080/",
          "height": 772
        }
      },
      "source": [
        "skillset_data_barplot=sns.catplot(data=skillset_data, y= 'SkillSet', x='Number',kind='bar',palette=\"Blues_r\", ci=None,legend_out=False,height=10, aspect=1.5)\n",
        "plt.xlabel('SkillSet',fontsize=15)\n",
        "plt.ylabel('Number',fontsize=15)\n",
        "plt.title('Skill Sets',fontsize=20)"
      ],
      "execution_count": 0,
      "outputs": [
        {
          "output_type": "execute_result",
          "data": {
            "text/plain": [
              "Text(0.5, 1, 'Skill Sets')"
            ]
          },
          "metadata": {
            "tags": []
          },
          "execution_count": 170
        },
        {
          "output_type": "display_data",
          "data": {
            "image/png": "[encoded data removed]",
            "text/plain": [
              "<Figure size 1080x720 with 1 Axes>"
            ]
          },
          "metadata": {
            "tags": []
          }
        }
      ]
    },
    {
      "cell_type": "markdown",
      "metadata": {
        "id": "WYXJuyZkiq_U",
        "colab_type": "text"
      },
      "source": [
        "### Based on above graph, we can conclude that Python is the most demanding skill set, followed by SQL and EXCEL."
      ]
    },
    {
      "cell_type": "markdown",
      "metadata": {
        "id": "yB3mhQMnjf8j",
        "colab_type": "text"
      },
      "source": [
        "### 3.18 Which States have highest job posting of Data Scientists job?"
      ]
    },
    {
      "cell_type": "markdown",
      "metadata": {
        "colab_type": "text",
        "id": "DHukIZ-iGJQ9"
      },
      "source": [
        "select typeofjob,max(maxsalary),min(minsalary),avg(avgsalary) from scrape_data where minsalary > 0 and avgsalary > 0 and maxsalary > 0 group by typeofjob order by max(maxsalary) desc;\n",
        "\n",
        "\n",
        "select max(maxsalary),min(minsalary),avg(avgsalary) from scrape_data where minsalary > 0 and avgsalary > 0 and maxsalary > 0 order by max(maxsalary) desc;\n",
        "\n",
        "\n",
        "select state, count(number) from scrape_data where typeofjob = \"Data Scientist\" group by state order by count(number) desc;\n",
        "\n",
        "\n",
        "select state, count(number) from scrape_data where typeofjob = \"Data Analyst\" group by state order by count(number) desc;\n",
        "\n",
        "select state, min(minsalary), max(maxsalary) from scrape_data where typeofjob = \"Data Scientist\" and minsalary > 0 and maxsalary > 0 group by state order by max(maxsalary) desc;\n",
        "\n",
        "\n",
        "select state, min(minsalary), max(maxsalary) from scrape_data where typeofjob = \"Data Analyst\" and minsalary > 0 and maxsalary > 0 group by state order by max(maxsalary) desc;"
      ]
    },
    {
      "cell_type": "code",
      "metadata": {
        "colab_type": "code",
        "id": "VlGXnYqlGOTX",
        "colab": {}
      },
      "source": [
        "ds1= pd.read_csv('https://storage.googleapis.com/csvfds/1.csv')\n",
        "ds2= pd.read_csv('https://storage.googleapis.com/csvfds/2.csv')\n",
        "ds3= pd.read_csv('https://storage.googleapis.com/csvfds/3.csv')\n",
        "ds4= pd.read_csv('https://storage.googleapis.com/csvfds/4.csv')\n",
        "ds6= pd.read_csv('https://storage.googleapis.com/csvfds/6.csv')\n",
        "ds7= pd.read_csv('https://storage.googleapis.com/csvfds/7.csv')\n"
      ],
      "execution_count": 0,
      "outputs": []
    },
    {
      "cell_type": "code",
      "metadata": {
        "colab_type": "code",
        "id": "FcJfaNVyHC6M",
        "outputId": "d31b60cb-14ef-430c-ea6f-a2ac36e3123c",
        "colab": {
          "base_uri": "https://localhost:8080/",
          "height": 204
        }
      },
      "source": [
        "#select state, count(number) from scrape_data where typeofjob = \"Data Scientist\" group by state order by count(number) desc;\n",
        "ds3.head()"
      ],
      "execution_count": 0,
      "outputs": [
        {
          "output_type": "execute_result",
          "data": {
            "text/html": [
              "<div>\n",
              "<style scoped>\n",
              "    .dataframe tbody tr th:only-of-type {\n",
              "        vertical-align: middle;\n",
              "    }\n",
              "\n",
              "    .dataframe tbody tr th {\n",
              "        vertical-align: top;\n",
              "    }\n",
              "\n",
              "    .dataframe thead th {\n",
              "        text-align: right;\n",
              "    }\n",
              "</style>\n",
              "<table border=\"1\" class=\"dataframe\">\n",
              "  <thead>\n",
              "    <tr style=\"text-align: right;\">\n",
              "      <th></th>\n",
              "      <th>state</th>\n",
              "      <th>count(number)</th>\n",
              "    </tr>\n",
              "  </thead>\n",
              "  <tbody>\n",
              "    <tr>\n",
              "      <th>0</th>\n",
              "      <td>NaN</td>\n",
              "      <td>201</td>\n",
              "    </tr>\n",
              "    <tr>\n",
              "      <th>1</th>\n",
              "      <td>MI</td>\n",
              "      <td>99</td>\n",
              "    </tr>\n",
              "    <tr>\n",
              "      <th>2</th>\n",
              "      <td>VA</td>\n",
              "      <td>90</td>\n",
              "    </tr>\n",
              "    <tr>\n",
              "      <th>3</th>\n",
              "      <td>CA</td>\n",
              "      <td>70</td>\n",
              "    </tr>\n",
              "    <tr>\n",
              "      <th>4</th>\n",
              "      <td>PA</td>\n",
              "      <td>64</td>\n",
              "    </tr>\n",
              "  </tbody>\n",
              "</table>\n",
              "</div>"
            ],
            "text/plain": [
              "  state  count(number)\n",
              "0   NaN            201\n",
              "1    MI             99\n",
              "2    VA             90\n",
              "3    CA             70\n",
              "4    PA             64"
            ]
          },
          "metadata": {
            "tags": []
          },
          "execution_count": 172
        }
      ]
    },
    {
      "cell_type": "code",
      "metadata": {
        "colab_type": "code",
        "id": "OhT6IdOvOON_",
        "outputId": "1b1f5a0e-ed64-48b5-c22e-df86fc801346",
        "colab": {
          "base_uri": "https://localhost:8080/",
          "height": 542
        }
      },
      "source": [
        "import plotly.graph_objects as go\n",
        "fig = go.Figure(data=go.Choropleth(\n",
        "    locations=ds3['state'], # States\n",
        "    z = ds3['count(number)'].astype(float), # Data to be color-coded 'count'\n",
        "    locationmode = 'USA-states', # set of locations match entries in `locations`\n",
        "    colorscale = 'Reds',\n",
        "    colorbar_title = \"Count of Jobs\",\n",
        "))\n",
        "\n",
        "fig.update_layout(\n",
        "    title_text = 'No. of Data Scientist Jobs in States',\n",
        "    geo_scope='usa', # limite map scope to USA\n",
        ")\n",
        "\n",
        "fig.show()"
      ],
      "execution_count": 0,
      "outputs": [
        {
          "output_type": "display_data",
          "data": {
            "text/html": [
              "<html>\n",
              "<head><meta charset=\"utf-8\" /></head>\n",
              "<body>\n",
              "    <div>\n",
              "            <script src=\"https://cdnjs.cloudflare.com/ajax/libs/mathjax/2.7.5/MathJax.js?config=TeX-AMS-MML_SVG\"></script><script type=\"text/javascript\">if (window.MathJax) {MathJax.Hub.Config({SVG: {font: \"STIX-Web\"}});}</script>\n",
              "                <script type=\"text/javascript\">window.PlotlyConfig = {MathJaxConfig: 'local'};</script>\n",
              "        <script src=\"https://cdn.plot.ly/plotly-latest.min.js\"></script>    \n",
              "            <div id=\"b269a10e-0ac9-41b6-9fbd-fd8fffcca485\" class=\"plotly-graph-div\" style=\"height:525px; width:100%;\"></div>\n",
              "            <script type=\"text/javascript\">\n",
              "                \n",
              "                    window.PLOTLYENV=window.PLOTLYENV || {};\n",
              "                    \n",
              "                if (document.getElementById(\"b269a10e-0ac9-41b6-9fbd-fd8fffcca485\")) {\n",
              "                    Plotly.newPlot(\n",
              "                        'b269a10e-0ac9-41b6-9fbd-fd8fffcca485',\n",
              "                        [{\"colorbar\": {\"title\": {\"text\": \"Count of Jobs\"}}, \"colorscale\": [[0.0, \"rgb(255,245,240)\"], [0.125, \"rgb(254,224,210)\"], [0.25, \"rgb(252,187,161)\"], [0.375, \"rgb(252,146,114)\"], [0.5, \"rgb(251,106,74)\"], [0.625, \"rgb(239,59,44)\"], [0.75, \"rgb(203,24,29)\"], [0.875, \"rgb(165,15,21)\"], [1.0, \"rgb(103,0,13)\"]], \"locationmode\": \"USA-states\", \"locations\": [null, \"MI\", \"VA\", \"CA\", \"PA\", \"NY\", \"MD\", \"IL\", \"OH\", \"DC\", \"MA\", \"NC\", \"TX\", \"GA\", \"FL\", \"NJ\", \"MO\", \"WA\", \"CO\", \"IA\", \"MN\", \"CT\", \"UT\", \"OR\", \"IN\", \"AZ\", \"NM\", \"NV\", \"WI\", \"RI\", \"SC\", \"DE\", \"KS\", \"MS\", \"TN\", \"KY\"], \"type\": \"choropleth\", \"z\": [201.0, 99.0, 90.0, 70.0, 64.0, 57.0, 50.0, 40.0, 31.0, 29.0, 25.0, 23.0, 20.0, 19.0, 12.0, 11.0, 11.0, 11.0, 10.0, 9.0, 9.0, 9.0, 8.0, 5.0, 5.0, 3.0, 2.0, 2.0, 2.0, 2.0, 1.0, 1.0, 1.0, 1.0, 1.0, 1.0]}],\n",
              "                        {\"geo\": {\"scope\": \"usa\"}, \"template\": {\"data\": {\"bar\": [{\"error_x\": {\"color\": \"#2a3f5f\"}, \"error_y\": {\"color\": \"#2a3f5f\"}, \"marker\": {\"line\": {\"color\": \"#E5ECF6\", \"width\": 0.5}}, \"type\": \"bar\"}], \"barpolar\": [{\"marker\": {\"line\": {\"color\": \"#E5ECF6\", \"width\": 0.5}}, \"type\": \"barpolar\"}], \"carpet\": [{\"aaxis\": {\"endlinecolor\": \"#2a3f5f\", \"gridcolor\": \"white\", \"linecolor\": \"white\", \"minorgridcolor\": \"white\", \"startlinecolor\": \"#2a3f5f\"}, \"baxis\": {\"endlinecolor\": \"#2a3f5f\", \"gridcolor\": \"white\", \"linecolor\": \"white\", \"minorgridcolor\": \"white\", \"startlinecolor\": \"#2a3f5f\"}, \"type\": \"carpet\"}], \"choropleth\": [{\"colorbar\": {\"outlinewidth\": 0, \"ticks\": \"\"}, \"type\": \"choropleth\"}], \"contour\": [{\"colorbar\": {\"outlinewidth\": 0, \"ticks\": \"\"}, \"colorscale\": [[0.0, \"#0d0887\"], [0.1111111111111111, \"#46039f\"], [0.2222222222222222, \"#7201a8\"], [0.3333333333333333, \"#9c179e\"], [0.4444444444444444, \"#bd3786\"], [0.5555555555555556, \"#d8576b\"], [0.6666666666666666, \"#ed7953\"], [0.7777777777777778, \"#fb9f3a\"], [0.8888888888888888, \"#fdca26\"], [1.0, \"#f0f921\"]], \"type\": \"contour\"}], \"contourcarpet\": [{\"colorbar\": {\"outlinewidth\": 0, \"ticks\": \"\"}, \"type\": \"contourcarpet\"}], \"heatmap\": [{\"colorbar\": {\"outlinewidth\": 0, \"ticks\": \"\"}, \"colorscale\": [[0.0, \"#0d0887\"], [0.1111111111111111, \"#46039f\"], [0.2222222222222222, \"#7201a8\"], [0.3333333333333333, \"#9c179e\"], [0.4444444444444444, \"#bd3786\"], [0.5555555555555556, \"#d8576b\"], [0.6666666666666666, \"#ed7953\"], [0.7777777777777778, \"#fb9f3a\"], [0.8888888888888888, \"#fdca26\"], [1.0, \"#f0f921\"]], \"type\": \"heatmap\"}], \"heatmapgl\": [{\"colorbar\": {\"outlinewidth\": 0, \"ticks\": \"\"}, \"colorscale\": [[0.0, \"#0d0887\"], [0.1111111111111111, \"#46039f\"], [0.2222222222222222, \"#7201a8\"], [0.3333333333333333, \"#9c179e\"], [0.4444444444444444, \"#bd3786\"], [0.5555555555555556, \"#d8576b\"], [0.6666666666666666, \"#ed7953\"], [0.7777777777777778, \"#fb9f3a\"], [0.8888888888888888, \"#fdca26\"], [1.0, \"#f0f921\"]], \"type\": \"heatmapgl\"}], \"histogram\": [{\"marker\": {\"colorbar\": {\"outlinewidth\": 0, \"ticks\": \"\"}}, \"type\": \"histogram\"}], \"histogram2d\": [{\"colorbar\": {\"outlinewidth\": 0, \"ticks\": \"\"}, \"colorscale\": [[0.0, \"#0d0887\"], [0.1111111111111111, \"#46039f\"], [0.2222222222222222, \"#7201a8\"], [0.3333333333333333, \"#9c179e\"], [0.4444444444444444, \"#bd3786\"], [0.5555555555555556, \"#d8576b\"], [0.6666666666666666, \"#ed7953\"], [0.7777777777777778, \"#fb9f3a\"], [0.8888888888888888, \"#fdca26\"], [1.0, \"#f0f921\"]], \"type\": \"histogram2d\"}], \"histogram2dcontour\": [{\"colorbar\": {\"outlinewidth\": 0, \"ticks\": \"\"}, \"colorscale\": [[0.0, \"#0d0887\"], [0.1111111111111111, \"#46039f\"], [0.2222222222222222, \"#7201a8\"], [0.3333333333333333, \"#9c179e\"], [0.4444444444444444, \"#bd3786\"], [0.5555555555555556, \"#d8576b\"], [0.6666666666666666, \"#ed7953\"], [0.7777777777777778, \"#fb9f3a\"], [0.8888888888888888, \"#fdca26\"], [1.0, \"#f0f921\"]], \"type\": \"histogram2dcontour\"}], \"mesh3d\": [{\"colorbar\": {\"outlinewidth\": 0, \"ticks\": \"\"}, \"type\": \"mesh3d\"}], \"parcoords\": [{\"line\": {\"colorbar\": {\"outlinewidth\": 0, \"ticks\": \"\"}}, \"type\": \"parcoords\"}], \"scatter\": [{\"marker\": {\"colorbar\": {\"outlinewidth\": 0, \"ticks\": \"\"}}, \"type\": \"scatter\"}], \"scatter3d\": [{\"line\": {\"colorbar\": {\"outlinewidth\": 0, \"ticks\": \"\"}}, \"marker\": {\"colorbar\": {\"outlinewidth\": 0, \"ticks\": \"\"}}, \"type\": \"scatter3d\"}], \"scattercarpet\": [{\"marker\": {\"colorbar\": {\"outlinewidth\": 0, \"ticks\": \"\"}}, \"type\": \"scattercarpet\"}], \"scattergeo\": [{\"marker\": {\"colorbar\": {\"outlinewidth\": 0, \"ticks\": \"\"}}, \"type\": \"scattergeo\"}], \"scattergl\": [{\"marker\": {\"colorbar\": {\"outlinewidth\": 0, \"ticks\": \"\"}}, \"type\": \"scattergl\"}], \"scattermapbox\": [{\"marker\": {\"colorbar\": {\"outlinewidth\": 0, \"ticks\": \"\"}}, \"type\": \"scattermapbox\"}], \"scatterpolar\": [{\"marker\": {\"colorbar\": {\"outlinewidth\": 0, \"ticks\": \"\"}}, \"type\": \"scatterpolar\"}], \"scatterpolargl\": [{\"marker\": {\"colorbar\": {\"outlinewidth\": 0, \"ticks\": \"\"}}, \"type\": \"scatterpolargl\"}], \"scatterternary\": [{\"marker\": {\"colorbar\": {\"outlinewidth\": 0, \"ticks\": \"\"}}, \"type\": \"scatterternary\"}], \"surface\": [{\"colorbar\": {\"outlinewidth\": 0, \"ticks\": \"\"}, \"colorscale\": [[0.0, \"#0d0887\"], [0.1111111111111111, \"#46039f\"], [0.2222222222222222, \"#7201a8\"], [0.3333333333333333, \"#9c179e\"], [0.4444444444444444, \"#bd3786\"], [0.5555555555555556, \"#d8576b\"], [0.6666666666666666, \"#ed7953\"], [0.7777777777777778, \"#fb9f3a\"], [0.8888888888888888, \"#fdca26\"], [1.0, \"#f0f921\"]], \"type\": \"surface\"}], \"table\": [{\"cells\": {\"fill\": {\"color\": \"#EBF0F8\"}, \"line\": {\"color\": \"white\"}}, \"header\": {\"fill\": {\"color\": \"#C8D4E3\"}, \"line\": {\"color\": \"white\"}}, \"type\": \"table\"}]}, \"layout\": {\"annotationdefaults\": {\"arrowcolor\": \"#2a3f5f\", \"arrowhead\": 0, \"arrowwidth\": 1}, \"colorscale\": {\"diverging\": [[0, \"#8e0152\"], [0.1, \"#c51b7d\"], [0.2, \"#de77ae\"], [0.3, \"#f1b6da\"], [0.4, \"#fde0ef\"], [0.5, \"#f7f7f7\"], [0.6, \"#e6f5d0\"], [0.7, \"#b8e186\"], [0.8, \"#7fbc41\"], [0.9, \"#4d9221\"], [1, \"#276419\"]], \"sequential\": [[0.0, \"#0d0887\"], [0.1111111111111111, \"#46039f\"], [0.2222222222222222, \"#7201a8\"], [0.3333333333333333, \"#9c179e\"], [0.4444444444444444, \"#bd3786\"], [0.5555555555555556, \"#d8576b\"], [0.6666666666666666, \"#ed7953\"], [0.7777777777777778, \"#fb9f3a\"], [0.8888888888888888, \"#fdca26\"], [1.0, \"#f0f921\"]], \"sequentialminus\": [[0.0, \"#0d0887\"], [0.1111111111111111, \"#46039f\"], [0.2222222222222222, \"#7201a8\"], [0.3333333333333333, \"#9c179e\"], [0.4444444444444444, \"#bd3786\"], [0.5555555555555556, \"#d8576b\"], [0.6666666666666666, \"#ed7953\"], [0.7777777777777778, \"#fb9f3a\"], [0.8888888888888888, \"#fdca26\"], [1.0, \"#f0f921\"]]}, \"colorway\": [\"#636efa\", \"#EF553B\", \"#00cc96\", \"#ab63fa\", \"#FFA15A\", \"#19d3f3\", \"#FF6692\", \"#B6E880\", \"#FF97FF\", \"#FECB52\"], \"font\": {\"color\": \"#2a3f5f\"}, \"geo\": {\"bgcolor\": \"white\", \"lakecolor\": \"white\", \"landcolor\": \"#E5ECF6\", \"showlakes\": true, \"showland\": true, \"subunitcolor\": \"white\"}, \"hoverlabel\": {\"align\": \"left\"}, \"hovermode\": \"closest\", \"mapbox\": {\"style\": \"light\"}, \"paper_bgcolor\": \"white\", \"plot_bgcolor\": \"#E5ECF6\", \"polar\": {\"angularaxis\": {\"gridcolor\": \"white\", \"linecolor\": \"white\", \"ticks\": \"\"}, \"bgcolor\": \"#E5ECF6\", \"radialaxis\": {\"gridcolor\": \"white\", \"linecolor\": \"white\", \"ticks\": \"\"}}, \"scene\": {\"xaxis\": {\"backgroundcolor\": \"#E5ECF6\", \"gridcolor\": \"white\", \"gridwidth\": 2, \"linecolor\": \"white\", \"showbackground\": true, \"ticks\": \"\", \"zerolinecolor\": \"white\"}, \"yaxis\": {\"backgroundcolor\": \"#E5ECF6\", \"gridcolor\": \"white\", \"gridwidth\": 2, \"linecolor\": \"white\", \"showbackground\": true, \"ticks\": \"\", \"zerolinecolor\": \"white\"}, \"zaxis\": {\"backgroundcolor\": \"#E5ECF6\", \"gridcolor\": \"white\", \"gridwidth\": 2, \"linecolor\": \"white\", \"showbackground\": true, \"ticks\": \"\", \"zerolinecolor\": \"white\"}}, \"shapedefaults\": {\"line\": {\"color\": \"#2a3f5f\"}}, \"ternary\": {\"aaxis\": {\"gridcolor\": \"white\", \"linecolor\": \"white\", \"ticks\": \"\"}, \"baxis\": {\"gridcolor\": \"white\", \"linecolor\": \"white\", \"ticks\": \"\"}, \"bgcolor\": \"#E5ECF6\", \"caxis\": {\"gridcolor\": \"white\", \"linecolor\": \"white\", \"ticks\": \"\"}}, \"title\": {\"x\": 0.05}, \"xaxis\": {\"automargin\": true, \"gridcolor\": \"white\", \"linecolor\": \"white\", \"ticks\": \"\", \"zerolinecolor\": \"white\", \"zerolinewidth\": 2}, \"yaxis\": {\"automargin\": true, \"gridcolor\": \"white\", \"linecolor\": \"white\", \"ticks\": \"\", \"zerolinecolor\": \"white\", \"zerolinewidth\": 2}}}, \"title\": {\"text\": \"No. of Data Scientist Jobs in States\"}},\n",
              "                        {\"responsive\": true}\n",
              "                    ).then(function(){\n",
              "                            \n",
              "var gd = document.getElementById('b269a10e-0ac9-41b6-9fbd-fd8fffcca485');\n",
              "var x = new MutationObserver(function (mutations, observer) {{\n",
              "        var display = window.getComputedStyle(gd).display;\n",
              "        if (!display || display === 'none') {{\n",
              "            console.log([gd, 'removed!']);\n",
              "            Plotly.purge(gd);\n",
              "            observer.disconnect();\n",
              "        }}\n",
              "}});\n",
              "\n",
              "// Listen for the removal of the full notebook cells\n",
              "var notebookContainer = gd.closest('#notebook-container');\n",
              "if (notebookContainer) {{\n",
              "    x.observe(notebookContainer, {childList: true});\n",
              "}}\n",
              "\n",
              "// Listen for the clearing of the current output cell\n",
              "var outputEl = gd.closest('.output');\n",
              "if (outputEl) {{\n",
              "    x.observe(outputEl, {childList: true});\n",
              "}}\n",
              "\n",
              "                        })\n",
              "                };\n",
              "                \n",
              "            </script>\n",
              "        </div>\n",
              "</body>\n",
              "</html>"
            ]
          },
          "metadata": {
            "tags": []
          }
        }
      ]
    },
    {
      "cell_type": "markdown",
      "metadata": {
        "id": "O2kF0xiCiq_W",
        "colab_type": "text"
      },
      "source": [
        "### From above geomap, we can conclude based on the dark coloured map that Michigan have highest job posting of Data Scientist jobs."
      ]
    },
    {
      "cell_type": "markdown",
      "metadata": {
        "id": "cUM0pJ_Eiq_W",
        "colab_type": "text"
      },
      "source": [
        "### 3.19 Which States have highest job posting of Data Analysts job?"
      ]
    },
    {
      "cell_type": "code",
      "metadata": {
        "colab_type": "code",
        "id": "EdFKdahVHFVi",
        "outputId": "0a3fad9e-eed5-496d-8708-6985ad9bea84",
        "colab": {
          "base_uri": "https://localhost:8080/",
          "height": 204
        }
      },
      "source": [
        "#select state, count(number) from scrape_data where typeofjob = \"Data Analyst\" group by state order by count(number) desc;\n",
        "ds4.head()"
      ],
      "execution_count": 0,
      "outputs": [
        {
          "output_type": "execute_result",
          "data": {
            "text/html": [
              "<div>\n",
              "<style scoped>\n",
              "    .dataframe tbody tr th:only-of-type {\n",
              "        vertical-align: middle;\n",
              "    }\n",
              "\n",
              "    .dataframe tbody tr th {\n",
              "        vertical-align: top;\n",
              "    }\n",
              "\n",
              "    .dataframe thead th {\n",
              "        text-align: right;\n",
              "    }\n",
              "</style>\n",
              "<table border=\"1\" class=\"dataframe\">\n",
              "  <thead>\n",
              "    <tr style=\"text-align: right;\">\n",
              "      <th></th>\n",
              "      <th>state</th>\n",
              "      <th>count</th>\n",
              "    </tr>\n",
              "  </thead>\n",
              "  <tbody>\n",
              "    <tr>\n",
              "      <th>0</th>\n",
              "      <td>NaN</td>\n",
              "      <td>34</td>\n",
              "    </tr>\n",
              "    <tr>\n",
              "      <th>1</th>\n",
              "      <td>MI</td>\n",
              "      <td>25</td>\n",
              "    </tr>\n",
              "    <tr>\n",
              "      <th>2</th>\n",
              "      <td>VA</td>\n",
              "      <td>11</td>\n",
              "    </tr>\n",
              "    <tr>\n",
              "      <th>3</th>\n",
              "      <td>MA</td>\n",
              "      <td>10</td>\n",
              "    </tr>\n",
              "    <tr>\n",
              "      <th>4</th>\n",
              "      <td>CA</td>\n",
              "      <td>9</td>\n",
              "    </tr>\n",
              "  </tbody>\n",
              "</table>\n",
              "</div>"
            ],
            "text/plain": [
              "  state  count\n",
              "0   NaN     34\n",
              "1    MI     25\n",
              "2    VA     11\n",
              "3    MA     10\n",
              "4    CA      9"
            ]
          },
          "metadata": {
            "tags": []
          },
          "execution_count": 174
        }
      ]
    },
    {
      "cell_type": "code",
      "metadata": {
        "colab_type": "code",
        "id": "ke5ztBZoQcVa",
        "outputId": "4b70e990-68a9-46d4-800b-0ec06c20afdc",
        "colab": {
          "base_uri": "https://localhost:8080/",
          "height": 542
        }
      },
      "source": [
        "import plotly.graph_objects as go\n",
        "fig = go.Figure(data=go.Choropleth(\n",
        "    locations=ds4['state'], # States\n",
        "    z = ds4['count'].astype(float), # Data to be color-coded 'count'\n",
        "    locationmode = 'USA-states', # set of locations match entries in `locations`\n",
        "    colorscale = 'Reds',\n",
        "    colorbar_title = \"Count of Jobs\",\n",
        "))\n",
        "\n",
        "fig.update_layout(\n",
        "    title_text = 'No. of Data Analysts Jobs in States',\n",
        "    geo_scope='usa', # limite map scope to USA\n",
        ")\n",
        "\n",
        "fig.show()"
      ],
      "execution_count": 0,
      "outputs": [
        {
          "output_type": "display_data",
          "data": {
            "text/html": [
              "<html>\n",
              "<head><meta charset=\"utf-8\" /></head>\n",
              "<body>\n",
              "    <div>\n",
              "            <script src=\"https://cdnjs.cloudflare.com/ajax/libs/mathjax/2.7.5/MathJax.js?config=TeX-AMS-MML_SVG\"></script><script type=\"text/javascript\">if (window.MathJax) {MathJax.Hub.Config({SVG: {font: \"STIX-Web\"}});}</script>\n",
              "                <script type=\"text/javascript\">window.PlotlyConfig = {MathJaxConfig: 'local'};</script>\n",
              "        <script src=\"https://cdn.plot.ly/plotly-latest.min.js\"></script>    \n",
              "            <div id=\"64ef3fcf-e607-4226-8452-2bf0c8309be4\" class=\"plotly-graph-div\" style=\"height:525px; width:100%;\"></div>\n",
              "            <script type=\"text/javascript\">\n",
              "                \n",
              "                    window.PLOTLYENV=window.PLOTLYENV || {};\n",
              "                    \n",
              "                if (document.getElementById(\"64ef3fcf-e607-4226-8452-2bf0c8309be4\")) {\n",
              "                    Plotly.newPlot(\n",
              "                        '64ef3fcf-e607-4226-8452-2bf0c8309be4',\n",
              "                        [{\"colorbar\": {\"title\": {\"text\": \"Count of Jobs\"}}, \"colorscale\": [[0.0, \"rgb(255,245,240)\"], [0.125, \"rgb(254,224,210)\"], [0.25, \"rgb(252,187,161)\"], [0.375, \"rgb(252,146,114)\"], [0.5, \"rgb(251,106,74)\"], [0.625, \"rgb(239,59,44)\"], [0.75, \"rgb(203,24,29)\"], [0.875, \"rgb(165,15,21)\"], [1.0, \"rgb(103,0,13)\"]], \"locationmode\": \"USA-states\", \"locations\": [null, \"MI\", \"VA\", \"MA\", \"CA\", \"NY\", \"IL\", \"IN\", \"MD\", \"TN\", \"DC\", \"IA\", \"GA\", \"AZ\", \"CT\", \"WA\", \"FL\", \"OH\", \"CO\", \"UT\", \"DE\", \"PA\", \"ON\", \"MN\"], \"type\": \"choropleth\", \"z\": [34.0, 25.0, 11.0, 10.0, 9.0, 7.0, 6.0, 4.0, 4.0, 4.0, 4.0, 3.0, 3.0, 3.0, 2.0, 2.0, 2.0, 1.0, 1.0, 1.0, 1.0, 1.0, 1.0, 1.0]}],\n",
              "                        {\"geo\": {\"scope\": \"usa\"}, \"template\": {\"data\": {\"bar\": [{\"error_x\": {\"color\": \"#2a3f5f\"}, \"error_y\": {\"color\": \"#2a3f5f\"}, \"marker\": {\"line\": {\"color\": \"#E5ECF6\", \"width\": 0.5}}, \"type\": \"bar\"}], \"barpolar\": [{\"marker\": {\"line\": {\"color\": \"#E5ECF6\", \"width\": 0.5}}, \"type\": \"barpolar\"}], \"carpet\": [{\"aaxis\": {\"endlinecolor\": \"#2a3f5f\", \"gridcolor\": \"white\", \"linecolor\": \"white\", \"minorgridcolor\": \"white\", \"startlinecolor\": \"#2a3f5f\"}, \"baxis\": {\"endlinecolor\": \"#2a3f5f\", \"gridcolor\": \"white\", \"linecolor\": \"white\", \"minorgridcolor\": \"white\", \"startlinecolor\": \"#2a3f5f\"}, \"type\": \"carpet\"}], \"choropleth\": [{\"colorbar\": {\"outlinewidth\": 0, \"ticks\": \"\"}, \"type\": \"choropleth\"}], \"contour\": [{\"colorbar\": {\"outlinewidth\": 0, \"ticks\": \"\"}, \"colorscale\": [[0.0, \"#0d0887\"], [0.1111111111111111, \"#46039f\"], [0.2222222222222222, \"#7201a8\"], [0.3333333333333333, \"#9c179e\"], [0.4444444444444444, \"#bd3786\"], [0.5555555555555556, \"#d8576b\"], [0.6666666666666666, \"#ed7953\"], [0.7777777777777778, \"#fb9f3a\"], [0.8888888888888888, \"#fdca26\"], [1.0, \"#f0f921\"]], \"type\": \"contour\"}], \"contourcarpet\": [{\"colorbar\": {\"outlinewidth\": 0, \"ticks\": \"\"}, \"type\": \"contourcarpet\"}], \"heatmap\": [{\"colorbar\": {\"outlinewidth\": 0, \"ticks\": \"\"}, \"colorscale\": [[0.0, \"#0d0887\"], [0.1111111111111111, \"#46039f\"], [0.2222222222222222, \"#7201a8\"], [0.3333333333333333, \"#9c179e\"], [0.4444444444444444, \"#bd3786\"], [0.5555555555555556, \"#d8576b\"], [0.6666666666666666, \"#ed7953\"], [0.7777777777777778, \"#fb9f3a\"], [0.8888888888888888, \"#fdca26\"], [1.0, \"#f0f921\"]], \"type\": \"heatmap\"}], \"heatmapgl\": [{\"colorbar\": {\"outlinewidth\": 0, \"ticks\": \"\"}, \"colorscale\": [[0.0, \"#0d0887\"], [0.1111111111111111, \"#46039f\"], [0.2222222222222222, \"#7201a8\"], [0.3333333333333333, \"#9c179e\"], [0.4444444444444444, \"#bd3786\"], [0.5555555555555556, \"#d8576b\"], [0.6666666666666666, \"#ed7953\"], [0.7777777777777778, \"#fb9f3a\"], [0.8888888888888888, \"#fdca26\"], [1.0, \"#f0f921\"]], \"type\": \"heatmapgl\"}], \"histogram\": [{\"marker\": {\"colorbar\": {\"outlinewidth\": 0, \"ticks\": \"\"}}, \"type\": \"histogram\"}], \"histogram2d\": [{\"colorbar\": {\"outlinewidth\": 0, \"ticks\": \"\"}, \"colorscale\": [[0.0, \"#0d0887\"], [0.1111111111111111, \"#46039f\"], [0.2222222222222222, \"#7201a8\"], [0.3333333333333333, \"#9c179e\"], [0.4444444444444444, \"#bd3786\"], [0.5555555555555556, \"#d8576b\"], [0.6666666666666666, \"#ed7953\"], [0.7777777777777778, \"#fb9f3a\"], [0.8888888888888888, \"#fdca26\"], [1.0, \"#f0f921\"]], \"type\": \"histogram2d\"}], \"histogram2dcontour\": [{\"colorbar\": {\"outlinewidth\": 0, \"ticks\": \"\"}, \"colorscale\": [[0.0, \"#0d0887\"], [0.1111111111111111, \"#46039f\"], [0.2222222222222222, \"#7201a8\"], [0.3333333333333333, \"#9c179e\"], [0.4444444444444444, \"#bd3786\"], [0.5555555555555556, \"#d8576b\"], [0.6666666666666666, \"#ed7953\"], [0.7777777777777778, \"#fb9f3a\"], [0.8888888888888888, \"#fdca26\"], [1.0, \"#f0f921\"]], \"type\": \"histogram2dcontour\"}], \"mesh3d\": [{\"colorbar\": {\"outlinewidth\": 0, \"ticks\": \"\"}, \"type\": \"mesh3d\"}], \"parcoords\": [{\"line\": {\"colorbar\": {\"outlinewidth\": 0, \"ticks\": \"\"}}, \"type\": \"parcoords\"}], \"scatter\": [{\"marker\": {\"colorbar\": {\"outlinewidth\": 0, \"ticks\": \"\"}}, \"type\": \"scatter\"}], \"scatter3d\": [{\"line\": {\"colorbar\": {\"outlinewidth\": 0, \"ticks\": \"\"}}, \"marker\": {\"colorbar\": {\"outlinewidth\": 0, \"ticks\": \"\"}}, \"type\": \"scatter3d\"}], \"scattercarpet\": [{\"marker\": {\"colorbar\": {\"outlinewidth\": 0, \"ticks\": \"\"}}, \"type\": \"scattercarpet\"}], \"scattergeo\": [{\"marker\": {\"colorbar\": {\"outlinewidth\": 0, \"ticks\": \"\"}}, \"type\": \"scattergeo\"}], \"scattergl\": [{\"marker\": {\"colorbar\": {\"outlinewidth\": 0, \"ticks\": \"\"}}, \"type\": \"scattergl\"}], \"scattermapbox\": [{\"marker\": {\"colorbar\": {\"outlinewidth\": 0, \"ticks\": \"\"}}, \"type\": \"scattermapbox\"}], \"scatterpolar\": [{\"marker\": {\"colorbar\": {\"outlinewidth\": 0, \"ticks\": \"\"}}, \"type\": \"scatterpolar\"}], \"scatterpolargl\": [{\"marker\": {\"colorbar\": {\"outlinewidth\": 0, \"ticks\": \"\"}}, \"type\": \"scatterpolargl\"}], \"scatterternary\": [{\"marker\": {\"colorbar\": {\"outlinewidth\": 0, \"ticks\": \"\"}}, \"type\": \"scatterternary\"}], \"surface\": [{\"colorbar\": {\"outlinewidth\": 0, \"ticks\": \"\"}, \"colorscale\": [[0.0, \"#0d0887\"], [0.1111111111111111, \"#46039f\"], [0.2222222222222222, \"#7201a8\"], [0.3333333333333333, \"#9c179e\"], [0.4444444444444444, \"#bd3786\"], [0.5555555555555556, \"#d8576b\"], [0.6666666666666666, \"#ed7953\"], [0.7777777777777778, \"#fb9f3a\"], [0.8888888888888888, \"#fdca26\"], [1.0, \"#f0f921\"]], \"type\": \"surface\"}], \"table\": [{\"cells\": {\"fill\": {\"color\": \"#EBF0F8\"}, \"line\": {\"color\": \"white\"}}, \"header\": {\"fill\": {\"color\": \"#C8D4E3\"}, \"line\": {\"color\": \"white\"}}, \"type\": \"table\"}]}, \"layout\": {\"annotationdefaults\": {\"arrowcolor\": \"#2a3f5f\", \"arrowhead\": 0, \"arrowwidth\": 1}, \"colorscale\": {\"diverging\": [[0, \"#8e0152\"], [0.1, \"#c51b7d\"], [0.2, \"#de77ae\"], [0.3, \"#f1b6da\"], [0.4, \"#fde0ef\"], [0.5, \"#f7f7f7\"], [0.6, \"#e6f5d0\"], [0.7, \"#b8e186\"], [0.8, \"#7fbc41\"], [0.9, \"#4d9221\"], [1, \"#276419\"]], \"sequential\": [[0.0, \"#0d0887\"], [0.1111111111111111, \"#46039f\"], [0.2222222222222222, \"#7201a8\"], [0.3333333333333333, \"#9c179e\"], [0.4444444444444444, \"#bd3786\"], [0.5555555555555556, \"#d8576b\"], [0.6666666666666666, \"#ed7953\"], [0.7777777777777778, \"#fb9f3a\"], [0.8888888888888888, \"#fdca26\"], [1.0, \"#f0f921\"]], \"sequentialminus\": [[0.0, \"#0d0887\"], [0.1111111111111111, \"#46039f\"], [0.2222222222222222, \"#7201a8\"], [0.3333333333333333, \"#9c179e\"], [0.4444444444444444, \"#bd3786\"], [0.5555555555555556, \"#d8576b\"], [0.6666666666666666, \"#ed7953\"], [0.7777777777777778, \"#fb9f3a\"], [0.8888888888888888, \"#fdca26\"], [1.0, \"#f0f921\"]]}, \"colorway\": [\"#636efa\", \"#EF553B\", \"#00cc96\", \"#ab63fa\", \"#FFA15A\", \"#19d3f3\", \"#FF6692\", \"#B6E880\", \"#FF97FF\", \"#FECB52\"], \"font\": {\"color\": \"#2a3f5f\"}, \"geo\": {\"bgcolor\": \"white\", \"lakecolor\": \"white\", \"landcolor\": \"#E5ECF6\", \"showlakes\": true, \"showland\": true, \"subunitcolor\": \"white\"}, \"hoverlabel\": {\"align\": \"left\"}, \"hovermode\": \"closest\", \"mapbox\": {\"style\": \"light\"}, \"paper_bgcolor\": \"white\", \"plot_bgcolor\": \"#E5ECF6\", \"polar\": {\"angularaxis\": {\"gridcolor\": \"white\", \"linecolor\": \"white\", \"ticks\": \"\"}, \"bgcolor\": \"#E5ECF6\", \"radialaxis\": {\"gridcolor\": \"white\", \"linecolor\": \"white\", \"ticks\": \"\"}}, \"scene\": {\"xaxis\": {\"backgroundcolor\": \"#E5ECF6\", \"gridcolor\": \"white\", \"gridwidth\": 2, \"linecolor\": \"white\", \"showbackground\": true, \"ticks\": \"\", \"zerolinecolor\": \"white\"}, \"yaxis\": {\"backgroundcolor\": \"#E5ECF6\", \"gridcolor\": \"white\", \"gridwidth\": 2, \"linecolor\": \"white\", \"showbackground\": true, \"ticks\": \"\", \"zerolinecolor\": \"white\"}, \"zaxis\": {\"backgroundcolor\": \"#E5ECF6\", \"gridcolor\": \"white\", \"gridwidth\": 2, \"linecolor\": \"white\", \"showbackground\": true, \"ticks\": \"\", \"zerolinecolor\": \"white\"}}, \"shapedefaults\": {\"line\": {\"color\": \"#2a3f5f\"}}, \"ternary\": {\"aaxis\": {\"gridcolor\": \"white\", \"linecolor\": \"white\", \"ticks\": \"\"}, \"baxis\": {\"gridcolor\": \"white\", \"linecolor\": \"white\", \"ticks\": \"\"}, \"bgcolor\": \"#E5ECF6\", \"caxis\": {\"gridcolor\": \"white\", \"linecolor\": \"white\", \"ticks\": \"\"}}, \"title\": {\"x\": 0.05}, \"xaxis\": {\"automargin\": true, \"gridcolor\": \"white\", \"linecolor\": \"white\", \"ticks\": \"\", \"zerolinecolor\": \"white\", \"zerolinewidth\": 2}, \"yaxis\": {\"automargin\": true, \"gridcolor\": \"white\", \"linecolor\": \"white\", \"ticks\": \"\", \"zerolinecolor\": \"white\", \"zerolinewidth\": 2}}}, \"title\": {\"text\": \"No. of Data Analysts Jobs in States\"}},\n",
              "                        {\"responsive\": true}\n",
              "                    ).then(function(){\n",
              "                            \n",
              "var gd = document.getElementById('64ef3fcf-e607-4226-8452-2bf0c8309be4');\n",
              "var x = new MutationObserver(function (mutations, observer) {{\n",
              "        var display = window.getComputedStyle(gd).display;\n",
              "        if (!display || display === 'none') {{\n",
              "            console.log([gd, 'removed!']);\n",
              "            Plotly.purge(gd);\n",
              "            observer.disconnect();\n",
              "        }}\n",
              "}});\n",
              "\n",
              "// Listen for the removal of the full notebook cells\n",
              "var notebookContainer = gd.closest('#notebook-container');\n",
              "if (notebookContainer) {{\n",
              "    x.observe(notebookContainer, {childList: true});\n",
              "}}\n",
              "\n",
              "// Listen for the clearing of the current output cell\n",
              "var outputEl = gd.closest('.output');\n",
              "if (outputEl) {{\n",
              "    x.observe(outputEl, {childList: true});\n",
              "}}\n",
              "\n",
              "                        })\n",
              "                };\n",
              "                \n",
              "            </script>\n",
              "        </div>\n",
              "</body>\n",
              "</html>"
            ]
          },
          "metadata": {
            "tags": []
          }
        }
      ]
    },
    {
      "cell_type": "markdown",
      "metadata": {
        "id": "h1ZiOjLyiq_X",
        "colab_type": "text"
      },
      "source": [
        "### From above geomap, we can conclude based on the dark coloured map that Michigan have highest job posting of Data Analysts jobs."
      ]
    },
    {
      "cell_type": "markdown",
      "metadata": {
        "id": "lkFlfruhiq_X",
        "colab_type": "text"
      },
      "source": [
        "### 3.20 Which State pays highest for Data Scientist job?"
      ]
    },
    {
      "cell_type": "code",
      "metadata": {
        "colab_type": "code",
        "id": "U5UWXU-WHK1y",
        "outputId": "b2fd3cfa-3d9d-4894-b239-5e2edb438fa7",
        "colab": {
          "base_uri": "https://localhost:8080/",
          "height": 204
        }
      },
      "source": [
        "#select state, min(minsalary), max(maxsalary) from scrape_data where typeofjob = \"Data Scientist\" and minsalary > 0 and maxsalary > 0 group by state order by max(maxsalary) desc;\n",
        "ds6.head()"
      ],
      "execution_count": 0,
      "outputs": [
        {
          "output_type": "execute_result",
          "data": {
            "text/html": [
              "<div>\n",
              "<style scoped>\n",
              "    .dataframe tbody tr th:only-of-type {\n",
              "        vertical-align: middle;\n",
              "    }\n",
              "\n",
              "    .dataframe tbody tr th {\n",
              "        vertical-align: top;\n",
              "    }\n",
              "\n",
              "    .dataframe thead th {\n",
              "        text-align: right;\n",
              "    }\n",
              "</style>\n",
              "<table border=\"1\" class=\"dataframe\">\n",
              "  <thead>\n",
              "    <tr style=\"text-align: right;\">\n",
              "      <th></th>\n",
              "      <th>state</th>\n",
              "      <th>min(misalary)</th>\n",
              "      <th>max(maxsalary)</th>\n",
              "    </tr>\n",
              "  </thead>\n",
              "  <tbody>\n",
              "    <tr>\n",
              "      <th>0</th>\n",
              "      <td>NaN</td>\n",
              "      <td>45775</td>\n",
              "      <td>306000</td>\n",
              "    </tr>\n",
              "    <tr>\n",
              "      <th>1</th>\n",
              "      <td>PA</td>\n",
              "      <td>59000</td>\n",
              "      <td>210000</td>\n",
              "    </tr>\n",
              "    <tr>\n",
              "      <th>2</th>\n",
              "      <td>OR</td>\n",
              "      <td>48000</td>\n",
              "      <td>200000</td>\n",
              "    </tr>\n",
              "    <tr>\n",
              "      <th>3</th>\n",
              "      <td>VA</td>\n",
              "      <td>51000</td>\n",
              "      <td>170000</td>\n",
              "    </tr>\n",
              "    <tr>\n",
              "      <th>4</th>\n",
              "      <td>MA</td>\n",
              "      <td>65000</td>\n",
              "      <td>170000</td>\n",
              "    </tr>\n",
              "  </tbody>\n",
              "</table>\n",
              "</div>"
            ],
            "text/plain": [
              "  state  min(misalary)  max(maxsalary)\n",
              "0   NaN          45775          306000\n",
              "1    PA          59000          210000\n",
              "2    OR          48000          200000\n",
              "3    VA          51000          170000\n",
              "4    MA          65000          170000"
            ]
          },
          "metadata": {
            "tags": []
          },
          "execution_count": 176
        }
      ]
    },
    {
      "cell_type": "code",
      "metadata": {
        "colab_type": "code",
        "id": "a62yQo8oSAuI",
        "outputId": "699a2b59-f9d6-44f1-e245-51eca9cdb5d2",
        "colab": {
          "base_uri": "https://localhost:8080/",
          "height": 542
        }
      },
      "source": [
        "import plotly.graph_objects as go\n",
        "fig = go.Figure(data=go.Choropleth(\n",
        "    locations=ds6['state'], # States\n",
        "    z = ds6['max(maxsalary)'].astype(float), # Data to be color-coded 'count'\n",
        "    locationmode = 'USA-states', # set of locations match entries in `locations`\n",
        "    colorscale = 'Blues',\n",
        "    colorbar_title = \"Count of Jobs\",\n",
        "))\n",
        "\n",
        "fig.update_layout(\n",
        "    geo_scope='usa', # limite map scope to USA\n",
        "    title_text = 'State paying highest salaries of Data Scientist paid in the United States',\n",
        ")\n",
        "\n",
        "fig.show()"
      ],
      "execution_count": 0,
      "outputs": [
        {
          "output_type": "display_data",
          "data": {
            "text/html": [
              "<html>\n",
              "<head><meta charset=\"utf-8\" /></head>\n",
              "<body>\n",
              "    <div>\n",
              "            <script src=\"https://cdnjs.cloudflare.com/ajax/libs/mathjax/2.7.5/MathJax.js?config=TeX-AMS-MML_SVG\"></script><script type=\"text/javascript\">if (window.MathJax) {MathJax.Hub.Config({SVG: {font: \"STIX-Web\"}});}</script>\n",
              "                <script type=\"text/javascript\">window.PlotlyConfig = {MathJaxConfig: 'local'};</script>\n",
              "        <script src=\"https://cdn.plot.ly/plotly-latest.min.js\"></script>    \n",
              "            <div id=\"9d82146c-d1ae-4bcc-aeb8-8d6702d42989\" class=\"plotly-graph-div\" style=\"height:525px; width:100%;\"></div>\n",
              "            <script type=\"text/javascript\">\n",
              "                \n",
              "                    window.PLOTLYENV=window.PLOTLYENV || {};\n",
              "                    \n",
              "                if (document.getElementById(\"9d82146c-d1ae-4bcc-aeb8-8d6702d42989\")) {\n",
              "                    Plotly.newPlot(\n",
              "                        '9d82146c-d1ae-4bcc-aeb8-8d6702d42989',\n",
              "                        [{\"colorbar\": {\"title\": {\"text\": \"Count of Jobs\"}}, \"colorscale\": [[0.0, \"rgb(247,251,255)\"], [0.125, \"rgb(222,235,247)\"], [0.25, \"rgb(198,219,239)\"], [0.375, \"rgb(158,202,225)\"], [0.5, \"rgb(107,174,214)\"], [0.625, \"rgb(66,146,198)\"], [0.75, \"rgb(33,113,181)\"], [0.875, \"rgb(8,81,156)\"], [1.0, \"rgb(8,48,107)\"]], \"locationmode\": \"USA-states\", \"locations\": [null, \"PA\", \"OR\", \"VA\", \"MA\", \"CA\", \"NC\", \"CO\", \"MD\", \"DC\", \"IL\", \"NY\", \"MI\", \"KY\", \"TX\", \"IN\", \"NJ\", \"MO\", \"OH\", \"NM\", \"FL\", \"WA\", \"UT\", \"WI\", \"TN\", \"GA\", \"SC\", \"IA\", \"MN\", \"RI\"], \"type\": \"choropleth\", \"z\": [306000.0, 210000.0, 200000.0, 170000.0, 170000.0, 170000.0, 160000.0, 160000.0, 160000.0, 160000.0, 160000.0, 150000.0, 150000.0, 150000.0, 140000.0, 140000.0, 140000.0, 140000.0, 140000.0, 140000.0, 130000.0, 130000.0, 120000.0, 110000.0, 110000.0, 110000.0, 110000.0, 100000.0, 88000.0, 83000.0]}],\n",
              "                        {\"geo\": {\"scope\": \"usa\"}, \"template\": {\"data\": {\"bar\": [{\"error_x\": {\"color\": \"#2a3f5f\"}, \"error_y\": {\"color\": \"#2a3f5f\"}, \"marker\": {\"line\": {\"color\": \"#E5ECF6\", \"width\": 0.5}}, \"type\": \"bar\"}], \"barpolar\": [{\"marker\": {\"line\": {\"color\": \"#E5ECF6\", \"width\": 0.5}}, \"type\": \"barpolar\"}], \"carpet\": [{\"aaxis\": {\"endlinecolor\": \"#2a3f5f\", \"gridcolor\": \"white\", \"linecolor\": \"white\", \"minorgridcolor\": \"white\", \"startlinecolor\": \"#2a3f5f\"}, \"baxis\": {\"endlinecolor\": \"#2a3f5f\", \"gridcolor\": \"white\", \"linecolor\": \"white\", \"minorgridcolor\": \"white\", \"startlinecolor\": \"#2a3f5f\"}, \"type\": \"carpet\"}], \"choropleth\": [{\"colorbar\": {\"outlinewidth\": 0, \"ticks\": \"\"}, \"type\": \"choropleth\"}], \"contour\": [{\"colorbar\": {\"outlinewidth\": 0, \"ticks\": \"\"}, \"colorscale\": [[0.0, \"#0d0887\"], [0.1111111111111111, \"#46039f\"], [0.2222222222222222, \"#7201a8\"], [0.3333333333333333, \"#9c179e\"], [0.4444444444444444, \"#bd3786\"], [0.5555555555555556, \"#d8576b\"], [0.6666666666666666, \"#ed7953\"], [0.7777777777777778, \"#fb9f3a\"], [0.8888888888888888, \"#fdca26\"], [1.0, \"#f0f921\"]], \"type\": \"contour\"}], \"contourcarpet\": [{\"colorbar\": {\"outlinewidth\": 0, \"ticks\": \"\"}, \"type\": \"contourcarpet\"}], \"heatmap\": [{\"colorbar\": {\"outlinewidth\": 0, \"ticks\": \"\"}, \"colorscale\": [[0.0, \"#0d0887\"], [0.1111111111111111, \"#46039f\"], [0.2222222222222222, \"#7201a8\"], [0.3333333333333333, \"#9c179e\"], [0.4444444444444444, \"#bd3786\"], [0.5555555555555556, \"#d8576b\"], [0.6666666666666666, \"#ed7953\"], [0.7777777777777778, \"#fb9f3a\"], [0.8888888888888888, \"#fdca26\"], [1.0, \"#f0f921\"]], \"type\": \"heatmap\"}], \"heatmapgl\": [{\"colorbar\": {\"outlinewidth\": 0, \"ticks\": \"\"}, \"colorscale\": [[0.0, \"#0d0887\"], [0.1111111111111111, \"#46039f\"], [0.2222222222222222, \"#7201a8\"], [0.3333333333333333, \"#9c179e\"], [0.4444444444444444, \"#bd3786\"], [0.5555555555555556, \"#d8576b\"], [0.6666666666666666, \"#ed7953\"], [0.7777777777777778, \"#fb9f3a\"], [0.8888888888888888, \"#fdca26\"], [1.0, \"#f0f921\"]], \"type\": \"heatmapgl\"}], \"histogram\": [{\"marker\": {\"colorbar\": {\"outlinewidth\": 0, \"ticks\": \"\"}}, \"type\": \"histogram\"}], \"histogram2d\": [{\"colorbar\": {\"outlinewidth\": 0, \"ticks\": \"\"}, \"colorscale\": [[0.0, \"#0d0887\"], [0.1111111111111111, \"#46039f\"], [0.2222222222222222, \"#7201a8\"], [0.3333333333333333, \"#9c179e\"], [0.4444444444444444, \"#bd3786\"], [0.5555555555555556, \"#d8576b\"], [0.6666666666666666, \"#ed7953\"], [0.7777777777777778, \"#fb9f3a\"], [0.8888888888888888, \"#fdca26\"], [1.0, \"#f0f921\"]], \"type\": \"histogram2d\"}], \"histogram2dcontour\": [{\"colorbar\": {\"outlinewidth\": 0, \"ticks\": \"\"}, \"colorscale\": [[0.0, \"#0d0887\"], [0.1111111111111111, \"#46039f\"], [0.2222222222222222, \"#7201a8\"], [0.3333333333333333, \"#9c179e\"], [0.4444444444444444, \"#bd3786\"], [0.5555555555555556, \"#d8576b\"], [0.6666666666666666, \"#ed7953\"], [0.7777777777777778, \"#fb9f3a\"], [0.8888888888888888, \"#fdca26\"], [1.0, \"#f0f921\"]], \"type\": \"histogram2dcontour\"}], \"mesh3d\": [{\"colorbar\": {\"outlinewidth\": 0, \"ticks\": \"\"}, \"type\": \"mesh3d\"}], \"parcoords\": [{\"line\": {\"colorbar\": {\"outlinewidth\": 0, \"ticks\": \"\"}}, \"type\": \"parcoords\"}], \"scatter\": [{\"marker\": {\"colorbar\": {\"outlinewidth\": 0, \"ticks\": \"\"}}, \"type\": \"scatter\"}], \"scatter3d\": [{\"line\": {\"colorbar\": {\"outlinewidth\": 0, \"ticks\": \"\"}}, \"marker\": {\"colorbar\": {\"outlinewidth\": 0, \"ticks\": \"\"}}, \"type\": \"scatter3d\"}], \"scattercarpet\": [{\"marker\": {\"colorbar\": {\"outlinewidth\": 0, \"ticks\": \"\"}}, \"type\": \"scattercarpet\"}], \"scattergeo\": [{\"marker\": {\"colorbar\": {\"outlinewidth\": 0, \"ticks\": \"\"}}, \"type\": \"scattergeo\"}], \"scattergl\": [{\"marker\": {\"colorbar\": {\"outlinewidth\": 0, \"ticks\": \"\"}}, \"type\": \"scattergl\"}], \"scattermapbox\": [{\"marker\": {\"colorbar\": {\"outlinewidth\": 0, \"ticks\": \"\"}}, \"type\": \"scattermapbox\"}], \"scatterpolar\": [{\"marker\": {\"colorbar\": {\"outlinewidth\": 0, \"ticks\": \"\"}}, \"type\": \"scatterpolar\"}], \"scatterpolargl\": [{\"marker\": {\"colorbar\": {\"outlinewidth\": 0, \"ticks\": \"\"}}, \"type\": \"scatterpolargl\"}], \"scatterternary\": [{\"marker\": {\"colorbar\": {\"outlinewidth\": 0, \"ticks\": \"\"}}, \"type\": \"scatterternary\"}], \"surface\": [{\"colorbar\": {\"outlinewidth\": 0, \"ticks\": \"\"}, \"colorscale\": [[0.0, \"#0d0887\"], [0.1111111111111111, \"#46039f\"], [0.2222222222222222, \"#7201a8\"], [0.3333333333333333, \"#9c179e\"], [0.4444444444444444, \"#bd3786\"], [0.5555555555555556, \"#d8576b\"], [0.6666666666666666, \"#ed7953\"], [0.7777777777777778, \"#fb9f3a\"], [0.8888888888888888, \"#fdca26\"], [1.0, \"#f0f921\"]], \"type\": \"surface\"}], \"table\": [{\"cells\": {\"fill\": {\"color\": \"#EBF0F8\"}, \"line\": {\"color\": \"white\"}}, \"header\": {\"fill\": {\"color\": \"#C8D4E3\"}, \"line\": {\"color\": \"white\"}}, \"type\": \"table\"}]}, \"layout\": {\"annotationdefaults\": {\"arrowcolor\": \"#2a3f5f\", \"arrowhead\": 0, \"arrowwidth\": 1}, \"colorscale\": {\"diverging\": [[0, \"#8e0152\"], [0.1, \"#c51b7d\"], [0.2, \"#de77ae\"], [0.3, \"#f1b6da\"], [0.4, \"#fde0ef\"], [0.5, \"#f7f7f7\"], [0.6, \"#e6f5d0\"], [0.7, \"#b8e186\"], [0.8, \"#7fbc41\"], [0.9, \"#4d9221\"], [1, \"#276419\"]], \"sequential\": [[0.0, \"#0d0887\"], [0.1111111111111111, \"#46039f\"], [0.2222222222222222, \"#7201a8\"], [0.3333333333333333, \"#9c179e\"], [0.4444444444444444, \"#bd3786\"], [0.5555555555555556, \"#d8576b\"], [0.6666666666666666, \"#ed7953\"], [0.7777777777777778, \"#fb9f3a\"], [0.8888888888888888, \"#fdca26\"], [1.0, \"#f0f921\"]], \"sequentialminus\": [[0.0, \"#0d0887\"], [0.1111111111111111, \"#46039f\"], [0.2222222222222222, \"#7201a8\"], [0.3333333333333333, \"#9c179e\"], [0.4444444444444444, \"#bd3786\"], [0.5555555555555556, \"#d8576b\"], [0.6666666666666666, \"#ed7953\"], [0.7777777777777778, \"#fb9f3a\"], [0.8888888888888888, \"#fdca26\"], [1.0, \"#f0f921\"]]}, \"colorway\": [\"#636efa\", \"#EF553B\", \"#00cc96\", \"#ab63fa\", \"#FFA15A\", \"#19d3f3\", \"#FF6692\", \"#B6E880\", \"#FF97FF\", \"#FECB52\"], \"font\": {\"color\": \"#2a3f5f\"}, \"geo\": {\"bgcolor\": \"white\", \"lakecolor\": \"white\", \"landcolor\": \"#E5ECF6\", \"showlakes\": true, \"showland\": true, \"subunitcolor\": \"white\"}, \"hoverlabel\": {\"align\": \"left\"}, \"hovermode\": \"closest\", \"mapbox\": {\"style\": \"light\"}, \"paper_bgcolor\": \"white\", \"plot_bgcolor\": \"#E5ECF6\", \"polar\": {\"angularaxis\": {\"gridcolor\": \"white\", \"linecolor\": \"white\", \"ticks\": \"\"}, \"bgcolor\": \"#E5ECF6\", \"radialaxis\": {\"gridcolor\": \"white\", \"linecolor\": \"white\", \"ticks\": \"\"}}, \"scene\": {\"xaxis\": {\"backgroundcolor\": \"#E5ECF6\", \"gridcolor\": \"white\", \"gridwidth\": 2, \"linecolor\": \"white\", \"showbackground\": true, \"ticks\": \"\", \"zerolinecolor\": \"white\"}, \"yaxis\": {\"backgroundcolor\": \"#E5ECF6\", \"gridcolor\": \"white\", \"gridwidth\": 2, \"linecolor\": \"white\", \"showbackground\": true, \"ticks\": \"\", \"zerolinecolor\": \"white\"}, \"zaxis\": {\"backgroundcolor\": \"#E5ECF6\", \"gridcolor\": \"white\", \"gridwidth\": 2, \"linecolor\": \"white\", \"showbackground\": true, \"ticks\": \"\", \"zerolinecolor\": \"white\"}}, \"shapedefaults\": {\"line\": {\"color\": \"#2a3f5f\"}}, \"ternary\": {\"aaxis\": {\"gridcolor\": \"white\", \"linecolor\": \"white\", \"ticks\": \"\"}, \"baxis\": {\"gridcolor\": \"white\", \"linecolor\": \"white\", \"ticks\": \"\"}, \"bgcolor\": \"#E5ECF6\", \"caxis\": {\"gridcolor\": \"white\", \"linecolor\": \"white\", \"ticks\": \"\"}}, \"title\": {\"x\": 0.05}, \"xaxis\": {\"automargin\": true, \"gridcolor\": \"white\", \"linecolor\": \"white\", \"ticks\": \"\", \"zerolinecolor\": \"white\", \"zerolinewidth\": 2}, \"yaxis\": {\"automargin\": true, \"gridcolor\": \"white\", \"linecolor\": \"white\", \"ticks\": \"\", \"zerolinecolor\": \"white\", \"zerolinewidth\": 2}}}, \"title\": {\"text\": \"State paying highest salaries of Data Scientist paid in the United States\"}},\n",
              "                        {\"responsive\": true}\n",
              "                    ).then(function(){\n",
              "                            \n",
              "var gd = document.getElementById('9d82146c-d1ae-4bcc-aeb8-8d6702d42989');\n",
              "var x = new MutationObserver(function (mutations, observer) {{\n",
              "        var display = window.getComputedStyle(gd).display;\n",
              "        if (!display || display === 'none') {{\n",
              "            console.log([gd, 'removed!']);\n",
              "            Plotly.purge(gd);\n",
              "            observer.disconnect();\n",
              "        }}\n",
              "}});\n",
              "\n",
              "// Listen for the removal of the full notebook cells\n",
              "var notebookContainer = gd.closest('#notebook-container');\n",
              "if (notebookContainer) {{\n",
              "    x.observe(notebookContainer, {childList: true});\n",
              "}}\n",
              "\n",
              "// Listen for the clearing of the current output cell\n",
              "var outputEl = gd.closest('.output');\n",
              "if (outputEl) {{\n",
              "    x.observe(outputEl, {childList: true});\n",
              "}}\n",
              "\n",
              "                        })\n",
              "                };\n",
              "                \n",
              "            </script>\n",
              "        </div>\n",
              "</body>\n",
              "</html>"
            ]
          },
          "metadata": {
            "tags": []
          }
        }
      ]
    },
    {
      "cell_type": "markdown",
      "metadata": {
        "id": "Q1_24Iwgiq_Y",
        "colab_type": "text"
      },
      "source": [
        "### Again from our geomap, it can be concluded that Pennsylvania has current job opening for Data Scientist with highest paying salary."
      ]
    },
    {
      "cell_type": "markdown",
      "metadata": {
        "id": "kf0Tv8eLiq_Z",
        "colab_type": "text"
      },
      "source": [
        "### 3.21 Which State pays highest for Data Analysts job?"
      ]
    },
    {
      "cell_type": "code",
      "metadata": {
        "colab_type": "code",
        "id": "dEniNwgoHMXl",
        "outputId": "acd4b6a5-d1d6-4791-ce3b-6472d3e970e3",
        "colab": {
          "base_uri": "https://localhost:8080/",
          "height": 204
        }
      },
      "source": [
        "#select state, min(minsalary), max(maxsalary) from scrape_data where typeofjob = \"Data Analyst\" and minsalary > 0 and maxsalary > 0 group by state order by max(maxsalary) desc;\n",
        "ds7.head()"
      ],
      "execution_count": 0,
      "outputs": [
        {
          "output_type": "execute_result",
          "data": {
            "text/html": [
              "<div>\n",
              "<style scoped>\n",
              "    .dataframe tbody tr th:only-of-type {\n",
              "        vertical-align: middle;\n",
              "    }\n",
              "\n",
              "    .dataframe tbody tr th {\n",
              "        vertical-align: top;\n",
              "    }\n",
              "\n",
              "    .dataframe thead th {\n",
              "        text-align: right;\n",
              "    }\n",
              "</style>\n",
              "<table border=\"1\" class=\"dataframe\">\n",
              "  <thead>\n",
              "    <tr style=\"text-align: right;\">\n",
              "      <th></th>\n",
              "      <th>state</th>\n",
              "      <th>min(minsalary)</th>\n",
              "      <th>max(maxsalary)</th>\n",
              "    </tr>\n",
              "  </thead>\n",
              "  <tbody>\n",
              "    <tr>\n",
              "      <th>0</th>\n",
              "      <td>NaN</td>\n",
              "      <td>27000</td>\n",
              "      <td>173200</td>\n",
              "    </tr>\n",
              "    <tr>\n",
              "      <th>1</th>\n",
              "      <td>MA</td>\n",
              "      <td>70000</td>\n",
              "      <td>170000</td>\n",
              "    </tr>\n",
              "    <tr>\n",
              "      <th>2</th>\n",
              "      <td>CA</td>\n",
              "      <td>55000</td>\n",
              "      <td>160000</td>\n",
              "    </tr>\n",
              "    <tr>\n",
              "      <th>3</th>\n",
              "      <td>IL</td>\n",
              "      <td>75000</td>\n",
              "      <td>140000</td>\n",
              "    </tr>\n",
              "    <tr>\n",
              "      <th>4</th>\n",
              "      <td>OH</td>\n",
              "      <td>92000</td>\n",
              "      <td>130000</td>\n",
              "    </tr>\n",
              "  </tbody>\n",
              "</table>\n",
              "</div>"
            ],
            "text/plain": [
              "  state  min(minsalary)  max(maxsalary)\n",
              "0   NaN           27000          173200\n",
              "1    MA           70000          170000\n",
              "2    CA           55000          160000\n",
              "3    IL           75000          140000\n",
              "4    OH           92000          130000"
            ]
          },
          "metadata": {
            "tags": []
          },
          "execution_count": 178
        }
      ]
    },
    {
      "cell_type": "code",
      "metadata": {
        "colab_type": "code",
        "id": "3Js0XcZISe9j",
        "outputId": "9954c4d5-ce26-4aa4-a694-440ae7255d4d",
        "colab": {
          "base_uri": "https://localhost:8080/",
          "height": 542
        }
      },
      "source": [
        "import plotly.graph_objects as go\n",
        "fig = go.Figure(data=go.Choropleth(\n",
        "    locations=ds7['state'], # States\n",
        "    z = ds7['max(maxsalary)'].astype(float), # Data to be color-coded 'count'\n",
        "    locationmode = 'USA-states', # set of locations match entries in `locations`\n",
        "    colorscale = 'Blues',\n",
        "    colorbar_title = \"Count of Jobs\",\n",
        "))\n",
        "\n",
        "fig.update_layout(\n",
        "    geo_scope='usa', # limite map scope to USA\n",
        "    title_text = 'State paying highest salaries of Data Analyst paid in the United States',\n",
        ")\n",
        "\n",
        "fig.show()"
      ],
      "execution_count": 0,
      "outputs": [
        {
          "output_type": "display_data",
          "data": {
            "text/html": [
              "<html>\n",
              "<head><meta charset=\"utf-8\" /></head>\n",
              "<body>\n",
              "    <div>\n",
              "            <script src=\"https://cdnjs.cloudflare.com/ajax/libs/mathjax/2.7.5/MathJax.js?config=TeX-AMS-MML_SVG\"></script><script type=\"text/javascript\">if (window.MathJax) {MathJax.Hub.Config({SVG: {font: \"STIX-Web\"}});}</script>\n",
              "                <script type=\"text/javascript\">window.PlotlyConfig = {MathJaxConfig: 'local'};</script>\n",
              "        <script src=\"https://cdn.plot.ly/plotly-latest.min.js\"></script>    \n",
              "            <div id=\"29fd9f9e-5e9a-4145-9313-2d2a4850c2b7\" class=\"plotly-graph-div\" style=\"height:525px; width:100%;\"></div>\n",
              "            <script type=\"text/javascript\">\n",
              "                \n",
              "                    window.PLOTLYENV=window.PLOTLYENV || {};\n",
              "                    \n",
              "                if (document.getElementById(\"29fd9f9e-5e9a-4145-9313-2d2a4850c2b7\")) {\n",
              "                    Plotly.newPlot(\n",
              "                        '29fd9f9e-5e9a-4145-9313-2d2a4850c2b7',\n",
              "                        [{\"colorbar\": {\"title\": {\"text\": \"Count of Jobs\"}}, \"colorscale\": [[0.0, \"rgb(247,251,255)\"], [0.125, \"rgb(222,235,247)\"], [0.25, \"rgb(198,219,239)\"], [0.375, \"rgb(158,202,225)\"], [0.5, \"rgb(107,174,214)\"], [0.625, \"rgb(66,146,198)\"], [0.75, \"rgb(33,113,181)\"], [0.875, \"rgb(8,81,156)\"], [1.0, \"rgb(8,48,107)\"]], \"locationmode\": \"USA-states\", \"locations\": [null, \"MA\", \"CA\", \"IL\", \"OH\", \"GA\", \"UT\", \"NY\", \"MI\", \"VA\", \"DC\", \"FL\", \"IA\", \"CT\", \"TN\", \"CO\", \"MD\", \"IN\", \"WA\", \"AZ\"], \"type\": \"choropleth\", \"z\": [173200.0, 170000.0, 160000.0, 140000.0, 130000.0, 130000.0, 120000.0, 120000.0, 120000.0, 120000.0, 120000.0, 120000.0, 110000.0, 100000.0, 100000.0, 100000.0, 96000.0, 94000.0, 90000.0, 90000.0]}],\n",
              "                        {\"geo\": {\"scope\": \"usa\"}, \"template\": {\"data\": {\"bar\": [{\"error_x\": {\"color\": \"#2a3f5f\"}, \"error_y\": {\"color\": \"#2a3f5f\"}, \"marker\": {\"line\": {\"color\": \"#E5ECF6\", \"width\": 0.5}}, \"type\": \"bar\"}], \"barpolar\": [{\"marker\": {\"line\": {\"color\": \"#E5ECF6\", \"width\": 0.5}}, \"type\": \"barpolar\"}], \"carpet\": [{\"aaxis\": {\"endlinecolor\": \"#2a3f5f\", \"gridcolor\": \"white\", \"linecolor\": \"white\", \"minorgridcolor\": \"white\", \"startlinecolor\": \"#2a3f5f\"}, \"baxis\": {\"endlinecolor\": \"#2a3f5f\", \"gridcolor\": \"white\", \"linecolor\": \"white\", \"minorgridcolor\": \"white\", \"startlinecolor\": \"#2a3f5f\"}, \"type\": \"carpet\"}], \"choropleth\": [{\"colorbar\": {\"outlinewidth\": 0, \"ticks\": \"\"}, \"type\": \"choropleth\"}], \"contour\": [{\"colorbar\": {\"outlinewidth\": 0, \"ticks\": \"\"}, \"colorscale\": [[0.0, \"#0d0887\"], [0.1111111111111111, \"#46039f\"], [0.2222222222222222, \"#7201a8\"], [0.3333333333333333, \"#9c179e\"], [0.4444444444444444, \"#bd3786\"], [0.5555555555555556, \"#d8576b\"], [0.6666666666666666, \"#ed7953\"], [0.7777777777777778, \"#fb9f3a\"], [0.8888888888888888, \"#fdca26\"], [1.0, \"#f0f921\"]], \"type\": \"contour\"}], \"contourcarpet\": [{\"colorbar\": {\"outlinewidth\": 0, \"ticks\": \"\"}, \"type\": \"contourcarpet\"}], \"heatmap\": [{\"colorbar\": {\"outlinewidth\": 0, \"ticks\": \"\"}, \"colorscale\": [[0.0, \"#0d0887\"], [0.1111111111111111, \"#46039f\"], [0.2222222222222222, \"#7201a8\"], [0.3333333333333333, \"#9c179e\"], [0.4444444444444444, \"#bd3786\"], [0.5555555555555556, \"#d8576b\"], [0.6666666666666666, \"#ed7953\"], [0.7777777777777778, \"#fb9f3a\"], [0.8888888888888888, \"#fdca26\"], [1.0, \"#f0f921\"]], \"type\": \"heatmap\"}], \"heatmapgl\": [{\"colorbar\": {\"outlinewidth\": 0, \"ticks\": \"\"}, \"colorscale\": [[0.0, \"#0d0887\"], [0.1111111111111111, \"#46039f\"], [0.2222222222222222, \"#7201a8\"], [0.3333333333333333, \"#9c179e\"], [0.4444444444444444, \"#bd3786\"], [0.5555555555555556, \"#d8576b\"], [0.6666666666666666, \"#ed7953\"], [0.7777777777777778, \"#fb9f3a\"], [0.8888888888888888, \"#fdca26\"], [1.0, \"#f0f921\"]], \"type\": \"heatmapgl\"}], \"histogram\": [{\"marker\": {\"colorbar\": {\"outlinewidth\": 0, \"ticks\": \"\"}}, \"type\": \"histogram\"}], \"histogram2d\": [{\"colorbar\": {\"outlinewidth\": 0, \"ticks\": \"\"}, \"colorscale\": [[0.0, \"#0d0887\"], [0.1111111111111111, \"#46039f\"], [0.2222222222222222, \"#7201a8\"], [0.3333333333333333, \"#9c179e\"], [0.4444444444444444, \"#bd3786\"], [0.5555555555555556, \"#d8576b\"], [0.6666666666666666, \"#ed7953\"], [0.7777777777777778, \"#fb9f3a\"], [0.8888888888888888, \"#fdca26\"], [1.0, \"#f0f921\"]], \"type\": \"histogram2d\"}], \"histogram2dcontour\": [{\"colorbar\": {\"outlinewidth\": 0, \"ticks\": \"\"}, \"colorscale\": [[0.0, \"#0d0887\"], [0.1111111111111111, \"#46039f\"], [0.2222222222222222, \"#7201a8\"], [0.3333333333333333, \"#9c179e\"], [0.4444444444444444, \"#bd3786\"], [0.5555555555555556, \"#d8576b\"], [0.6666666666666666, \"#ed7953\"], [0.7777777777777778, \"#fb9f3a\"], [0.8888888888888888, \"#fdca26\"], [1.0, \"#f0f921\"]], \"type\": \"histogram2dcontour\"}], \"mesh3d\": [{\"colorbar\": {\"outlinewidth\": 0, \"ticks\": \"\"}, \"type\": \"mesh3d\"}], \"parcoords\": [{\"line\": {\"colorbar\": {\"outlinewidth\": 0, \"ticks\": \"\"}}, \"type\": \"parcoords\"}], \"scatter\": [{\"marker\": {\"colorbar\": {\"outlinewidth\": 0, \"ticks\": \"\"}}, \"type\": \"scatter\"}], \"scatter3d\": [{\"line\": {\"colorbar\": {\"outlinewidth\": 0, \"ticks\": \"\"}}, \"marker\": {\"colorbar\": {\"outlinewidth\": 0, \"ticks\": \"\"}}, \"type\": \"scatter3d\"}], \"scattercarpet\": [{\"marker\": {\"colorbar\": {\"outlinewidth\": 0, \"ticks\": \"\"}}, \"type\": \"scattercarpet\"}], \"scattergeo\": [{\"marker\": {\"colorbar\": {\"outlinewidth\": 0, \"ticks\": \"\"}}, \"type\": \"scattergeo\"}], \"scattergl\": [{\"marker\": {\"colorbar\": {\"outlinewidth\": 0, \"ticks\": \"\"}}, \"type\": \"scattergl\"}], \"scattermapbox\": [{\"marker\": {\"colorbar\": {\"outlinewidth\": 0, \"ticks\": \"\"}}, \"type\": \"scattermapbox\"}], \"scatterpolar\": [{\"marker\": {\"colorbar\": {\"outlinewidth\": 0, \"ticks\": \"\"}}, \"type\": \"scatterpolar\"}], \"scatterpolargl\": [{\"marker\": {\"colorbar\": {\"outlinewidth\": 0, \"ticks\": \"\"}}, \"type\": \"scatterpolargl\"}], \"scatterternary\": [{\"marker\": {\"colorbar\": {\"outlinewidth\": 0, \"ticks\": \"\"}}, \"type\": \"scatterternary\"}], \"surface\": [{\"colorbar\": {\"outlinewidth\": 0, \"ticks\": \"\"}, \"colorscale\": [[0.0, \"#0d0887\"], [0.1111111111111111, \"#46039f\"], [0.2222222222222222, \"#7201a8\"], [0.3333333333333333, \"#9c179e\"], [0.4444444444444444, \"#bd3786\"], [0.5555555555555556, \"#d8576b\"], [0.6666666666666666, \"#ed7953\"], [0.7777777777777778, \"#fb9f3a\"], [0.8888888888888888, \"#fdca26\"], [1.0, \"#f0f921\"]], \"type\": \"surface\"}], \"table\": [{\"cells\": {\"fill\": {\"color\": \"#EBF0F8\"}, \"line\": {\"color\": \"white\"}}, \"header\": {\"fill\": {\"color\": \"#C8D4E3\"}, \"line\": {\"color\": \"white\"}}, \"type\": \"table\"}]}, \"layout\": {\"annotationdefaults\": {\"arrowcolor\": \"#2a3f5f\", \"arrowhead\": 0, \"arrowwidth\": 1}, \"colorscale\": {\"diverging\": [[0, \"#8e0152\"], [0.1, \"#c51b7d\"], [0.2, \"#de77ae\"], [0.3, \"#f1b6da\"], [0.4, \"#fde0ef\"], [0.5, \"#f7f7f7\"], [0.6, \"#e6f5d0\"], [0.7, \"#b8e186\"], [0.8, \"#7fbc41\"], [0.9, \"#4d9221\"], [1, \"#276419\"]], \"sequential\": [[0.0, \"#0d0887\"], [0.1111111111111111, \"#46039f\"], [0.2222222222222222, \"#7201a8\"], [0.3333333333333333, \"#9c179e\"], [0.4444444444444444, \"#bd3786\"], [0.5555555555555556, \"#d8576b\"], [0.6666666666666666, \"#ed7953\"], [0.7777777777777778, \"#fb9f3a\"], [0.8888888888888888, \"#fdca26\"], [1.0, \"#f0f921\"]], \"sequentialminus\": [[0.0, \"#0d0887\"], [0.1111111111111111, \"#46039f\"], [0.2222222222222222, \"#7201a8\"], [0.3333333333333333, \"#9c179e\"], [0.4444444444444444, \"#bd3786\"], [0.5555555555555556, \"#d8576b\"], [0.6666666666666666, \"#ed7953\"], [0.7777777777777778, \"#fb9f3a\"], [0.8888888888888888, \"#fdca26\"], [1.0, \"#f0f921\"]]}, \"colorway\": [\"#636efa\", \"#EF553B\", \"#00cc96\", \"#ab63fa\", \"#FFA15A\", \"#19d3f3\", \"#FF6692\", \"#B6E880\", \"#FF97FF\", \"#FECB52\"], \"font\": {\"color\": \"#2a3f5f\"}, \"geo\": {\"bgcolor\": \"white\", \"lakecolor\": \"white\", \"landcolor\": \"#E5ECF6\", \"showlakes\": true, \"showland\": true, \"subunitcolor\": \"white\"}, \"hoverlabel\": {\"align\": \"left\"}, \"hovermode\": \"closest\", \"mapbox\": {\"style\": \"light\"}, \"paper_bgcolor\": \"white\", \"plot_bgcolor\": \"#E5ECF6\", \"polar\": {\"angularaxis\": {\"gridcolor\": \"white\", \"linecolor\": \"white\", \"ticks\": \"\"}, \"bgcolor\": \"#E5ECF6\", \"radialaxis\": {\"gridcolor\": \"white\", \"linecolor\": \"white\", \"ticks\": \"\"}}, \"scene\": {\"xaxis\": {\"backgroundcolor\": \"#E5ECF6\", \"gridcolor\": \"white\", \"gridwidth\": 2, \"linecolor\": \"white\", \"showbackground\": true, \"ticks\": \"\", \"zerolinecolor\": \"white\"}, \"yaxis\": {\"backgroundcolor\": \"#E5ECF6\", \"gridcolor\": \"white\", \"gridwidth\": 2, \"linecolor\": \"white\", \"showbackground\": true, \"ticks\": \"\", \"zerolinecolor\": \"white\"}, \"zaxis\": {\"backgroundcolor\": \"#E5ECF6\", \"gridcolor\": \"white\", \"gridwidth\": 2, \"linecolor\": \"white\", \"showbackground\": true, \"ticks\": \"\", \"zerolinecolor\": \"white\"}}, \"shapedefaults\": {\"line\": {\"color\": \"#2a3f5f\"}}, \"ternary\": {\"aaxis\": {\"gridcolor\": \"white\", \"linecolor\": \"white\", \"ticks\": \"\"}, \"baxis\": {\"gridcolor\": \"white\", \"linecolor\": \"white\", \"ticks\": \"\"}, \"bgcolor\": \"#E5ECF6\", \"caxis\": {\"gridcolor\": \"white\", \"linecolor\": \"white\", \"ticks\": \"\"}}, \"title\": {\"x\": 0.05}, \"xaxis\": {\"automargin\": true, \"gridcolor\": \"white\", \"linecolor\": \"white\", \"ticks\": \"\", \"zerolinecolor\": \"white\", \"zerolinewidth\": 2}, \"yaxis\": {\"automargin\": true, \"gridcolor\": \"white\", \"linecolor\": \"white\", \"ticks\": \"\", \"zerolinecolor\": \"white\", \"zerolinewidth\": 2}}}, \"title\": {\"text\": \"State paying highest salaries of Data Analyst paid in the United States\"}},\n",
              "                        {\"responsive\": true}\n",
              "                    ).then(function(){\n",
              "                            \n",
              "var gd = document.getElementById('29fd9f9e-5e9a-4145-9313-2d2a4850c2b7');\n",
              "var x = new MutationObserver(function (mutations, observer) {{\n",
              "        var display = window.getComputedStyle(gd).display;\n",
              "        if (!display || display === 'none') {{\n",
              "            console.log([gd, 'removed!']);\n",
              "            Plotly.purge(gd);\n",
              "            observer.disconnect();\n",
              "        }}\n",
              "}});\n",
              "\n",
              "// Listen for the removal of the full notebook cells\n",
              "var notebookContainer = gd.closest('#notebook-container');\n",
              "if (notebookContainer) {{\n",
              "    x.observe(notebookContainer, {childList: true});\n",
              "}}\n",
              "\n",
              "// Listen for the clearing of the current output cell\n",
              "var outputEl = gd.closest('.output');\n",
              "if (outputEl) {{\n",
              "    x.observe(outputEl, {childList: true});\n",
              "}}\n",
              "\n",
              "                        })\n",
              "                };\n",
              "                \n",
              "            </script>\n",
              "        </div>\n",
              "</body>\n",
              "</html>"
            ]
          },
          "metadata": {
            "tags": []
          }
        }
      ]
    },
    {
      "cell_type": "code",
      "metadata": {
        "colab_type": "code",
        "id": "ZUCW-pZ0SmPE",
        "colab": {}
      },
      "source": [
        "### Again from our geomap, it can be concluded that Massachusetts has current job opening for Data Analysts with highest paying salary."
      ],
      "execution_count": 0,
      "outputs": []
    },
    {
      "cell_type": "markdown",
      "metadata": {
        "id": "OcyJ0--Hjwag",
        "colab_type": "text"
      },
      "source": [
        "### 3.22 Is there a cloud requirement? If yes, which cloud plaforms skill is required comparatively more?"
      ]
    },
    {
      "cell_type": "code",
      "metadata": {
        "id": "FAmZJJBAj6Z0",
        "colab_type": "code",
        "outputId": "eb5e02de-a71a-4cba-92cb-87f2d8ade8a4",
        "colab": {
          "base_uri": "https://localhost:8080/",
          "height": 142
        }
      },
      "source": [
        "# initialize list of lists for cloud\n",
        "cloudskillset_data = [['azure', 85], ['aws', 191], ['googlecloud', 33]] \n",
        "# Create the pandas DataFrame \n",
        "cloudskillset_data = pd.DataFrame(cloudskillset_data, columns = ['SkillSet', 'Number']) \n",
        "cloudskillset_data = cloudskillset_data.sort_values(by = ['Number'], ascending=True)\n",
        "# print dataframe. \n",
        "cloudskillset_data "
      ],
      "execution_count": 0,
      "outputs": [
        {
          "output_type": "execute_result",
          "data": {
            "text/html": [
              "<div>\n",
              "<style scoped>\n",
              "    .dataframe tbody tr th:only-of-type {\n",
              "        vertical-align: middle;\n",
              "    }\n",
              "\n",
              "    .dataframe tbody tr th {\n",
              "        vertical-align: top;\n",
              "    }\n",
              "\n",
              "    .dataframe thead th {\n",
              "        text-align: right;\n",
              "    }\n",
              "</style>\n",
              "<table border=\"1\" class=\"dataframe\">\n",
              "  <thead>\n",
              "    <tr style=\"text-align: right;\">\n",
              "      <th></th>\n",
              "      <th>SkillSet</th>\n",
              "      <th>Number</th>\n",
              "    </tr>\n",
              "  </thead>\n",
              "  <tbody>\n",
              "    <tr>\n",
              "      <th>2</th>\n",
              "      <td>googlecloud</td>\n",
              "      <td>33</td>\n",
              "    </tr>\n",
              "    <tr>\n",
              "      <th>0</th>\n",
              "      <td>azure</td>\n",
              "      <td>85</td>\n",
              "    </tr>\n",
              "    <tr>\n",
              "      <th>1</th>\n",
              "      <td>aws</td>\n",
              "      <td>191</td>\n",
              "    </tr>\n",
              "  </tbody>\n",
              "</table>\n",
              "</div>"
            ],
            "text/plain": [
              "      SkillSet  Number\n",
              "2  googlecloud      33\n",
              "0        azure      85\n",
              "1          aws     191"
            ]
          },
          "metadata": {
            "tags": []
          },
          "execution_count": 181
        }
      ]
    },
    {
      "cell_type": "code",
      "metadata": {
        "id": "SPYl44zlkImQ",
        "colab_type": "code",
        "outputId": "31c0fd86-0951-4357-ca88-ee5dba1f4f5a",
        "colab": {
          "base_uri": "https://localhost:8080/",
          "height": 862
        }
      },
      "source": [
        "# Pie chart, where the slices will be ordered and plotted counter-clockwise:\n",
        "labels = 'aws', 'azure', 'googlecloud'\n",
        "sizes = [191, 85, 33]\n",
        "explode = (0.1, 0, 0)  # only \"explode\" the 1st slice (i.e. 'Hogs')\n",
        "\n",
        "fig1, ax1 = plt.subplots()\n",
        "ax1.pie(sizes, explode=explode, labels=labels, autopct='%1.1f%%',\n",
        "        shadow=True, startangle=90)\n",
        "ax1.axis('equal')  # Equal aspect ratio ensures that pie is drawn as a circle.\n",
        "plt.title('Cloud plaform requirements')\n",
        "plt.show()"
      ],
      "execution_count": 0,
      "outputs": [
        {
          "output_type": "display_data",
          "data": {
            "image/png": "[encoded data removed]",
            "text/plain": [
              "<Figure size 1080x1080 with 1 Axes>"
            ]
          },
          "metadata": {
            "tags": []
          }
        }
      ]
    },
    {
      "cell_type": "markdown",
      "metadata": {
        "id": "3gqoIE0ekZP7",
        "colab_type": "text"
      },
      "source": [
        "From analysis, we can conclude that there is definite requirement of cloud skillset. \n",
        "### AWS cloud platform skill is asked comparatively more than Azure and Google cloud services."
      ]
    },
    {
      "cell_type": "markdown",
      "metadata": {
        "id": "9_Cr43Ucr5-d",
        "colab_type": "text"
      },
      "source": [
        "### CONCLUSION\n",
        "In conclusion, we were able to successfully scrape the jobsites for significant data.  Equally important, we were able to create a data frame of the scraped data.  A comprehensive analysis was completed on three jobsites - **Monster.com, indeed.com and simplyhired.com, **and impactful insights were derived.\n",
        "Our cleaned dataset has **1,385 observations**.  We were able to add 29 different features to the original data set after initial examination and quick analyses performed.\n",
        "**From our analysis, we can conclude that there are a total of 1240 unique job postings extracted in this dataset.**  **The highest jot title requested is the job title of a Data Scientist with 831 requests followed by Data Engineer with 212 requests.**  The highest number of jobs posted are of Data Scientist with total contribution of 62%, followed by Data Engineer with 17% and then by Data Analyst with 10% contribution of the total postings.\n",
        "**The state with the highest job posting of Data Scientist is Michigan.  However, this result is biased because it is based on location proximity.** We can also conclude that Data Scientist is the highest subtitle jobs posted.\n",
        "**We determined that there are 40 different states in the United States that have requested Data Scientist or data scientist related jobs.  From the 40 different states, we can conclude that the state of Michigan has the highest number of jobs (117 jobs) posted followed by the states of Virginia and New York, respectively.**\n",
        "\n",
        "**The job title of Data Scientist has the highest number of jobs posted in the state of Michigan.**  Approximately 75% of the jobs posted are of Data Scientist positions.  **The minimum salary in Michigan is 32,500 US dollars with an average of nearly 100,000 US Dollars.** Large proportion of jobs posted offer salaries between minimum and mean salary range.\n",
        "**The cities in the state of Michigan that have postings of Data Scientists or related to Data Scientist are Detroit, Dearborn, Ann Arbor, Saint Joseph, Grand Rapids and Southfield. We can also determine that the highest job postings are from the cities Detroit, Dearborn and Ann Arbor; respectively.**\n",
        "\n",
        "We analysed the state with second highest job posting which is Virginia and observed a similar trend. **The minimum salary of Data Scientist job in Virginia is approximately 42,000 US Dollars, which is higher than the minimum salary of Michigan, approximately 32,000 US Dollars.**\n",
        "\n",
        "**We can also conclude from our analysis that the top 3 paying jobs are AI/ ML, followed by Data Scientist and Data Engineers.**\n",
        "\n"
      ]
    },
    {
      "cell_type": "code",
      "metadata": {
        "id": "EfsjypUjuKl-",
        "colab_type": "code",
        "colab": {}
      },
      "source": [
        ""
      ],
      "execution_count": 0,
      "outputs": []
    }
  ]
}