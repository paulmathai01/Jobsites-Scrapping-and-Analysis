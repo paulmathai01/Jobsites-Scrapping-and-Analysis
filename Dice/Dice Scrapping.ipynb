{
 "cells": [
  {
   "cell_type": "code",
   "execution_count": 11,
   "metadata": {},
   "outputs": [],
   "source": [
    "\n",
    "from scrapy import Spider\n",
    "import indeed\n",
    "from scrapy.selector import Selector\n",
    "from selenium import webdriver\n",
    "from scrapy.http import TextResponse\n",
    "import scrapy\n",
    "\n",
    "\n",
    "class IndeedSpider(Spider):\n",
    "    name = 'indeed'\n",
    "\n",
    "    allowed_domains = [\"http://www.dice.com/\"]\n",
    "\n",
    "    s1 = 'https://www.dice.com/jobs/q-data_scientist-limit-30-l-New_York%2C_NY-radius-30-startPage-1-limit-30-jobs?searchid=291607343849'\n",
    "\n",
    "    start_urls = [s1]\n",
    "\n",
    "    def __init__(self):\n",
    "        self.driver = webdriver.Chrome()\n",
    "\n",
    "    def parse(self, response):\n",
    "\n",
    "        self.driver.get(response.url)\n",
    "        urls = []\n",
    "\n",
    "        for i in range(1,20):\n",
    "        \n",
    "            response = TextResponse(url=self.driver.current_url, body=self.driver.page_source, encoding='utf-8')\n",
    "            self.driver.implicitly_wait(10)\n",
    "\n",
    "            for j in range(1, 31):\n",
    "                result = response.xpath('//*[@class=\"col-md-9\"]/div[1]/div['+str(j)+']/h3/a/@href')\n",
    "                urls.extend(result)\n",
    "\n",
    "            next_page = self.driver.find_element_by_xpath('//*[@title=\"Go to next page\"]')\n",
    "            next_page.click()"
   ]
  },
  {
   "cell_type": "code",
   "execution_count": 12,
   "metadata": {},
   "outputs": [
    {
     "ename": "NameError",
     "evalue": "name 'urls' is not defined",
     "output_type": "error",
     "traceback": [
      "\u001b[0;31m---------------------------------------------------------------------------\u001b[0m",
      "\u001b[0;31mNameError\u001b[0m                                 Traceback (most recent call last)",
      "\u001b[0;32m<ipython-input-12-2f943fcd0470>\u001b[0m in \u001b[0;36m<module>\u001b[0;34m()\u001b[0m\n\u001b[0;32m----> 1\u001b[0;31m \u001b[0;32mfor\u001b[0m \u001b[0mhref\u001b[0m \u001b[0;32min\u001b[0m \u001b[0murls\u001b[0m\u001b[0;34m:\u001b[0m\u001b[0;34m\u001b[0m\u001b[0m\n\u001b[0m\u001b[1;32m      2\u001b[0m     \u001b[0mprint\u001b[0m \u001b[0;34m(\u001b[0m\u001b[0mhref\u001b[0m\u001b[0;34m)\u001b[0m\u001b[0;34m\u001b[0m\u001b[0m\n\u001b[1;32m      3\u001b[0m     \u001b[0murl\u001b[0m \u001b[0;34m=\u001b[0m \u001b[0mhref\u001b[0m\u001b[0;34m.\u001b[0m\u001b[0mextract\u001b[0m\u001b[0;34m(\u001b[0m\u001b[0;34m)\u001b[0m\u001b[0;34m\u001b[0m\u001b[0m\n\u001b[1;32m      4\u001b[0m     \u001b[0mself\u001b[0m\u001b[0;34m.\u001b[0m\u001b[0mdriver\u001b[0m\u001b[0;34m.\u001b[0m\u001b[0mget\u001b[0m\u001b[0;34m(\u001b[0m\u001b[0murl\u001b[0m\u001b[0;34m)\u001b[0m\u001b[0;34m\u001b[0m\u001b[0m\n\u001b[1;32m      5\u001b[0m     \u001b[0mresponse\u001b[0m \u001b[0;34m=\u001b[0m \u001b[0mTextResponse\u001b[0m\u001b[0;34m(\u001b[0m\u001b[0murl\u001b[0m\u001b[0;34m=\u001b[0m\u001b[0mself\u001b[0m\u001b[0;34m.\u001b[0m\u001b[0mdriver\u001b[0m\u001b[0;34m.\u001b[0m\u001b[0mcurrent_url\u001b[0m\u001b[0;34m,\u001b[0m \u001b[0mbody\u001b[0m\u001b[0;34m=\u001b[0m\u001b[0mself\u001b[0m\u001b[0;34m.\u001b[0m\u001b[0mdriver\u001b[0m\u001b[0;34m.\u001b[0m\u001b[0mpage_source\u001b[0m\u001b[0;34m,\u001b[0m \u001b[0mencoding\u001b[0m\u001b[0;34m=\u001b[0m\u001b[0;34m'utf-8'\u001b[0m\u001b[0;34m)\u001b[0m\u001b[0;34m\u001b[0m\u001b[0m\n",
      "\u001b[0;31mNameError\u001b[0m: name 'urls' is not defined"
     ]
    }
   ],
   "source": [
    "        for href in urls:\n",
    "            print (href)\n",
    "            url = href.extract()\n",
    "            self.driver.get(url)\n",
    "            response = TextResponse(url=self.driver.current_url, body=self.driver.page_source, encoding='utf-8')\n",
    "            item = IndeedItem()\n",
    "\n",
    "            for sel in response.xpath('//div[@class=\"col-md-5 col-lg-6\"]'):\n",
    "                item['job_title'] = sel.xpath('//div[@class=\"col-md-5 col-lg-6\"]/h1/text()').extract()\n",
    "                item['location'] = sel.xpath('//div[@class=\"col-md-5 col-lg-6\"]/ul/li[2]/text()').extract()\n",
    "                item['company_name'] = sel.xpath('//div[@class=\"col-md-5 col-lg-6\"]/ul/li[1]/a/text()').extract()\n",
    "\n",
    "            for sel_1 in response.xpath('//*[@id=\"bd\"]/div/div[1]'):\n",
    "                item['job_type'] = sel_1.xpath('//div[2]/div/div[2]/span/text()').extract()\n",
    "                item['job_salary'] = sel_1.xpath('//div[3]/div/div[2]/span/text()').extract()\n",
    "\n",
    "\n",
    "\n",
    "        self.driver.close()"
   ]
  },
  {
   "cell_type": "code",
   "execution_count": null,
   "metadata": {},
   "outputs": [],
   "source": []
  },
  {
   "cell_type": "code",
   "execution_count": null,
   "metadata": {},
   "outputs": [],
   "source": []
  }
 ],
 "metadata": {
  "kernelspec": {
   "display_name": "Python 3",
   "language": "python",
   "name": "python3"
  },
  "language_info": {
   "codemirror_mode": {
    "name": "ipython",
    "version": 3
   },
   "file_extension": ".py",
   "mimetype": "text/x-python",
   "name": "python",
   "nbconvert_exporter": "python",
   "pygments_lexer": "ipython3",
   "version": "3.6.3"
  }
 },
 "nbformat": 4,
 "nbformat_minor": 4
}
